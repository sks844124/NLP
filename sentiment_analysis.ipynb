{
  "nbformat": 4,
  "nbformat_minor": 0,
  "metadata": {
    "colab": {
      "name": "sentiment_analysis.ipynb",
      "provenance": []
    },
    "kernelspec": {
      "name": "python3",
      "display_name": "Python 3"
    },
    "language_info": {
      "name": "python"
    },
    "accelerator": "GPU"
  },
  "cells": [
    {
      "cell_type": "code",
      "execution_count": null,
      "metadata": {
        "id": "gEG2kJX4vg_0"
      },
      "outputs": [],
      "source": [
        "# DataFrame\n",
        "import pandas as pd\n",
        "\n",
        "# Matplot\n",
        "import matplotlib.pyplot as plt\n",
        "%matplotlib inline\n",
        "\n",
        "# Scikit-learn\n",
        "from sklearn.model_selection import train_test_split\n",
        "from sklearn.preprocessing import LabelEncoder\n",
        "from sklearn.metrics import confusion_matrix, classification_report, accuracy_score\n",
        "from sklearn.manifold import TSNE\n",
        "from sklearn.feature_extraction.text import TfidfVectorizer\n",
        "\n",
        "# Keras\n",
        "from keras.preprocessing.text import Tokenizer\n",
        "from keras.preprocessing.sequence import pad_sequences\n",
        "from keras.models import Sequential\n",
        "from keras.layers import Activation, Dense, Dropout, Embedding, Flatten, Conv1D, MaxPooling1D, LSTM\n",
        "from keras import utils\n",
        "from keras.callbacks import ReduceLROnPlateau, EarlyStopping\n",
        "\n",
        "# nltk\n",
        "import nltk\n",
        "from nltk.corpus import stopwords\n",
        "from  nltk.stem import SnowballStemmer\n",
        "\n",
        "# Word2vec\n",
        "import gensim\n",
        "\n",
        "# Utility\n",
        "import re\n",
        "import numpy as np\n",
        "import os\n",
        "from collections import Counter\n",
        "import logging\n",
        "import time\n",
        "import pickle\n",
        "import itertools\n",
        "\n",
        "# Set log\n",
        "logging.basicConfig(format='%(asctime)s : %(levelname)s : %(message)s', level=logging.INFO)"
      ]
    },
    {
      "cell_type": "code",
      "source": [
        "nltk.download('stopwords')"
      ],
      "metadata": {
        "colab": {
          "base_uri": "https://localhost:8080/"
        },
        "id": "IJEIJoLMvtwy",
        "outputId": "bcb9175f-0384-4726-b4a9-6a6b92db9f31"
      },
      "execution_count": null,
      "outputs": [
        {
          "output_type": "stream",
          "name": "stdout",
          "text": [
            "[nltk_data] Downloading package stopwords to /root/nltk_data...\n",
            "[nltk_data]   Unzipping corpora/stopwords.zip.\n"
          ]
        },
        {
          "output_type": "execute_result",
          "data": {
            "text/plain": [
              "True"
            ]
          },
          "metadata": {},
          "execution_count": 2
        }
      ]
    },
    {
      "cell_type": "code",
      "source": [
        "# DATASET\n",
        "DATASET_COLUMNS = [\"target\", \"ids\", \"date\", \"flag\", \"user\", \"text\"]\n",
        "DATASET_ENCODING = \"ISO-8859-1\"\n",
        "TRAIN_SIZE = 0.8\n",
        "\n",
        "# TEXT CLENAING\n",
        "TEXT_CLEANING_RE = \"@\\S+|https?:\\S+|http?:\\S|[^A-Za-z0-9]+\"\n",
        "\n",
        "# WORD2VEC \n",
        "W2V_SIZE = 300\n",
        "W2V_WINDOW = 7\n",
        "W2V_EPOCH = 32\n",
        "W2V_MIN_COUNT = 10\n",
        "\n",
        "# KERAS\n",
        "SEQUENCE_LENGTH = 300\n",
        "EPOCHS = 8\n",
        "BATCH_SIZE = 1024\n",
        "\n",
        "# SENTIMENT\n",
        "POSITIVE = \"POSITIVE\"\n",
        "NEGATIVE = \"NEGATIVE\"\n",
        "NEUTRAL = \"NEUTRAL\"\n",
        "SENTIMENT_THRESHOLDS = (0.4, 0.7)\n",
        "\n",
        "# EXPORT\n",
        "KERAS_MODEL = \"model.h5\"\n",
        "WORD2VEC_MODEL = \"model.w2v\"\n",
        "TOKENIZER_MODEL = \"tokenizer.pkl\"\n",
        "ENCODER_MODEL = \"encoder.pkl\""
      ],
      "metadata": {
        "id": "jstDAC1Qv76H"
      },
      "execution_count": null,
      "outputs": []
    },
    {
      "cell_type": "code",
      "source": [
        "from google.colab import drive\n",
        "drive.mount('/content/drive')"
      ],
      "metadata": {
        "id": "J3xqOpRywKxH",
        "colab": {
          "base_uri": "https://localhost:8080/"
        },
        "outputId": "57fb2040-c110-440b-a647-9b34378c7ac7"
      },
      "execution_count": null,
      "outputs": [
        {
          "output_type": "stream",
          "name": "stdout",
          "text": [
            "Mounted at /content/drive\n"
          ]
        }
      ]
    },
    {
      "cell_type": "code",
      "source": [
        "df=pd.read_csv(r\"/content/drive/MyDrive/Colab Notebooks/training.csv\",encoding=DATASET_ENCODING , names=DATASET_COLUMNS)"
      ],
      "metadata": {
        "id": "-Uvk1vaBz7HY"
      },
      "execution_count": null,
      "outputs": []
    },
    {
      "cell_type": "code",
      "source": [
        "df.head()"
      ],
      "metadata": {
        "colab": {
          "base_uri": "https://localhost:8080/",
          "height": 206
        },
        "id": "1wMVvqgu0K_u",
        "outputId": "e2db8c83-aa83-4d4f-f409-d20ce3692861"
      },
      "execution_count": null,
      "outputs": [
        {
          "output_type": "execute_result",
          "data": {
            "text/plain": [
              "   target         ids                          date      flag  \\\n",
              "0       0  1467810369  Mon Apr 06 22:19:45 PDT 2009  NO_QUERY   \n",
              "1       0  1467810672  Mon Apr 06 22:19:49 PDT 2009  NO_QUERY   \n",
              "2       0  1467810917  Mon Apr 06 22:19:53 PDT 2009  NO_QUERY   \n",
              "3       0  1467811184  Mon Apr 06 22:19:57 PDT 2009  NO_QUERY   \n",
              "4       0  1467811193  Mon Apr 06 22:19:57 PDT 2009  NO_QUERY   \n",
              "\n",
              "              user                                               text  \n",
              "0  _TheSpecialOne_  @switchfoot http://twitpic.com/2y1zl - Awww, t...  \n",
              "1    scotthamilton  is upset that he can't update his Facebook by ...  \n",
              "2         mattycus  @Kenichan I dived many times for the ball. Man...  \n",
              "3          ElleCTF    my whole body feels itchy and like its on fire   \n",
              "4           Karoli  @nationwideclass no, it's not behaving at all....  "
            ],
            "text/html": [
              "\n",
              "  <div id=\"df-b6437e81-0377-40ab-a19d-a6fd2e24f220\">\n",
              "    <div class=\"colab-df-container\">\n",
              "      <div>\n",
              "<style scoped>\n",
              "    .dataframe tbody tr th:only-of-type {\n",
              "        vertical-align: middle;\n",
              "    }\n",
              "\n",
              "    .dataframe tbody tr th {\n",
              "        vertical-align: top;\n",
              "    }\n",
              "\n",
              "    .dataframe thead th {\n",
              "        text-align: right;\n",
              "    }\n",
              "</style>\n",
              "<table border=\"1\" class=\"dataframe\">\n",
              "  <thead>\n",
              "    <tr style=\"text-align: right;\">\n",
              "      <th></th>\n",
              "      <th>target</th>\n",
              "      <th>ids</th>\n",
              "      <th>date</th>\n",
              "      <th>flag</th>\n",
              "      <th>user</th>\n",
              "      <th>text</th>\n",
              "    </tr>\n",
              "  </thead>\n",
              "  <tbody>\n",
              "    <tr>\n",
              "      <th>0</th>\n",
              "      <td>0</td>\n",
              "      <td>1467810369</td>\n",
              "      <td>Mon Apr 06 22:19:45 PDT 2009</td>\n",
              "      <td>NO_QUERY</td>\n",
              "      <td>_TheSpecialOne_</td>\n",
              "      <td>@switchfoot http://twitpic.com/2y1zl - Awww, t...</td>\n",
              "    </tr>\n",
              "    <tr>\n",
              "      <th>1</th>\n",
              "      <td>0</td>\n",
              "      <td>1467810672</td>\n",
              "      <td>Mon Apr 06 22:19:49 PDT 2009</td>\n",
              "      <td>NO_QUERY</td>\n",
              "      <td>scotthamilton</td>\n",
              "      <td>is upset that he can't update his Facebook by ...</td>\n",
              "    </tr>\n",
              "    <tr>\n",
              "      <th>2</th>\n",
              "      <td>0</td>\n",
              "      <td>1467810917</td>\n",
              "      <td>Mon Apr 06 22:19:53 PDT 2009</td>\n",
              "      <td>NO_QUERY</td>\n",
              "      <td>mattycus</td>\n",
              "      <td>@Kenichan I dived many times for the ball. Man...</td>\n",
              "    </tr>\n",
              "    <tr>\n",
              "      <th>3</th>\n",
              "      <td>0</td>\n",
              "      <td>1467811184</td>\n",
              "      <td>Mon Apr 06 22:19:57 PDT 2009</td>\n",
              "      <td>NO_QUERY</td>\n",
              "      <td>ElleCTF</td>\n",
              "      <td>my whole body feels itchy and like its on fire</td>\n",
              "    </tr>\n",
              "    <tr>\n",
              "      <th>4</th>\n",
              "      <td>0</td>\n",
              "      <td>1467811193</td>\n",
              "      <td>Mon Apr 06 22:19:57 PDT 2009</td>\n",
              "      <td>NO_QUERY</td>\n",
              "      <td>Karoli</td>\n",
              "      <td>@nationwideclass no, it's not behaving at all....</td>\n",
              "    </tr>\n",
              "  </tbody>\n",
              "</table>\n",
              "</div>\n",
              "      <button class=\"colab-df-convert\" onclick=\"convertToInteractive('df-b6437e81-0377-40ab-a19d-a6fd2e24f220')\"\n",
              "              title=\"Convert this dataframe to an interactive table.\"\n",
              "              style=\"display:none;\">\n",
              "        \n",
              "  <svg xmlns=\"http://www.w3.org/2000/svg\" height=\"24px\"viewBox=\"0 0 24 24\"\n",
              "       width=\"24px\">\n",
              "    <path d=\"M0 0h24v24H0V0z\" fill=\"none\"/>\n",
              "    <path d=\"M18.56 5.44l.94 2.06.94-2.06 2.06-.94-2.06-.94-.94-2.06-.94 2.06-2.06.94zm-11 1L8.5 8.5l.94-2.06 2.06-.94-2.06-.94L8.5 2.5l-.94 2.06-2.06.94zm10 10l.94 2.06.94-2.06 2.06-.94-2.06-.94-.94-2.06-.94 2.06-2.06.94z\"/><path d=\"M17.41 7.96l-1.37-1.37c-.4-.4-.92-.59-1.43-.59-.52 0-1.04.2-1.43.59L10.3 9.45l-7.72 7.72c-.78.78-.78 2.05 0 2.83L4 21.41c.39.39.9.59 1.41.59.51 0 1.02-.2 1.41-.59l7.78-7.78 2.81-2.81c.8-.78.8-2.07 0-2.86zM5.41 20L4 18.59l7.72-7.72 1.47 1.35L5.41 20z\"/>\n",
              "  </svg>\n",
              "      </button>\n",
              "      \n",
              "  <style>\n",
              "    .colab-df-container {\n",
              "      display:flex;\n",
              "      flex-wrap:wrap;\n",
              "      gap: 12px;\n",
              "    }\n",
              "\n",
              "    .colab-df-convert {\n",
              "      background-color: #E8F0FE;\n",
              "      border: none;\n",
              "      border-radius: 50%;\n",
              "      cursor: pointer;\n",
              "      display: none;\n",
              "      fill: #1967D2;\n",
              "      height: 32px;\n",
              "      padding: 0 0 0 0;\n",
              "      width: 32px;\n",
              "    }\n",
              "\n",
              "    .colab-df-convert:hover {\n",
              "      background-color: #E2EBFA;\n",
              "      box-shadow: 0px 1px 2px rgba(60, 64, 67, 0.3), 0px 1px 3px 1px rgba(60, 64, 67, 0.15);\n",
              "      fill: #174EA6;\n",
              "    }\n",
              "\n",
              "    [theme=dark] .colab-df-convert {\n",
              "      background-color: #3B4455;\n",
              "      fill: #D2E3FC;\n",
              "    }\n",
              "\n",
              "    [theme=dark] .colab-df-convert:hover {\n",
              "      background-color: #434B5C;\n",
              "      box-shadow: 0px 1px 3px 1px rgba(0, 0, 0, 0.15);\n",
              "      filter: drop-shadow(0px 1px 2px rgba(0, 0, 0, 0.3));\n",
              "      fill: #FFFFFF;\n",
              "    }\n",
              "  </style>\n",
              "\n",
              "      <script>\n",
              "        const buttonEl =\n",
              "          document.querySelector('#df-b6437e81-0377-40ab-a19d-a6fd2e24f220 button.colab-df-convert');\n",
              "        buttonEl.style.display =\n",
              "          google.colab.kernel.accessAllowed ? 'block' : 'none';\n",
              "\n",
              "        async function convertToInteractive(key) {\n",
              "          const element = document.querySelector('#df-b6437e81-0377-40ab-a19d-a6fd2e24f220');\n",
              "          const dataTable =\n",
              "            await google.colab.kernel.invokeFunction('convertToInteractive',\n",
              "                                                     [key], {});\n",
              "          if (!dataTable) return;\n",
              "\n",
              "          const docLinkHtml = 'Like what you see? Visit the ' +\n",
              "            '<a target=\"_blank\" href=https://colab.research.google.com/notebooks/data_table.ipynb>data table notebook</a>'\n",
              "            + ' to learn more about interactive tables.';\n",
              "          element.innerHTML = '';\n",
              "          dataTable['output_type'] = 'display_data';\n",
              "          await google.colab.output.renderOutput(dataTable, element);\n",
              "          const docLink = document.createElement('div');\n",
              "          docLink.innerHTML = docLinkHtml;\n",
              "          element.appendChild(docLink);\n",
              "        }\n",
              "      </script>\n",
              "    </div>\n",
              "  </div>\n",
              "  "
            ]
          },
          "metadata": {},
          "execution_count": 6
        }
      ]
    },
    {
      "cell_type": "code",
      "source": [
        "decode_map = {0: \"NEGATIVE\", \n",
        "              2: \"NEUTRAL\", \n",
        "              4: \"POSITIVE\"}\n",
        "\n",
        "\n",
        "def decode_sentiment(label):\n",
        "    return decode_map[int(label)]"
      ],
      "metadata": {
        "id": "Wir3dhdV0R-t"
      },
      "execution_count": null,
      "outputs": []
    },
    {
      "cell_type": "code",
      "source": [
        "%%time\n",
        "df.target = df.target.apply(lambda x: decode_sentiment(x))"
      ],
      "metadata": {
        "colab": {
          "base_uri": "https://localhost:8080/"
        },
        "id": "3vvCRCNI0tmt",
        "outputId": "7d082723-387f-4382-811b-db5f5a21edfb"
      },
      "execution_count": null,
      "outputs": [
        {
          "output_type": "stream",
          "name": "stdout",
          "text": [
            "CPU times: user 439 ms, sys: 1.27 ms, total: 440 ms\n",
            "Wall time: 448 ms\n"
          ]
        }
      ]
    },
    {
      "cell_type": "code",
      "source": [
        "df.head()"
      ],
      "metadata": {
        "colab": {
          "base_uri": "https://localhost:8080/",
          "height": 206
        },
        "id": "BknaRIvL0z91",
        "outputId": "f94c606a-9e60-4b76-d71d-10fdc04af337"
      },
      "execution_count": null,
      "outputs": [
        {
          "output_type": "execute_result",
          "data": {
            "text/plain": [
              "     target         ids                          date      flag  \\\n",
              "0  NEGATIVE  1467810369  Mon Apr 06 22:19:45 PDT 2009  NO_QUERY   \n",
              "1  NEGATIVE  1467810672  Mon Apr 06 22:19:49 PDT 2009  NO_QUERY   \n",
              "2  NEGATIVE  1467810917  Mon Apr 06 22:19:53 PDT 2009  NO_QUERY   \n",
              "3  NEGATIVE  1467811184  Mon Apr 06 22:19:57 PDT 2009  NO_QUERY   \n",
              "4  NEGATIVE  1467811193  Mon Apr 06 22:19:57 PDT 2009  NO_QUERY   \n",
              "\n",
              "              user                                               text  \n",
              "0  _TheSpecialOne_  @switchfoot http://twitpic.com/2y1zl - Awww, t...  \n",
              "1    scotthamilton  is upset that he can't update his Facebook by ...  \n",
              "2         mattycus  @Kenichan I dived many times for the ball. Man...  \n",
              "3          ElleCTF    my whole body feels itchy and like its on fire   \n",
              "4           Karoli  @nationwideclass no, it's not behaving at all....  "
            ],
            "text/html": [
              "\n",
              "  <div id=\"df-c54b7d70-cd1e-4d3e-8880-eb135a821e31\">\n",
              "    <div class=\"colab-df-container\">\n",
              "      <div>\n",
              "<style scoped>\n",
              "    .dataframe tbody tr th:only-of-type {\n",
              "        vertical-align: middle;\n",
              "    }\n",
              "\n",
              "    .dataframe tbody tr th {\n",
              "        vertical-align: top;\n",
              "    }\n",
              "\n",
              "    .dataframe thead th {\n",
              "        text-align: right;\n",
              "    }\n",
              "</style>\n",
              "<table border=\"1\" class=\"dataframe\">\n",
              "  <thead>\n",
              "    <tr style=\"text-align: right;\">\n",
              "      <th></th>\n",
              "      <th>target</th>\n",
              "      <th>ids</th>\n",
              "      <th>date</th>\n",
              "      <th>flag</th>\n",
              "      <th>user</th>\n",
              "      <th>text</th>\n",
              "    </tr>\n",
              "  </thead>\n",
              "  <tbody>\n",
              "    <tr>\n",
              "      <th>0</th>\n",
              "      <td>NEGATIVE</td>\n",
              "      <td>1467810369</td>\n",
              "      <td>Mon Apr 06 22:19:45 PDT 2009</td>\n",
              "      <td>NO_QUERY</td>\n",
              "      <td>_TheSpecialOne_</td>\n",
              "      <td>@switchfoot http://twitpic.com/2y1zl - Awww, t...</td>\n",
              "    </tr>\n",
              "    <tr>\n",
              "      <th>1</th>\n",
              "      <td>NEGATIVE</td>\n",
              "      <td>1467810672</td>\n",
              "      <td>Mon Apr 06 22:19:49 PDT 2009</td>\n",
              "      <td>NO_QUERY</td>\n",
              "      <td>scotthamilton</td>\n",
              "      <td>is upset that he can't update his Facebook by ...</td>\n",
              "    </tr>\n",
              "    <tr>\n",
              "      <th>2</th>\n",
              "      <td>NEGATIVE</td>\n",
              "      <td>1467810917</td>\n",
              "      <td>Mon Apr 06 22:19:53 PDT 2009</td>\n",
              "      <td>NO_QUERY</td>\n",
              "      <td>mattycus</td>\n",
              "      <td>@Kenichan I dived many times for the ball. Man...</td>\n",
              "    </tr>\n",
              "    <tr>\n",
              "      <th>3</th>\n",
              "      <td>NEGATIVE</td>\n",
              "      <td>1467811184</td>\n",
              "      <td>Mon Apr 06 22:19:57 PDT 2009</td>\n",
              "      <td>NO_QUERY</td>\n",
              "      <td>ElleCTF</td>\n",
              "      <td>my whole body feels itchy and like its on fire</td>\n",
              "    </tr>\n",
              "    <tr>\n",
              "      <th>4</th>\n",
              "      <td>NEGATIVE</td>\n",
              "      <td>1467811193</td>\n",
              "      <td>Mon Apr 06 22:19:57 PDT 2009</td>\n",
              "      <td>NO_QUERY</td>\n",
              "      <td>Karoli</td>\n",
              "      <td>@nationwideclass no, it's not behaving at all....</td>\n",
              "    </tr>\n",
              "  </tbody>\n",
              "</table>\n",
              "</div>\n",
              "      <button class=\"colab-df-convert\" onclick=\"convertToInteractive('df-c54b7d70-cd1e-4d3e-8880-eb135a821e31')\"\n",
              "              title=\"Convert this dataframe to an interactive table.\"\n",
              "              style=\"display:none;\">\n",
              "        \n",
              "  <svg xmlns=\"http://www.w3.org/2000/svg\" height=\"24px\"viewBox=\"0 0 24 24\"\n",
              "       width=\"24px\">\n",
              "    <path d=\"M0 0h24v24H0V0z\" fill=\"none\"/>\n",
              "    <path d=\"M18.56 5.44l.94 2.06.94-2.06 2.06-.94-2.06-.94-.94-2.06-.94 2.06-2.06.94zm-11 1L8.5 8.5l.94-2.06 2.06-.94-2.06-.94L8.5 2.5l-.94 2.06-2.06.94zm10 10l.94 2.06.94-2.06 2.06-.94-2.06-.94-.94-2.06-.94 2.06-2.06.94z\"/><path d=\"M17.41 7.96l-1.37-1.37c-.4-.4-.92-.59-1.43-.59-.52 0-1.04.2-1.43.59L10.3 9.45l-7.72 7.72c-.78.78-.78 2.05 0 2.83L4 21.41c.39.39.9.59 1.41.59.51 0 1.02-.2 1.41-.59l7.78-7.78 2.81-2.81c.8-.78.8-2.07 0-2.86zM5.41 20L4 18.59l7.72-7.72 1.47 1.35L5.41 20z\"/>\n",
              "  </svg>\n",
              "      </button>\n",
              "      \n",
              "  <style>\n",
              "    .colab-df-container {\n",
              "      display:flex;\n",
              "      flex-wrap:wrap;\n",
              "      gap: 12px;\n",
              "    }\n",
              "\n",
              "    .colab-df-convert {\n",
              "      background-color: #E8F0FE;\n",
              "      border: none;\n",
              "      border-radius: 50%;\n",
              "      cursor: pointer;\n",
              "      display: none;\n",
              "      fill: #1967D2;\n",
              "      height: 32px;\n",
              "      padding: 0 0 0 0;\n",
              "      width: 32px;\n",
              "    }\n",
              "\n",
              "    .colab-df-convert:hover {\n",
              "      background-color: #E2EBFA;\n",
              "      box-shadow: 0px 1px 2px rgba(60, 64, 67, 0.3), 0px 1px 3px 1px rgba(60, 64, 67, 0.15);\n",
              "      fill: #174EA6;\n",
              "    }\n",
              "\n",
              "    [theme=dark] .colab-df-convert {\n",
              "      background-color: #3B4455;\n",
              "      fill: #D2E3FC;\n",
              "    }\n",
              "\n",
              "    [theme=dark] .colab-df-convert:hover {\n",
              "      background-color: #434B5C;\n",
              "      box-shadow: 0px 1px 3px 1px rgba(0, 0, 0, 0.15);\n",
              "      filter: drop-shadow(0px 1px 2px rgba(0, 0, 0, 0.3));\n",
              "      fill: #FFFFFF;\n",
              "    }\n",
              "  </style>\n",
              "\n",
              "      <script>\n",
              "        const buttonEl =\n",
              "          document.querySelector('#df-c54b7d70-cd1e-4d3e-8880-eb135a821e31 button.colab-df-convert');\n",
              "        buttonEl.style.display =\n",
              "          google.colab.kernel.accessAllowed ? 'block' : 'none';\n",
              "\n",
              "        async function convertToInteractive(key) {\n",
              "          const element = document.querySelector('#df-c54b7d70-cd1e-4d3e-8880-eb135a821e31');\n",
              "          const dataTable =\n",
              "            await google.colab.kernel.invokeFunction('convertToInteractive',\n",
              "                                                     [key], {});\n",
              "          if (!dataTable) return;\n",
              "\n",
              "          const docLinkHtml = 'Like what you see? Visit the ' +\n",
              "            '<a target=\"_blank\" href=https://colab.research.google.com/notebooks/data_table.ipynb>data table notebook</a>'\n",
              "            + ' to learn more about interactive tables.';\n",
              "          element.innerHTML = '';\n",
              "          dataTable['output_type'] = 'display_data';\n",
              "          await google.colab.output.renderOutput(dataTable, element);\n",
              "          const docLink = document.createElement('div');\n",
              "          docLink.innerHTML = docLinkHtml;\n",
              "          element.appendChild(docLink);\n",
              "        }\n",
              "      </script>\n",
              "    </div>\n",
              "  </div>\n",
              "  "
            ]
          },
          "metadata": {},
          "execution_count": 9
        }
      ]
    },
    {
      "cell_type": "code",
      "source": [
        "stop_words = stopwords.words(\"english\")\n",
        "stemmer = SnowballStemmer(\"english\")"
      ],
      "metadata": {
        "id": "62zPt31L1GK1"
      },
      "execution_count": null,
      "outputs": []
    },
    {
      "cell_type": "code",
      "source": [
        "print(stop_words)"
      ],
      "metadata": {
        "colab": {
          "base_uri": "https://localhost:8080/"
        },
        "id": "_cShfyjD1TJV",
        "outputId": "7b907fd0-e9b2-43ea-b47a-0b4f0ef969d1"
      },
      "execution_count": null,
      "outputs": [
        {
          "output_type": "stream",
          "name": "stdout",
          "text": [
            "['i', 'me', 'my', 'myself', 'we', 'our', 'ours', 'ourselves', 'you', \"you're\", \"you've\", \"you'll\", \"you'd\", 'your', 'yours', 'yourself', 'yourselves', 'he', 'him', 'his', 'himself', 'she', \"she's\", 'her', 'hers', 'herself', 'it', \"it's\", 'its', 'itself', 'they', 'them', 'their', 'theirs', 'themselves', 'what', 'which', 'who', 'whom', 'this', 'that', \"that'll\", 'these', 'those', 'am', 'is', 'are', 'was', 'were', 'be', 'been', 'being', 'have', 'has', 'had', 'having', 'do', 'does', 'did', 'doing', 'a', 'an', 'the', 'and', 'but', 'if', 'or', 'because', 'as', 'until', 'while', 'of', 'at', 'by', 'for', 'with', 'about', 'against', 'between', 'into', 'through', 'during', 'before', 'after', 'above', 'below', 'to', 'from', 'up', 'down', 'in', 'out', 'on', 'off', 'over', 'under', 'again', 'further', 'then', 'once', 'here', 'there', 'when', 'where', 'why', 'how', 'all', 'any', 'both', 'each', 'few', 'more', 'most', 'other', 'some', 'such', 'no', 'nor', 'not', 'only', 'own', 'same', 'so', 'than', 'too', 'very', 's', 't', 'can', 'will', 'just', 'don', \"don't\", 'should', \"should've\", 'now', 'd', 'll', 'm', 'o', 're', 've', 'y', 'ain', 'aren', \"aren't\", 'couldn', \"couldn't\", 'didn', \"didn't\", 'doesn', \"doesn't\", 'hadn', \"hadn't\", 'hasn', \"hasn't\", 'haven', \"haven't\", 'isn', \"isn't\", 'ma', 'mightn', \"mightn't\", 'mustn', \"mustn't\", 'needn', \"needn't\", 'shan', \"shan't\", 'shouldn', \"shouldn't\", 'wasn', \"wasn't\", 'weren', \"weren't\", 'won', \"won't\", 'wouldn', \"wouldn't\"]\n"
          ]
        }
      ]
    },
    {
      "cell_type": "code",
      "source": [
        "def preprocess(text, stem=False):\n",
        "    text = re.sub(TEXT_CLEANING_RE, ' ', str(text).lower()).strip()\n",
        "    tokens = []\n",
        "    for token in text.split():\n",
        "        if token not in stop_words:\n",
        "            if stem:\n",
        "                tokens.append(stemmer.stem(token))\n",
        "            else:\n",
        "                tokens.append(token)\n",
        "    return \" \".join(tokens)"
      ],
      "metadata": {
        "id": "VEsbERqe1WhV"
      },
      "execution_count": null,
      "outputs": []
    },
    {
      "cell_type": "code",
      "source": [
        "%%time\n",
        "df.text = df.text.apply(lambda x: preprocess(x))"
      ],
      "metadata": {
        "colab": {
          "base_uri": "https://localhost:8080/"
        },
        "id": "YdoY5N7Y3fQJ",
        "outputId": "3e1173f7-0207-4bc9-f53c-e9f17e0515ca"
      },
      "execution_count": null,
      "outputs": [
        {
          "output_type": "stream",
          "name": "stdout",
          "text": [
            "CPU times: user 51.4 s, sys: 193 ms, total: 51.6 s\n",
            "Wall time: 53 s\n"
          ]
        }
      ]
    },
    {
      "cell_type": "code",
      "source": [
        "target_cnt = Counter(df.target)\n",
        "\n",
        "plt.figure(figsize=(16,8))\n",
        "plt.bar(target_cnt.keys(), target_cnt.values())\n",
        "plt.title(\"Dataset labels distribuition\")"
      ],
      "metadata": {
        "colab": {
          "base_uri": "https://localhost:8080/",
          "height": 516
        },
        "id": "bPu1Uk665Hss",
        "outputId": "dd4a2610-22ce-4153-c5a8-02ef143c01e7"
      },
      "execution_count": null,
      "outputs": [
        {
          "output_type": "execute_result",
          "data": {
            "text/plain": [
              "Text(0.5, 1.0, 'Dataset labels distribuition')"
            ]
          },
          "metadata": {},
          "execution_count": 14
        },
        {
          "output_type": "display_data",
          "data": {
            "text/plain": [
              "<Figure size 1152x576 with 1 Axes>"
            ],
            "image/png": "[encoded data removed]"
          },
          "metadata": {
            "needs_background": "light"
          }
        }
      ]
    },
    {
      "cell_type": "code",
      "source": [
        "df_train, df_test = train_test_split(df, test_size=1-TRAIN_SIZE, random_state=42)\n",
        "print(\"TRAIN size:\", len(df_train))\n",
        "print(\"TEST size:\", len(df_test))\n"
      ],
      "metadata": {
        "colab": {
          "base_uri": "https://localhost:8080/"
        },
        "id": "bZDANcCp59X0",
        "outputId": "f69e3c28-4c0b-4013-81ce-6af8ede3ef35"
      },
      "execution_count": null,
      "outputs": [
        {
          "output_type": "stream",
          "name": "stdout",
          "text": [
            "TRAIN size: 1280000\n",
            "TEST size: 320000\n"
          ]
        }
      ]
    },
    {
      "cell_type": "code",
      "source": [
        "%%time\n",
        "documents = [_text.split() for _text in df_train.text] "
      ],
      "metadata": {
        "colab": {
          "base_uri": "https://localhost:8080/"
        },
        "id": "mj3817y86Nov",
        "outputId": "4a23f98a-2cbe-489b-ea2c-6799219801de"
      },
      "execution_count": null,
      "outputs": [
        {
          "output_type": "stream",
          "name": "stdout",
          "text": [
            "CPU times: user 2.69 s, sys: 323 ms, total: 3.01 s\n",
            "Wall time: 3.01 s\n"
          ]
        }
      ]
    },
    {
      "cell_type": "code",
      "source": [
        "print(documents[0:1])"
      ],
      "metadata": {
        "colab": {
          "base_uri": "https://localhost:8080/"
        },
        "id": "9qNQTfwh6v8F",
        "outputId": "7fd2866a-4c71-4ece-a6b9-080a3649a598"
      },
      "execution_count": null,
      "outputs": [
        {
          "output_type": "stream",
          "name": "stdout",
          "text": [
            "[['ya', 'quot', 'like', 'palm', 'pre', 'touchstone', 'charger', 'readynow', 'yes', 'sounds', 'good', 'beer', 'ready', 'prelaunch']]\n"
          ]
        }
      ]
    },
    {
      "cell_type": "code",
      "source": [],
      "metadata": {
        "id": "rF5Hltco7pb6"
      },
      "execution_count": null,
      "outputs": []
    },
    {
      "cell_type": "code",
      "source": [
        "w2v_model = gensim.models.word2vec.Word2Vec(size=W2V_SIZE, \n",
        "                                            window=W2V_WINDOW, \n",
        "                                            min_count=W2V_MIN_COUNT, \n",
        "                                            workers=8)"
      ],
      "metadata": {
        "id": "m5LjE-gH7uUC"
      },
      "execution_count": null,
      "outputs": []
    },
    {
      "cell_type": "code",
      "source": [
        "w2v_model.build_vocab(documents)"
      ],
      "metadata": {
        "colab": {
          "base_uri": "https://localhost:8080/"
        },
        "id": "z9rxycX58Dw6",
        "outputId": "f76a92be-3972-471e-b7d7-64f9512718b4"
      },
      "execution_count": null,
      "outputs": [
        {
          "output_type": "stream",
          "name": "stderr",
          "text": [
            "2022-05-31 20:14:46,340 : INFO : collecting all words and their counts\n",
            "2022-05-31 20:14:46,341 : INFO : PROGRESS: at sentence #0, processed 0 words, keeping 0 word types\n",
            "2022-05-31 20:14:46,364 : INFO : PROGRESS: at sentence #10000, processed 72565 words, keeping 14005 word types\n",
            "2022-05-31 20:14:46,383 : INFO : PROGRESS: at sentence #20000, processed 144393 words, keeping 21587 word types\n",
            "2022-05-31 20:14:46,406 : INFO : PROGRESS: at sentence #30000, processed 215826 words, keeping 27541 word types\n",
            "2022-05-31 20:14:46,428 : INFO : PROGRESS: at sentence #40000, processed 288271 words, keeping 32764 word types\n",
            "2022-05-31 20:14:46,456 : INFO : PROGRESS: at sentence #50000, processed 359772 words, keeping 37587 word types\n",
            "2022-05-31 20:14:46,476 : INFO : PROGRESS: at sentence #60000, processed 431431 words, keeping 42198 word types\n",
            "2022-05-31 20:14:46,498 : INFO : PROGRESS: at sentence #70000, processed 503103 words, keeping 46458 word types\n",
            "2022-05-31 20:14:46,518 : INFO : PROGRESS: at sentence #80000, processed 575709 words, keeping 50476 word types\n",
            "2022-05-31 20:14:46,540 : INFO : PROGRESS: at sentence #90000, processed 647100 words, keeping 54140 word types\n",
            "2022-05-31 20:14:46,560 : INFO : PROGRESS: at sentence #100000, processed 718681 words, keeping 57777 word types\n",
            "2022-05-31 20:14:46,581 : INFO : PROGRESS: at sentence #110000, processed 790696 words, keeping 61207 word types\n",
            "2022-05-31 20:14:46,602 : INFO : PROGRESS: at sentence #120000, processed 863134 words, keeping 64583 word types\n",
            "2022-05-31 20:14:46,624 : INFO : PROGRESS: at sentence #130000, processed 935111 words, keeping 67865 word types\n",
            "2022-05-31 20:14:46,644 : INFO : PROGRESS: at sentence #140000, processed 1006668 words, keeping 70966 word types\n",
            "2022-05-31 20:14:46,665 : INFO : PROGRESS: at sentence #150000, processed 1078512 words, keeping 74119 word types\n",
            "2022-05-31 20:14:46,685 : INFO : PROGRESS: at sentence #160000, processed 1149914 words, keeping 77187 word types\n",
            "2022-05-31 20:14:46,707 : INFO : PROGRESS: at sentence #170000, processed 1222145 words, keeping 80267 word types\n",
            "2022-05-31 20:14:46,728 : INFO : PROGRESS: at sentence #180000, processed 1294708 words, keeping 83393 word types\n",
            "2022-05-31 20:14:46,749 : INFO : PROGRESS: at sentence #190000, processed 1367608 words, keeping 86329 word types\n",
            "2022-05-31 20:14:46,772 : INFO : PROGRESS: at sentence #200000, processed 1439469 words, keeping 89103 word types\n",
            "2022-05-31 20:14:46,799 : INFO : PROGRESS: at sentence #210000, processed 1512099 words, keeping 91840 word types\n",
            "2022-05-31 20:14:46,824 : INFO : PROGRESS: at sentence #220000, processed 1584149 words, keeping 94636 word types\n",
            "2022-05-31 20:14:46,846 : INFO : PROGRESS: at sentence #230000, processed 1656354 words, keeping 97353 word types\n",
            "2022-05-31 20:14:46,867 : INFO : PROGRESS: at sentence #240000, processed 1728573 words, keeping 99975 word types\n",
            "2022-05-31 20:14:46,889 : INFO : PROGRESS: at sentence #250000, processed 1801102 words, keeping 102594 word types\n",
            "2022-05-31 20:14:46,910 : INFO : PROGRESS: at sentence #260000, processed 1873103 words, keeping 105162 word types\n",
            "2022-05-31 20:14:46,933 : INFO : PROGRESS: at sentence #270000, processed 1945245 words, keeping 107626 word types\n",
            "2022-05-31 20:14:46,957 : INFO : PROGRESS: at sentence #280000, processed 2017163 words, keeping 110141 word types\n",
            "2022-05-31 20:14:46,977 : INFO : PROGRESS: at sentence #290000, processed 2089574 words, keeping 112539 word types\n",
            "2022-05-31 20:14:46,998 : INFO : PROGRESS: at sentence #300000, processed 2160996 words, keeping 114893 word types\n",
            "2022-05-31 20:14:47,018 : INFO : PROGRESS: at sentence #310000, processed 2232913 words, keeping 117298 word types\n",
            "2022-05-31 20:14:47,040 : INFO : PROGRESS: at sentence #320000, processed 2305039 words, keeping 119693 word types\n",
            "2022-05-31 20:14:47,061 : INFO : PROGRESS: at sentence #330000, processed 2377119 words, keeping 122131 word types\n",
            "2022-05-31 20:14:47,082 : INFO : PROGRESS: at sentence #340000, processed 2449370 words, keeping 124416 word types\n",
            "2022-05-31 20:14:47,102 : INFO : PROGRESS: at sentence #350000, processed 2521564 words, keeping 126669 word types\n",
            "2022-05-31 20:14:47,124 : INFO : PROGRESS: at sentence #360000, processed 2593681 words, keeping 128912 word types\n",
            "2022-05-31 20:14:47,144 : INFO : PROGRESS: at sentence #370000, processed 2665692 words, keeping 131135 word types\n",
            "2022-05-31 20:14:47,165 : INFO : PROGRESS: at sentence #380000, processed 2737859 words, keeping 133403 word types\n",
            "2022-05-31 20:14:47,185 : INFO : PROGRESS: at sentence #390000, processed 2809848 words, keeping 135551 word types\n",
            "2022-05-31 20:14:47,206 : INFO : PROGRESS: at sentence #400000, processed 2882438 words, keeping 137742 word types\n",
            "2022-05-31 20:14:47,227 : INFO : PROGRESS: at sentence #410000, processed 2954075 words, keeping 139909 word types\n",
            "2022-05-31 20:14:47,248 : INFO : PROGRESS: at sentence #420000, processed 3026247 words, keeping 142144 word types\n",
            "2022-05-31 20:14:47,269 : INFO : PROGRESS: at sentence #430000, processed 3098659 words, keeping 144364 word types\n",
            "2022-05-31 20:14:47,290 : INFO : PROGRESS: at sentence #440000, processed 3170663 words, keeping 146439 word types\n",
            "2022-05-31 20:14:47,310 : INFO : PROGRESS: at sentence #450000, processed 3243344 words, keeping 148526 word types\n",
            "2022-05-31 20:14:47,331 : INFO : PROGRESS: at sentence #460000, processed 3315466 words, keeping 150610 word types\n",
            "2022-05-31 20:14:47,352 : INFO : PROGRESS: at sentence #470000, processed 3388295 words, keeping 152737 word types\n",
            "2022-05-31 20:14:47,374 : INFO : PROGRESS: at sentence #480000, processed 3460120 words, keeping 154757 word types\n",
            "2022-05-31 20:14:47,394 : INFO : PROGRESS: at sentence #490000, processed 3531883 words, keeping 156825 word types\n",
            "2022-05-31 20:14:47,416 : INFO : PROGRESS: at sentence #500000, processed 3604217 words, keeping 158859 word types\n",
            "2022-05-31 20:14:47,437 : INFO : PROGRESS: at sentence #510000, processed 3676427 words, keeping 160852 word types\n",
            "2022-05-31 20:14:47,461 : INFO : PROGRESS: at sentence #520000, processed 3749045 words, keeping 162863 word types\n",
            "2022-05-31 20:14:47,486 : INFO : PROGRESS: at sentence #530000, processed 3821622 words, keeping 164929 word types\n",
            "2022-05-31 20:14:47,507 : INFO : PROGRESS: at sentence #540000, processed 3893627 words, keeping 166840 word types\n",
            "2022-05-31 20:14:47,528 : INFO : PROGRESS: at sentence #550000, processed 3965477 words, keeping 168799 word types\n",
            "2022-05-31 20:14:47,551 : INFO : PROGRESS: at sentence #560000, processed 4038050 words, keeping 170802 word types\n",
            "2022-05-31 20:14:47,574 : INFO : PROGRESS: at sentence #570000, processed 4110296 words, keeping 172760 word types\n",
            "2022-05-31 20:14:47,596 : INFO : PROGRESS: at sentence #580000, processed 4182385 words, keeping 174635 word types\n",
            "2022-05-31 20:14:47,627 : INFO : PROGRESS: at sentence #590000, processed 4254632 words, keeping 176470 word types\n",
            "2022-05-31 20:14:47,648 : INFO : PROGRESS: at sentence #600000, processed 4326859 words, keeping 178350 word types\n",
            "2022-05-31 20:14:47,670 : INFO : PROGRESS: at sentence #610000, processed 4399183 words, keeping 180290 word types\n",
            "2022-05-31 20:14:47,692 : INFO : PROGRESS: at sentence #620000, processed 4471343 words, keeping 182129 word types\n",
            "2022-05-31 20:14:47,714 : INFO : PROGRESS: at sentence #630000, processed 4543286 words, keeping 184005 word types\n",
            "2022-05-31 20:14:47,734 : INFO : PROGRESS: at sentence #640000, processed 4615780 words, keeping 185835 word types\n",
            "2022-05-31 20:14:47,755 : INFO : PROGRESS: at sentence #650000, processed 4688481 words, keeping 187705 word types\n",
            "2022-05-31 20:14:47,776 : INFO : PROGRESS: at sentence #660000, processed 4760481 words, keeping 189439 word types\n",
            "2022-05-31 20:14:47,797 : INFO : PROGRESS: at sentence #670000, processed 4833024 words, keeping 191232 word types\n",
            "2022-05-31 20:14:47,817 : INFO : PROGRESS: at sentence #680000, processed 4904516 words, keeping 193177 word types\n",
            "2022-05-31 20:14:47,840 : INFO : PROGRESS: at sentence #690000, processed 4976968 words, keeping 194960 word types\n",
            "2022-05-31 20:14:47,862 : INFO : PROGRESS: at sentence #700000, processed 5049412 words, keeping 196725 word types\n",
            "2022-05-31 20:14:47,883 : INFO : PROGRESS: at sentence #710000, processed 5121976 words, keeping 198516 word types\n",
            "2022-05-31 20:14:47,904 : INFO : PROGRESS: at sentence #720000, processed 5193881 words, keeping 200325 word types\n",
            "2022-05-31 20:14:47,925 : INFO : PROGRESS: at sentence #730000, processed 5265467 words, keeping 202133 word types\n",
            "2022-05-31 20:14:47,949 : INFO : PROGRESS: at sentence #740000, processed 5337518 words, keeping 203818 word types\n",
            "2022-05-31 20:14:47,971 : INFO : PROGRESS: at sentence #750000, processed 5409321 words, keeping 205535 word types\n",
            "2022-05-31 20:14:47,992 : INFO : PROGRESS: at sentence #760000, processed 5481512 words, keeping 207282 word types\n",
            "2022-05-31 20:14:48,013 : INFO : PROGRESS: at sentence #770000, processed 5554093 words, keeping 209076 word types\n",
            "2022-05-31 20:14:48,034 : INFO : PROGRESS: at sentence #780000, processed 5625382 words, keeping 210805 word types\n",
            "2022-05-31 20:14:48,055 : INFO : PROGRESS: at sentence #790000, processed 5698066 words, keeping 212618 word types\n",
            "2022-05-31 20:14:48,077 : INFO : PROGRESS: at sentence #800000, processed 5770880 words, keeping 214374 word types\n",
            "2022-05-31 20:14:48,097 : INFO : PROGRESS: at sentence #810000, processed 5843418 words, keeping 216009 word types\n",
            "2022-05-31 20:14:48,119 : INFO : PROGRESS: at sentence #820000, processed 5915628 words, keeping 217804 word types\n",
            "2022-05-31 20:14:48,140 : INFO : PROGRESS: at sentence #830000, processed 5987499 words, keeping 219585 word types\n",
            "2022-05-31 20:14:48,165 : INFO : PROGRESS: at sentence #840000, processed 6058973 words, keeping 221344 word types\n",
            "2022-05-31 20:14:48,188 : INFO : PROGRESS: at sentence #850000, processed 6131125 words, keeping 223002 word types\n",
            "2022-05-31 20:14:48,209 : INFO : PROGRESS: at sentence #860000, processed 6202951 words, keeping 224643 word types\n",
            "2022-05-31 20:14:48,230 : INFO : PROGRESS: at sentence #870000, processed 6275461 words, keeping 226362 word types\n",
            "2022-05-31 20:14:48,251 : INFO : PROGRESS: at sentence #880000, processed 6347661 words, keeping 227986 word types\n",
            "2022-05-31 20:14:48,271 : INFO : PROGRESS: at sentence #890000, processed 6419806 words, keeping 229634 word types\n",
            "2022-05-31 20:14:48,293 : INFO : PROGRESS: at sentence #900000, processed 6491644 words, keeping 231389 word types\n",
            "2022-05-31 20:14:48,314 : INFO : PROGRESS: at sentence #910000, processed 6564022 words, keeping 233050 word types\n",
            "2022-05-31 20:14:48,334 : INFO : PROGRESS: at sentence #920000, processed 6636228 words, keeping 234686 word types\n",
            "2022-05-31 20:14:48,357 : INFO : PROGRESS: at sentence #930000, processed 6708573 words, keeping 236393 word types\n",
            "2022-05-31 20:14:48,378 : INFO : PROGRESS: at sentence #940000, processed 6779956 words, keeping 238052 word types\n",
            "2022-05-31 20:14:48,401 : INFO : PROGRESS: at sentence #950000, processed 6852599 words, keeping 239716 word types\n",
            "2022-05-31 20:14:48,421 : INFO : PROGRESS: at sentence #960000, processed 6924717 words, keeping 241354 word types\n",
            "2022-05-31 20:14:48,448 : INFO : PROGRESS: at sentence #970000, processed 6996992 words, keeping 242980 word types\n",
            "2022-05-31 20:14:48,469 : INFO : PROGRESS: at sentence #980000, processed 7068402 words, keeping 244646 word types\n",
            "2022-05-31 20:14:48,497 : INFO : PROGRESS: at sentence #990000, processed 7140346 words, keeping 246186 word types\n",
            "2022-05-31 20:14:48,519 : INFO : PROGRESS: at sentence #1000000, processed 7211757 words, keeping 247726 word types\n",
            "2022-05-31 20:14:48,539 : INFO : PROGRESS: at sentence #1010000, processed 7283267 words, keeping 249288 word types\n",
            "2022-05-31 20:14:48,561 : INFO : PROGRESS: at sentence #1020000, processed 7355299 words, keeping 250860 word types\n",
            "2022-05-31 20:14:48,582 : INFO : PROGRESS: at sentence #1030000, processed 7426918 words, keeping 252366 word types\n",
            "2022-05-31 20:14:48,605 : INFO : PROGRESS: at sentence #1040000, processed 7498815 words, keeping 253930 word types\n",
            "2022-05-31 20:14:48,626 : INFO : PROGRESS: at sentence #1050000, processed 7570499 words, keeping 255471 word types\n",
            "2022-05-31 20:14:48,648 : INFO : PROGRESS: at sentence #1060000, processed 7643251 words, keeping 257035 word types\n",
            "2022-05-31 20:14:48,668 : INFO : PROGRESS: at sentence #1070000, processed 7714721 words, keeping 258509 word types\n",
            "2022-05-31 20:14:48,695 : INFO : PROGRESS: at sentence #1080000, processed 7787371 words, keeping 260071 word types\n",
            "2022-05-31 20:14:48,716 : INFO : PROGRESS: at sentence #1090000, processed 7859336 words, keeping 261683 word types\n",
            "2022-05-31 20:14:48,738 : INFO : PROGRESS: at sentence #1100000, processed 7932029 words, keeping 263278 word types\n",
            "2022-05-31 20:14:48,760 : INFO : PROGRESS: at sentence #1110000, processed 8004146 words, keeping 264800 word types\n",
            "2022-05-31 20:14:48,782 : INFO : PROGRESS: at sentence #1120000, processed 8075880 words, keeping 266309 word types\n",
            "2022-05-31 20:14:48,804 : INFO : PROGRESS: at sentence #1130000, processed 8148163 words, keeping 267826 word types\n",
            "2022-05-31 20:14:48,829 : INFO : PROGRESS: at sentence #1140000, processed 8220487 words, keeping 269391 word types\n",
            "2022-05-31 20:14:48,850 : INFO : PROGRESS: at sentence #1150000, processed 8292498 words, keeping 270894 word types\n",
            "2022-05-31 20:14:48,875 : INFO : PROGRESS: at sentence #1160000, processed 8363838 words, keeping 272400 word types\n",
            "2022-05-31 20:14:48,897 : INFO : PROGRESS: at sentence #1170000, processed 8435510 words, keeping 273970 word types\n",
            "2022-05-31 20:14:48,920 : INFO : PROGRESS: at sentence #1180000, processed 8507795 words, keeping 275521 word types\n",
            "2022-05-31 20:14:48,942 : INFO : PROGRESS: at sentence #1190000, processed 8579080 words, keeping 277007 word types\n",
            "2022-05-31 20:14:48,963 : INFO : PROGRESS: at sentence #1200000, processed 8650606 words, keeping 278457 word types\n",
            "2022-05-31 20:14:48,986 : INFO : PROGRESS: at sentence #1210000, processed 8721893 words, keeping 279959 word types\n",
            "2022-05-31 20:14:49,007 : INFO : PROGRESS: at sentence #1220000, processed 8793795 words, keeping 281427 word types\n",
            "2022-05-31 20:14:49,032 : INFO : PROGRESS: at sentence #1230000, processed 8865726 words, keeping 282981 word types\n",
            "2022-05-31 20:14:49,054 : INFO : PROGRESS: at sentence #1240000, processed 8938173 words, keeping 284542 word types\n",
            "2022-05-31 20:14:49,077 : INFO : PROGRESS: at sentence #1250000, processed 9010842 words, keeping 286064 word types\n",
            "2022-05-31 20:14:49,099 : INFO : PROGRESS: at sentence #1260000, processed 9083261 words, keeping 287521 word types\n",
            "2022-05-31 20:14:49,123 : INFO : PROGRESS: at sentence #1270000, processed 9155616 words, keeping 288987 word types\n",
            "2022-05-31 20:14:49,146 : INFO : collected 290418 word types from a corpus of 9227204 raw words and 1280000 sentences\n",
            "2022-05-31 20:14:49,146 : INFO : Loading a fresh vocabulary\n",
            "2022-05-31 20:14:49,299 : INFO : effective_min_count=10 retains 30369 unique words (10% of original 290418, drops 260049)\n",
            "2022-05-31 20:14:49,300 : INFO : effective_min_count=10 leaves 8780739 word corpus (95% of original 9227204, drops 446465)\n",
            "2022-05-31 20:14:49,375 : INFO : deleting the raw counts dictionary of 290418 items\n",
            "2022-05-31 20:14:49,384 : INFO : sample=0.001 downsamples 45 most-common words\n",
            "2022-05-31 20:14:49,385 : INFO : downsampling leaves estimated 8222658 word corpus (93.6% of prior 8780739)\n",
            "2022-05-31 20:14:49,459 : INFO : estimated required memory for 30369 words and 300 dimensions: 88070100 bytes\n",
            "2022-05-31 20:14:49,460 : INFO : resetting layer weights\n"
          ]
        }
      ]
    },
    {
      "cell_type": "code",
      "source": [
        "words = w2v_model.wv.index2word\n",
        "vocab_size = len(words)\n",
        "print(\"Vocab size\", vocab_size)"
      ],
      "metadata": {
        "colab": {
          "base_uri": "https://localhost:8080/"
        },
        "id": "wEnh5Ooa8S6a",
        "outputId": "2fa02efd-8483-45de-fc1d-d943ab0a61fc"
      },
      "execution_count": null,
      "outputs": [
        {
          "output_type": "stream",
          "name": "stdout",
          "text": [
            "Vocab size 30369\n"
          ]
        }
      ]
    },
    {
      "cell_type": "code",
      "source": [
        "%%time\n",
        "w2v_model.train(documents, total_examples=len(documents), epochs=W2V_EPOCH)"
      ],
      "metadata": {
        "colab": {
          "base_uri": "https://localhost:8080/"
        },
        "id": "ahITm5Ti8ttL",
        "outputId": "67fb0623-cc78-4975-e3f3-fc17ccddd6b9"
      },
      "execution_count": null,
      "outputs": [
        {
          "output_type": "stream",
          "name": "stderr",
          "text": [
            "2022-05-31 20:14:54,573 : INFO : training model with 8 workers on 30369 vocabulary and 300 features, using sg=0 hs=0 sample=0.001 negative=5 window=7\n",
            "2022-05-31 20:14:55,641 : INFO : EPOCH 1 - PROGRESS: at 4.23% examples, 334106 words/s, in_qsize 15, out_qsize 0\n",
            "2022-05-31 20:14:56,709 : INFO : EPOCH 1 - PROGRESS: at 9.01% examples, 350778 words/s, in_qsize 15, out_qsize 0\n",
            "2022-05-31 20:14:57,727 : INFO : EPOCH 1 - PROGRESS: at 13.14% examples, 345556 words/s, in_qsize 14, out_qsize 8\n",
            "2022-05-31 20:14:58,726 : INFO : EPOCH 1 - PROGRESS: at 17.89% examples, 356268 words/s, in_qsize 15, out_qsize 0\n",
            "2022-05-31 20:14:59,727 : INFO : EPOCH 1 - PROGRESS: at 23.63% examples, 378928 words/s, in_qsize 15, out_qsize 0\n",
            "2022-05-31 20:15:00,734 : INFO : EPOCH 1 - PROGRESS: at 29.48% examples, 395493 words/s, in_qsize 16, out_qsize 0\n",
            "2022-05-31 20:15:01,731 : INFO : EPOCH 1 - PROGRESS: at 35.32% examples, 407359 words/s, in_qsize 15, out_qsize 0\n",
            "2022-05-31 20:15:02,765 : INFO : EPOCH 1 - PROGRESS: at 41.16% examples, 414724 words/s, in_qsize 15, out_qsize 0\n",
            "2022-05-31 20:15:03,786 : INFO : EPOCH 1 - PROGRESS: at 46.78% examples, 419883 words/s, in_qsize 15, out_qsize 2\n",
            "2022-05-31 20:15:04,773 : INFO : EPOCH 1 - PROGRESS: at 52.84% examples, 427483 words/s, in_qsize 15, out_qsize 0\n",
            "2022-05-31 20:15:05,831 : INFO : EPOCH 1 - PROGRESS: at 58.58% examples, 429305 words/s, in_qsize 14, out_qsize 1\n",
            "2022-05-31 20:15:06,835 : INFO : EPOCH 1 - PROGRESS: at 64.73% examples, 435570 words/s, in_qsize 16, out_qsize 0\n",
            "2022-05-31 20:15:07,891 : INFO : EPOCH 1 - PROGRESS: at 70.48% examples, 436479 words/s, in_qsize 14, out_qsize 1\n",
            "2022-05-31 20:15:08,947 : INFO : EPOCH 1 - PROGRESS: at 76.44% examples, 438515 words/s, in_qsize 13, out_qsize 6\n",
            "2022-05-31 20:15:09,973 : INFO : EPOCH 1 - PROGRESS: at 82.64% examples, 442952 words/s, in_qsize 15, out_qsize 3\n",
            "2022-05-31 20:15:11,033 : INFO : EPOCH 1 - PROGRESS: at 88.92% examples, 445191 words/s, in_qsize 15, out_qsize 0\n",
            "2022-05-31 20:15:12,045 : INFO : EPOCH 1 - PROGRESS: at 94.80% examples, 446908 words/s, in_qsize 15, out_qsize 0\n",
            "2022-05-31 20:15:12,799 : INFO : worker thread finished; awaiting finish of 7 more threads\n",
            "2022-05-31 20:15:12,811 : INFO : worker thread finished; awaiting finish of 6 more threads\n",
            "2022-05-31 20:15:12,820 : INFO : worker thread finished; awaiting finish of 5 more threads\n",
            "2022-05-31 20:15:12,826 : INFO : worker thread finished; awaiting finish of 4 more threads\n",
            "2022-05-31 20:15:12,836 : INFO : worker thread finished; awaiting finish of 3 more threads\n",
            "2022-05-31 20:15:12,838 : INFO : worker thread finished; awaiting finish of 2 more threads\n",
            "2022-05-31 20:15:12,846 : INFO : worker thread finished; awaiting finish of 1 more threads\n",
            "2022-05-31 20:15:12,858 : INFO : worker thread finished; awaiting finish of 0 more threads\n",
            "2022-05-31 20:15:12,861 : INFO : EPOCH - 1 : training on 9227204 raw words (8224141 effective words) took 18.3s, 450397 effective words/s\n",
            "2022-05-31 20:15:13,946 : INFO : EPOCH 2 - PROGRESS: at 5.43% examples, 414511 words/s, in_qsize 15, out_qsize 0\n",
            "2022-05-31 20:15:14,958 : INFO : EPOCH 2 - PROGRESS: at 11.51% examples, 452612 words/s, in_qsize 15, out_qsize 1\n",
            "2022-05-31 20:15:16,009 : INFO : EPOCH 2 - PROGRESS: at 17.13% examples, 448417 words/s, in_qsize 16, out_qsize 1\n",
            "2022-05-31 20:15:17,058 : INFO : EPOCH 2 - PROGRESS: at 23.20% examples, 455382 words/s, in_qsize 14, out_qsize 1\n",
            "2022-05-31 20:15:18,104 : INFO : EPOCH 2 - PROGRESS: at 29.16% examples, 457998 words/s, in_qsize 15, out_qsize 0\n",
            "2022-05-31 20:15:19,113 : INFO : EPOCH 2 - PROGRESS: at 35.21% examples, 463849 words/s, in_qsize 15, out_qsize 0\n",
            "2022-05-31 20:15:20,123 : INFO : EPOCH 2 - PROGRESS: at 41.05% examples, 465529 words/s, in_qsize 16, out_qsize 0\n",
            "2022-05-31 20:15:21,131 : INFO : EPOCH 2 - PROGRESS: at 46.89% examples, 466959 words/s, in_qsize 15, out_qsize 2\n",
            "2022-05-31 20:15:22,159 : INFO : EPOCH 2 - PROGRESS: at 52.95% examples, 469034 words/s, in_qsize 15, out_qsize 0\n",
            "2022-05-31 20:15:23,163 : INFO : EPOCH 2 - PROGRESS: at 57.81% examples, 462239 words/s, in_qsize 16, out_qsize 3\n",
            "2022-05-31 20:15:24,191 : INFO : EPOCH 2 - PROGRESS: at 63.54% examples, 461990 words/s, in_qsize 15, out_qsize 0\n",
            "2022-05-31 20:15:25,257 : INFO : EPOCH 2 - PROGRESS: at 69.61% examples, 462513 words/s, in_qsize 12, out_qsize 3\n",
            "2022-05-31 20:15:26,344 : INFO : EPOCH 2 - PROGRESS: at 75.89% examples, 463559 words/s, in_qsize 15, out_qsize 0\n",
            "2022-05-31 20:15:27,359 : INFO : EPOCH 2 - PROGRESS: at 81.66% examples, 463690 words/s, in_qsize 16, out_qsize 0\n",
            "2022-05-31 20:15:28,478 : INFO : EPOCH 2 - PROGRESS: at 87.83% examples, 462974 words/s, in_qsize 10, out_qsize 5\n",
            "2022-05-31 20:15:29,486 : INFO : EPOCH 2 - PROGRESS: at 93.81% examples, 464333 words/s, in_qsize 13, out_qsize 2\n",
            "2022-05-31 20:15:30,357 : INFO : worker thread finished; awaiting finish of 7 more threads\n",
            "2022-05-31 20:15:30,365 : INFO : worker thread finished; awaiting finish of 6 more threads\n",
            "2022-05-31 20:15:30,378 : INFO : worker thread finished; awaiting finish of 5 more threads\n",
            "2022-05-31 20:15:30,406 : INFO : worker thread finished; awaiting finish of 4 more threads\n",
            "2022-05-31 20:15:30,410 : INFO : worker thread finished; awaiting finish of 3 more threads\n",
            "2022-05-31 20:15:30,411 : INFO : worker thread finished; awaiting finish of 2 more threads\n",
            "2022-05-31 20:15:30,433 : INFO : worker thread finished; awaiting finish of 1 more threads\n",
            "2022-05-31 20:15:30,437 : INFO : worker thread finished; awaiting finish of 0 more threads\n",
            "2022-05-31 20:15:30,438 : INFO : EPOCH - 2 : training on 9227204 raw words (8223064 effective words) took 17.6s, 468115 effective words/s\n",
            "2022-05-31 20:15:31,462 : INFO : EPOCH 3 - PROGRESS: at 5.54% examples, 448863 words/s, in_qsize 15, out_qsize 0\n",
            "2022-05-31 20:15:32,494 : INFO : EPOCH 3 - PROGRESS: at 11.62% examples, 466488 words/s, in_qsize 14, out_qsize 1\n",
            "2022-05-31 20:15:33,560 : INFO : EPOCH 3 - PROGRESS: at 17.68% examples, 466960 words/s, in_qsize 15, out_qsize 0\n",
            "2022-05-31 20:15:34,578 : INFO : EPOCH 3 - PROGRESS: at 23.63% examples, 470611 words/s, in_qsize 16, out_qsize 0\n",
            "2022-05-31 20:15:35,584 : INFO : EPOCH 3 - PROGRESS: at 29.59% examples, 473848 words/s, in_qsize 16, out_qsize 2\n",
            "2022-05-31 20:15:36,702 : INFO : EPOCH 3 - PROGRESS: at 35.97% examples, 473173 words/s, in_qsize 15, out_qsize 0\n",
            "2022-05-31 20:15:37,703 : INFO : EPOCH 3 - PROGRESS: at 42.02% examples, 476638 words/s, in_qsize 15, out_qsize 0\n",
            "2022-05-31 20:15:38,709 : INFO : EPOCH 3 - PROGRESS: at 47.75% examples, 475768 words/s, in_qsize 15, out_qsize 0\n",
            "2022-05-31 20:15:39,767 : INFO : EPOCH 3 - PROGRESS: at 53.70% examples, 474329 words/s, in_qsize 12, out_qsize 3\n",
            "2022-05-31 20:15:40,791 : INFO : EPOCH 3 - PROGRESS: at 59.77% examples, 475626 words/s, in_qsize 15, out_qsize 2\n",
            "2022-05-31 20:15:41,794 : INFO : EPOCH 3 - PROGRESS: at 65.39% examples, 474418 words/s, in_qsize 15, out_qsize 0\n",
            "2022-05-31 20:15:42,798 : INFO : EPOCH 3 - PROGRESS: at 71.02% examples, 473346 words/s, in_qsize 13, out_qsize 2\n",
            "2022-05-31 20:15:43,809 : INFO : EPOCH 3 - PROGRESS: at 77.09% examples, 474806 words/s, in_qsize 15, out_qsize 0\n",
            "2022-05-31 20:15:44,859 : INFO : EPOCH 3 - PROGRESS: at 83.18% examples, 474866 words/s, in_qsize 15, out_qsize 0\n",
            "2022-05-31 20:15:45,890 : INFO : EPOCH 3 - PROGRESS: at 89.13% examples, 474861 words/s, in_qsize 15, out_qsize 0\n",
            "2022-05-31 20:15:46,918 : INFO : EPOCH 3 - PROGRESS: at 95.12% examples, 474941 words/s, in_qsize 15, out_qsize 0\n",
            "2022-05-31 20:15:47,584 : INFO : worker thread finished; awaiting finish of 7 more threads\n",
            "2022-05-31 20:15:47,613 : INFO : worker thread finished; awaiting finish of 6 more threads\n",
            "2022-05-31 20:15:47,624 : INFO : worker thread finished; awaiting finish of 5 more threads\n",
            "2022-05-31 20:15:47,657 : INFO : worker thread finished; awaiting finish of 4 more threads\n",
            "2022-05-31 20:15:47,664 : INFO : worker thread finished; awaiting finish of 3 more threads\n",
            "2022-05-31 20:15:47,669 : INFO : worker thread finished; awaiting finish of 2 more threads\n",
            "2022-05-31 20:15:47,670 : INFO : worker thread finished; awaiting finish of 1 more threads\n",
            "2022-05-31 20:15:47,673 : INFO : worker thread finished; awaiting finish of 0 more threads\n",
            "2022-05-31 20:15:47,675 : INFO : EPOCH - 3 : training on 9227204 raw words (8222877 effective words) took 17.2s, 477398 effective words/s\n",
            "2022-05-31 20:15:48,741 : INFO : EPOCH 4 - PROGRESS: at 5.43% examples, 423545 words/s, in_qsize 15, out_qsize 0\n",
            "2022-05-31 20:15:49,762 : INFO : EPOCH 4 - PROGRESS: at 11.40% examples, 451417 words/s, in_qsize 15, out_qsize 0\n",
            "2022-05-31 20:15:50,766 : INFO : EPOCH 4 - PROGRESS: at 17.13% examples, 457428 words/s, in_qsize 15, out_qsize 1\n",
            "2022-05-31 20:15:51,768 : INFO : EPOCH 4 - PROGRESS: at 23.31% examples, 469486 words/s, in_qsize 14, out_qsize 0\n",
            "2022-05-31 20:15:52,779 : INFO : EPOCH 4 - PROGRESS: at 29.05% examples, 469029 words/s, in_qsize 16, out_qsize 0\n",
            "2022-05-31 20:15:53,849 : INFO : EPOCH 4 - PROGRESS: at 34.57% examples, 461276 words/s, in_qsize 15, out_qsize 0\n",
            "2022-05-31 20:15:54,885 : INFO : EPOCH 4 - PROGRESS: at 40.29% examples, 460541 words/s, in_qsize 15, out_qsize 0\n",
            "2022-05-31 20:15:55,916 : INFO : EPOCH 4 - PROGRESS: at 45.92% examples, 459066 words/s, in_qsize 16, out_qsize 1\n",
            "2022-05-31 20:15:56,925 : INFO : EPOCH 4 - PROGRESS: at 51.75% examples, 461447 words/s, in_qsize 13, out_qsize 2\n",
            "2022-05-31 20:15:57,923 : INFO : EPOCH 4 - PROGRESS: at 57.27% examples, 460493 words/s, in_qsize 15, out_qsize 2\n",
            "2022-05-31 20:15:58,980 : INFO : EPOCH 4 - PROGRESS: at 63.22% examples, 460765 words/s, in_qsize 13, out_qsize 2\n",
            "2022-05-31 20:15:59,996 : INFO : EPOCH 4 - PROGRESS: at 68.86% examples, 460362 words/s, in_qsize 14, out_qsize 1\n",
            "2022-05-31 20:16:01,059 : INFO : EPOCH 4 - PROGRESS: at 75.02% examples, 462362 words/s, in_qsize 15, out_qsize 0\n",
            "2022-05-31 20:16:02,076 : INFO : EPOCH 4 - PROGRESS: at 81.23% examples, 464361 words/s, in_qsize 16, out_qsize 0\n",
            "2022-05-31 20:16:03,103 : INFO : EPOCH 4 - PROGRESS: at 86.96% examples, 464044 words/s, in_qsize 15, out_qsize 0\n",
            "2022-05-31 20:16:04,173 : INFO : EPOCH 4 - PROGRESS: at 93.26% examples, 465241 words/s, in_qsize 15, out_qsize 0\n",
            "2022-05-31 20:16:05,181 : INFO : EPOCH 4 - PROGRESS: at 99.11% examples, 465939 words/s, in_qsize 9, out_qsize 0\n",
            "2022-05-31 20:16:05,186 : INFO : worker thread finished; awaiting finish of 7 more threads\n",
            "2022-05-31 20:16:05,199 : INFO : worker thread finished; awaiting finish of 6 more threads\n",
            "2022-05-31 20:16:05,208 : INFO : worker thread finished; awaiting finish of 5 more threads\n",
            "2022-05-31 20:16:05,210 : INFO : worker thread finished; awaiting finish of 4 more threads\n",
            "2022-05-31 20:16:05,214 : INFO : worker thread finished; awaiting finish of 3 more threads\n",
            "2022-05-31 20:16:05,219 : INFO : worker thread finished; awaiting finish of 2 more threads\n",
            "2022-05-31 20:16:05,224 : INFO : worker thread finished; awaiting finish of 1 more threads\n",
            "2022-05-31 20:16:05,240 : INFO : worker thread finished; awaiting finish of 0 more threads\n",
            "2022-05-31 20:16:05,241 : INFO : EPOCH - 4 : training on 9227204 raw words (8222199 effective words) took 17.6s, 468453 effective words/s\n",
            "2022-05-31 20:16:06,275 : INFO : EPOCH 5 - PROGRESS: at 5.43% examples, 435649 words/s, in_qsize 15, out_qsize 0\n",
            "2022-05-31 20:16:07,292 : INFO : EPOCH 5 - PROGRESS: at 11.62% examples, 467913 words/s, in_qsize 15, out_qsize 0\n",
            "2022-05-31 20:16:08,294 : INFO : EPOCH 5 - PROGRESS: at 17.57% examples, 474583 words/s, in_qsize 14, out_qsize 1\n",
            "2022-05-31 20:16:09,300 : INFO : EPOCH 5 - PROGRESS: at 23.20% examples, 471169 words/s, in_qsize 16, out_qsize 1\n",
            "2022-05-31 20:16:10,350 : INFO : EPOCH 5 - PROGRESS: at 29.48% examples, 475465 words/s, in_qsize 16, out_qsize 0\n",
            "2022-05-31 20:16:11,400 : INFO : EPOCH 5 - PROGRESS: at 35.42% examples, 475901 words/s, in_qsize 14, out_qsize 1\n",
            "2022-05-31 20:16:12,408 : INFO : EPOCH 5 - PROGRESS: at 41.48% examples, 476856 words/s, in_qsize 15, out_qsize 0\n",
            "2022-05-31 20:16:13,426 : INFO : EPOCH 5 - PROGRESS: at 47.32% examples, 476342 words/s, in_qsize 15, out_qsize 4\n",
            "2022-05-31 20:16:14,486 : INFO : EPOCH 5 - PROGRESS: at 53.16% examples, 473789 words/s, in_qsize 15, out_qsize 0\n",
            "2022-05-31 20:16:15,494 : INFO : EPOCH 5 - PROGRESS: at 59.44% examples, 477599 words/s, in_qsize 15, out_qsize 0\n",
            "2022-05-31 20:16:16,542 : INFO : EPOCH 5 - PROGRESS: at 64.95% examples, 473526 words/s, in_qsize 15, out_qsize 0\n",
            "2022-05-31 20:16:17,557 : INFO : EPOCH 5 - PROGRESS: at 70.80% examples, 473548 words/s, in_qsize 15, out_qsize 0\n",
            "2022-05-31 20:16:18,654 : INFO : EPOCH 5 - PROGRESS: at 77.20% examples, 473987 words/s, in_qsize 15, out_qsize 0\n",
            "2022-05-31 20:16:19,712 : INFO : EPOCH 5 - PROGRESS: at 83.18% examples, 473194 words/s, in_qsize 12, out_qsize 7\n",
            "2022-05-31 20:16:20,754 : INFO : EPOCH 5 - PROGRESS: at 89.56% examples, 475270 words/s, in_qsize 15, out_qsize 0\n",
            "2022-05-31 20:16:21,776 : INFO : EPOCH 5 - PROGRESS: at 95.56% examples, 475498 words/s, in_qsize 14, out_qsize 1\n",
            "2022-05-31 20:16:22,335 : INFO : worker thread finished; awaiting finish of 7 more threads\n",
            "2022-05-31 20:16:22,396 : INFO : worker thread finished; awaiting finish of 6 more threads\n",
            "2022-05-31 20:16:22,401 : INFO : worker thread finished; awaiting finish of 5 more threads\n",
            "2022-05-31 20:16:22,408 : INFO : worker thread finished; awaiting finish of 4 more threads\n",
            "2022-05-31 20:16:22,412 : INFO : worker thread finished; awaiting finish of 3 more threads\n",
            "2022-05-31 20:16:22,422 : INFO : worker thread finished; awaiting finish of 2 more threads\n",
            "2022-05-31 20:16:22,423 : INFO : worker thread finished; awaiting finish of 1 more threads\n",
            "2022-05-31 20:16:22,427 : INFO : worker thread finished; awaiting finish of 0 more threads\n",
            "2022-05-31 20:16:22,428 : INFO : EPOCH - 5 : training on 9227204 raw words (8223083 effective words) took 17.2s, 478781 effective words/s\n",
            "2022-05-31 20:16:23,480 : INFO : EPOCH 6 - PROGRESS: at 5.54% examples, 437430 words/s, in_qsize 15, out_qsize 0\n",
            "2022-05-31 20:16:24,497 : INFO : EPOCH 6 - PROGRESS: at 10.86% examples, 433502 words/s, in_qsize 15, out_qsize 0\n",
            "2022-05-31 20:16:25,536 : INFO : EPOCH 6 - PROGRESS: at 16.37% examples, 438010 words/s, in_qsize 15, out_qsize 0\n",
            "2022-05-31 20:16:26,531 : INFO : EPOCH 6 - PROGRESS: at 22.33% examples, 448835 words/s, in_qsize 14, out_qsize 0\n",
            "2022-05-31 20:16:27,544 : INFO : EPOCH 6 - PROGRESS: at 28.18% examples, 454038 words/s, in_qsize 15, out_qsize 0\n",
            "2022-05-31 20:16:28,607 : INFO : EPOCH 6 - PROGRESS: at 34.14% examples, 455260 words/s, in_qsize 14, out_qsize 4\n",
            "2022-05-31 20:16:29,609 : INFO : EPOCH 6 - PROGRESS: at 40.19% examples, 461176 words/s, in_qsize 15, out_qsize 0\n",
            "2022-05-31 20:16:30,631 : INFO : EPOCH 6 - PROGRESS: at 46.46% examples, 466659 words/s, in_qsize 16, out_qsize 0\n",
            "2022-05-31 20:16:31,755 : INFO : EPOCH 6 - PROGRESS: at 52.84% examples, 466800 words/s, in_qsize 16, out_qsize 0\n",
            "2022-05-31 20:16:32,839 : INFO : EPOCH 6 - PROGRESS: at 59.23% examples, 468685 words/s, in_qsize 15, out_qsize 0\n",
            "2022-05-31 20:16:33,861 : INFO : EPOCH 6 - PROGRESS: at 65.38% examples, 471171 words/s, in_qsize 15, out_qsize 0\n",
            "2022-05-31 20:16:34,881 : INFO : EPOCH 6 - PROGRESS: at 71.35% examples, 471966 words/s, in_qsize 15, out_qsize 0\n",
            "2022-05-31 20:16:35,939 : INFO : EPOCH 6 - PROGRESS: at 77.41% examples, 471877 words/s, in_qsize 12, out_qsize 3\n",
            "2022-05-31 20:16:36,969 : INFO : EPOCH 6 - PROGRESS: at 83.72% examples, 473984 words/s, in_qsize 15, out_qsize 0\n",
            "2022-05-31 20:16:38,041 : INFO : EPOCH 6 - PROGRESS: at 89.89% examples, 473957 words/s, in_qsize 14, out_qsize 1\n",
            "2022-05-31 20:16:39,056 : INFO : EPOCH 6 - PROGRESS: at 95.99% examples, 474994 words/s, in_qsize 15, out_qsize 1\n",
            "2022-05-31 20:16:39,602 : INFO : worker thread finished; awaiting finish of 7 more threads\n",
            "2022-05-31 20:16:39,613 : INFO : worker thread finished; awaiting finish of 6 more threads\n",
            "2022-05-31 20:16:39,616 : INFO : worker thread finished; awaiting finish of 5 more threads\n",
            "2022-05-31 20:16:39,633 : INFO : worker thread finished; awaiting finish of 4 more threads\n",
            "2022-05-31 20:16:39,664 : INFO : worker thread finished; awaiting finish of 3 more threads\n",
            "2022-05-31 20:16:39,666 : INFO : worker thread finished; awaiting finish of 2 more threads\n",
            "2022-05-31 20:16:39,676 : INFO : worker thread finished; awaiting finish of 1 more threads\n",
            "2022-05-31 20:16:39,685 : INFO : worker thread finished; awaiting finish of 0 more threads\n",
            "2022-05-31 20:16:39,688 : INFO : EPOCH - 6 : training on 9227204 raw words (8222034 effective words) took 17.2s, 476753 effective words/s\n",
            "2022-05-31 20:16:40,720 : INFO : EPOCH 7 - PROGRESS: at 5.43% examples, 436072 words/s, in_qsize 14, out_qsize 1\n",
            "2022-05-31 20:16:41,785 : INFO : EPOCH 7 - PROGRESS: at 11.95% examples, 469788 words/s, in_qsize 15, out_qsize 0\n",
            "2022-05-31 20:16:42,826 : INFO : EPOCH 7 - PROGRESS: at 17.57% examples, 461420 words/s, in_qsize 13, out_qsize 4\n",
            "2022-05-31 20:16:43,839 : INFO : EPOCH 7 - PROGRESS: at 23.63% examples, 469044 words/s, in_qsize 15, out_qsize 0\n",
            "2022-05-31 20:16:44,854 : INFO : EPOCH 7 - PROGRESS: at 29.70% examples, 473507 words/s, in_qsize 15, out_qsize 0\n",
            "2022-05-31 20:16:45,861 : INFO : EPOCH 7 - PROGRESS: at 35.11% examples, 468392 words/s, in_qsize 10, out_qsize 5\n",
            "2022-05-31 20:16:46,947 : INFO : EPOCH 7 - PROGRESS: at 41.70% examples, 473158 words/s, in_qsize 15, out_qsize 0\n",
            "2022-05-31 20:16:47,992 : INFO : EPOCH 7 - PROGRESS: at 47.65% examples, 472568 words/s, in_qsize 16, out_qsize 4\n",
            "2022-05-31 20:16:49,036 : INFO : EPOCH 7 - PROGRESS: at 54.35% examples, 478925 words/s, in_qsize 16, out_qsize 0\n",
            "2022-05-31 20:16:50,056 : INFO : EPOCH 7 - PROGRESS: at 59.87% examples, 476324 words/s, in_qsize 15, out_qsize 3\n",
            "2022-05-31 20:16:51,136 : INFO : EPOCH 7 - PROGRESS: at 66.15% examples, 475877 words/s, in_qsize 16, out_qsize 2\n",
            "2022-05-31 20:16:52,148 : INFO : EPOCH 7 - PROGRESS: at 71.89% examples, 475150 words/s, in_qsize 16, out_qsize 1\n",
            "2022-05-31 20:16:53,174 : INFO : EPOCH 7 - PROGRESS: at 77.96% examples, 475990 words/s, in_qsize 16, out_qsize 1\n",
            "2022-05-31 20:16:54,188 : INFO : EPOCH 7 - PROGRESS: at 83.83% examples, 475880 words/s, in_qsize 14, out_qsize 2\n",
            "2022-05-31 20:16:55,227 : INFO : EPOCH 7 - PROGRESS: at 90.00% examples, 476694 words/s, in_qsize 16, out_qsize 0\n",
            "2022-05-31 20:16:56,248 : INFO : EPOCH 7 - PROGRESS: at 95.23% examples, 473110 words/s, in_qsize 14, out_qsize 1\n",
            "2022-05-31 20:16:56,918 : INFO : worker thread finished; awaiting finish of 7 more threads\n",
            "2022-05-31 20:16:56,934 : INFO : worker thread finished; awaiting finish of 6 more threads\n",
            "2022-05-31 20:16:56,939 : INFO : worker thread finished; awaiting finish of 5 more threads\n",
            "2022-05-31 20:16:56,946 : INFO : worker thread finished; awaiting finish of 4 more threads\n",
            "2022-05-31 20:16:56,948 : INFO : worker thread finished; awaiting finish of 3 more threads\n",
            "2022-05-31 20:16:56,958 : INFO : worker thread finished; awaiting finish of 2 more threads\n",
            "2022-05-31 20:16:56,968 : INFO : worker thread finished; awaiting finish of 1 more threads\n",
            "2022-05-31 20:16:56,979 : INFO : worker thread finished; awaiting finish of 0 more threads\n",
            "2022-05-31 20:16:56,981 : INFO : EPOCH - 7 : training on 9227204 raw words (8222321 effective words) took 17.3s, 475776 effective words/s\n",
            "2022-05-31 20:16:58,001 : INFO : EPOCH 8 - PROGRESS: at 5.65% examples, 458829 words/s, in_qsize 15, out_qsize 0\n",
            "2022-05-31 20:16:59,035 : INFO : EPOCH 8 - PROGRESS: at 11.19% examples, 449389 words/s, in_qsize 16, out_qsize 0\n",
            "2022-05-31 20:17:00,042 : INFO : EPOCH 8 - PROGRESS: at 17.03% examples, 458556 words/s, in_qsize 15, out_qsize 0\n",
            "2022-05-31 20:17:01,094 : INFO : EPOCH 8 - PROGRESS: at 23.20% examples, 464815 words/s, in_qsize 15, out_qsize 0\n",
            "2022-05-31 20:17:02,126 : INFO : EPOCH 8 - PROGRESS: at 29.27% examples, 468575 words/s, in_qsize 15, out_qsize 0\n",
            "2022-05-31 20:17:03,182 : INFO : EPOCH 8 - PROGRESS: at 35.10% examples, 466346 words/s, in_qsize 14, out_qsize 6\n",
            "2022-05-31 20:17:04,195 : INFO : EPOCH 8 - PROGRESS: at 41.37% examples, 472468 words/s, in_qsize 15, out_qsize 0\n",
            "2022-05-31 20:17:05,251 : INFO : EPOCH 8 - PROGRESS: at 47.53% examples, 473550 words/s, in_qsize 15, out_qsize 0\n",
            "2022-05-31 20:17:06,266 : INFO : EPOCH 8 - PROGRESS: at 53.59% examples, 475523 words/s, in_qsize 15, out_qsize 0\n",
            "2022-05-31 20:17:07,282 : INFO : EPOCH 8 - PROGRESS: at 59.23% examples, 473618 words/s, in_qsize 14, out_qsize 1\n",
            "2022-05-31 20:17:08,290 : INFO : EPOCH 8 - PROGRESS: at 65.17% examples, 474722 words/s, in_qsize 15, out_qsize 0\n",
            "2022-05-31 20:17:09,321 : INFO : EPOCH 8 - PROGRESS: at 71.24% examples, 475524 words/s, in_qsize 16, out_qsize 1\n",
            "2022-05-31 20:17:10,336 : INFO : EPOCH 8 - PROGRESS: at 77.20% examples, 476043 words/s, in_qsize 15, out_qsize 0\n",
            "2022-05-31 20:17:11,399 : INFO : EPOCH 8 - PROGRESS: at 83.29% examples, 475561 words/s, in_qsize 11, out_qsize 4\n",
            "2022-05-31 20:17:12,441 : INFO : EPOCH 8 - PROGRESS: at 89.45% examples, 476325 words/s, in_qsize 16, out_qsize 0\n",
            "2022-05-31 20:17:13,475 : INFO : EPOCH 8 - PROGRESS: at 95.77% examples, 477768 words/s, in_qsize 16, out_qsize 0\n",
            "2022-05-31 20:17:14,002 : INFO : worker thread finished; awaiting finish of 7 more threads\n",
            "2022-05-31 20:17:14,033 : INFO : worker thread finished; awaiting finish of 6 more threads\n",
            "2022-05-31 20:17:14,040 : INFO : worker thread finished; awaiting finish of 5 more threads\n",
            "2022-05-31 20:17:14,046 : INFO : worker thread finished; awaiting finish of 4 more threads\n",
            "2022-05-31 20:17:14,059 : INFO : worker thread finished; awaiting finish of 3 more threads\n",
            "2022-05-31 20:17:14,078 : INFO : worker thread finished; awaiting finish of 2 more threads\n",
            "2022-05-31 20:17:14,094 : INFO : worker thread finished; awaiting finish of 1 more threads\n",
            "2022-05-31 20:17:14,098 : INFO : worker thread finished; awaiting finish of 0 more threads\n",
            "2022-05-31 20:17:14,099 : INFO : EPOCH - 8 : training on 9227204 raw words (8223198 effective words) took 17.1s, 480695 effective words/s\n",
            "2022-05-31 20:17:15,123 : INFO : EPOCH 9 - PROGRESS: at 5.43% examples, 440784 words/s, in_qsize 15, out_qsize 0\n",
            "2022-05-31 20:17:16,133 : INFO : EPOCH 9 - PROGRESS: at 11.08% examples, 449819 words/s, in_qsize 14, out_qsize 4\n",
            "2022-05-31 20:17:17,172 : INFO : EPOCH 9 - PROGRESS: at 17.35% examples, 465875 words/s, in_qsize 16, out_qsize 1\n",
            "2022-05-31 20:17:18,202 : INFO : EPOCH 9 - PROGRESS: at 23.42% examples, 470520 words/s, in_qsize 15, out_qsize 0\n",
            "2022-05-31 20:17:19,213 : INFO : EPOCH 9 - PROGRESS: at 29.38% examples, 473379 words/s, in_qsize 15, out_qsize 2\n",
            "2022-05-31 20:17:20,214 : INFO : EPOCH 9 - PROGRESS: at 35.32% examples, 475990 words/s, in_qsize 15, out_qsize 0\n",
            "2022-05-31 20:17:21,236 : INFO : EPOCH 9 - PROGRESS: at 41.16% examples, 475200 words/s, in_qsize 12, out_qsize 3\n",
            "2022-05-31 20:17:22,273 : INFO : EPOCH 9 - PROGRESS: at 47.43% examples, 478140 words/s, in_qsize 15, out_qsize 1\n",
            "2022-05-31 20:17:23,349 : INFO : EPOCH 9 - PROGRESS: at 53.92% examples, 480347 words/s, in_qsize 15, out_qsize 0\n",
            "2022-05-31 20:17:24,411 : INFO : EPOCH 9 - PROGRESS: at 59.87% examples, 478417 words/s, in_qsize 15, out_qsize 0\n",
            "2022-05-31 20:17:25,436 : INFO : EPOCH 9 - PROGRESS: at 65.93% examples, 479120 words/s, in_qsize 14, out_qsize 1\n",
            "2022-05-31 20:17:26,439 : INFO : EPOCH 9 - PROGRESS: at 71.56% examples, 477751 words/s, in_qsize 15, out_qsize 0\n",
            "2022-05-31 20:17:27,440 : INFO : EPOCH 9 - PROGRESS: at 77.20% examples, 476602 words/s, in_qsize 16, out_qsize 0\n",
            "2022-05-31 20:17:28,442 : INFO : EPOCH 9 - PROGRESS: at 82.85% examples, 475612 words/s, in_qsize 15, out_qsize 0\n",
            "2022-05-31 20:17:29,443 : INFO : EPOCH 9 - PROGRESS: at 88.91% examples, 477057 words/s, in_qsize 16, out_qsize 0\n",
            "2022-05-31 20:17:30,444 : INFO : EPOCH 9 - PROGRESS: at 94.79% examples, 477220 words/s, in_qsize 15, out_qsize 0\n",
            "2022-05-31 20:17:31,206 : INFO : worker thread finished; awaiting finish of 7 more threads\n",
            "2022-05-31 20:17:31,209 : INFO : worker thread finished; awaiting finish of 6 more threads\n",
            "2022-05-31 20:17:31,212 : INFO : worker thread finished; awaiting finish of 5 more threads\n",
            "2022-05-31 20:17:31,219 : INFO : worker thread finished; awaiting finish of 4 more threads\n",
            "2022-05-31 20:17:31,238 : INFO : worker thread finished; awaiting finish of 3 more threads\n",
            "2022-05-31 20:17:31,239 : INFO : worker thread finished; awaiting finish of 2 more threads\n",
            "2022-05-31 20:17:31,259 : INFO : worker thread finished; awaiting finish of 1 more threads\n",
            "2022-05-31 20:17:31,264 : INFO : worker thread finished; awaiting finish of 0 more threads\n",
            "2022-05-31 20:17:31,265 : INFO : EPOCH - 9 : training on 9227204 raw words (8222516 effective words) took 17.2s, 479382 effective words/s\n",
            "2022-05-31 20:17:32,340 : INFO : EPOCH 10 - PROGRESS: at 5.54% examples, 427696 words/s, in_qsize 13, out_qsize 3\n",
            "2022-05-31 20:17:33,425 : INFO : EPOCH 10 - PROGRESS: at 11.95% examples, 456590 words/s, in_qsize 15, out_qsize 0\n",
            "2022-05-31 20:17:34,437 : INFO : EPOCH 10 - PROGRESS: at 18.11% examples, 470858 words/s, in_qsize 15, out_qsize 0\n",
            "2022-05-31 20:17:35,449 : INFO : EPOCH 10 - PROGRESS: at 23.85% examples, 469893 words/s, in_qsize 14, out_qsize 1\n",
            "2022-05-31 20:17:36,469 : INFO : EPOCH 10 - PROGRESS: at 29.81% examples, 472155 words/s, in_qsize 16, out_qsize 5\n",
            "2022-05-31 20:17:37,563 : INFO : EPOCH 10 - PROGRESS: at 36.18% examples, 473420 words/s, in_qsize 13, out_qsize 2\n",
            "2022-05-31 20:17:38,590 : INFO : EPOCH 10 - PROGRESS: at 42.24% examples, 475109 words/s, in_qsize 15, out_qsize 0\n",
            "2022-05-31 20:17:39,602 : INFO : EPOCH 10 - PROGRESS: at 48.19% examples, 476196 words/s, in_qsize 14, out_qsize 1\n",
            "2022-05-31 20:17:40,633 : INFO : EPOCH 10 - PROGRESS: at 54.35% examples, 478052 words/s, in_qsize 15, out_qsize 0\n",
            "2022-05-31 20:17:41,675 : INFO : EPOCH 10 - PROGRESS: at 60.09% examples, 475577 words/s, in_qsize 15, out_qsize 0\n",
            "2022-05-31 20:17:42,708 : INFO : EPOCH 10 - PROGRESS: at 65.72% examples, 473083 words/s, in_qsize 14, out_qsize 3\n",
            "2022-05-31 20:17:43,756 : INFO : EPOCH 10 - PROGRESS: at 71.99% examples, 474810 words/s, in_qsize 15, out_qsize 0\n",
            "2022-05-31 20:17:44,758 : INFO : EPOCH 10 - PROGRESS: at 78.07% examples, 476489 words/s, in_qsize 15, out_qsize 0\n",
            "2022-05-31 20:17:45,782 : INFO : EPOCH 10 - PROGRESS: at 83.51% examples, 473552 words/s, in_qsize 14, out_qsize 1\n",
            "2022-05-31 20:17:46,802 : INFO : EPOCH 10 - PROGRESS: at 89.56% examples, 474911 words/s, in_qsize 15, out_qsize 0\n",
            "2022-05-31 20:17:47,817 : INFO : EPOCH 10 - PROGRESS: at 95.77% examples, 476106 words/s, in_qsize 15, out_qsize 0\n",
            "2022-05-31 20:17:48,392 : INFO : worker thread finished; awaiting finish of 7 more threads\n",
            "2022-05-31 20:17:48,403 : INFO : worker thread finished; awaiting finish of 6 more threads\n",
            "2022-05-31 20:17:48,422 : INFO : worker thread finished; awaiting finish of 5 more threads\n",
            "2022-05-31 20:17:48,435 : INFO : worker thread finished; awaiting finish of 4 more threads\n",
            "2022-05-31 20:17:48,449 : INFO : worker thread finished; awaiting finish of 3 more threads\n",
            "2022-05-31 20:17:48,475 : INFO : worker thread finished; awaiting finish of 2 more threads\n",
            "2022-05-31 20:17:48,481 : INFO : worker thread finished; awaiting finish of 1 more threads\n",
            "2022-05-31 20:17:48,482 : INFO : worker thread finished; awaiting finish of 0 more threads\n",
            "2022-05-31 20:17:48,483 : INFO : EPOCH - 10 : training on 9227204 raw words (8222827 effective words) took 17.2s, 477932 effective words/s\n",
            "2022-05-31 20:17:49,499 : INFO : EPOCH 11 - PROGRESS: at 5.21% examples, 426514 words/s, in_qsize 16, out_qsize 1\n",
            "2022-05-31 20:17:50,511 : INFO : EPOCH 11 - PROGRESS: at 11.08% examples, 451129 words/s, in_qsize 15, out_qsize 0\n",
            "2022-05-31 20:17:51,626 : INFO : EPOCH 11 - PROGRESS: at 17.35% examples, 455421 words/s, in_qsize 14, out_qsize 1\n",
            "2022-05-31 20:17:52,703 : INFO : EPOCH 11 - PROGRESS: at 23.09% examples, 451051 words/s, in_qsize 15, out_qsize 0\n",
            "2022-05-31 20:17:53,705 : INFO : EPOCH 11 - PROGRESS: at 29.26% examples, 461790 words/s, in_qsize 15, out_qsize 0\n",
            "2022-05-31 20:17:54,716 : INFO : EPOCH 11 - PROGRESS: at 35.10% examples, 464066 words/s, in_qsize 15, out_qsize 0\n",
            "2022-05-31 20:17:55,723 : INFO : EPOCH 11 - PROGRESS: at 41.05% examples, 467206 words/s, in_qsize 15, out_qsize 0\n",
            "2022-05-31 20:17:56,754 : INFO : EPOCH 11 - PROGRESS: at 47.00% examples, 468202 words/s, in_qsize 15, out_qsize 0\n",
            "2022-05-31 20:17:57,823 : INFO : EPOCH 11 - PROGRESS: at 52.62% examples, 464558 words/s, in_qsize 16, out_qsize 4\n",
            "2022-05-31 20:17:58,874 : INFO : EPOCH 11 - PROGRESS: at 58.69% examples, 465317 words/s, in_qsize 15, out_qsize 0\n",
            "2022-05-31 20:17:59,907 : INFO : EPOCH 11 - PROGRESS: at 64.62% examples, 466119 words/s, in_qsize 14, out_qsize 1\n",
            "2022-05-31 20:18:00,932 : INFO : EPOCH 11 - PROGRESS: at 70.70% examples, 467821 words/s, in_qsize 14, out_qsize 1\n",
            "2022-05-31 20:18:01,951 : INFO : EPOCH 11 - PROGRESS: at 76.44% examples, 467466 words/s, in_qsize 11, out_qsize 4\n",
            "2022-05-31 20:18:02,963 : INFO : EPOCH 11 - PROGRESS: at 82.64% examples, 469857 words/s, in_qsize 15, out_qsize 0\n",
            "2022-05-31 20:18:04,024 : INFO : EPOCH 11 - PROGRESS: at 88.05% examples, 467263 words/s, in_qsize 16, out_qsize 7\n",
            "2022-05-31 20:18:04,997 : INFO : EPOCH 11 - PROGRESS: at 94.25% examples, 469662 words/s, in_qsize 15, out_qsize 2\n",
            "2022-05-31 20:18:05,836 : INFO : worker thread finished; awaiting finish of 7 more threads\n",
            "2022-05-31 20:18:05,845 : INFO : worker thread finished; awaiting finish of 6 more threads\n",
            "2022-05-31 20:18:05,851 : INFO : worker thread finished; awaiting finish of 5 more threads\n",
            "2022-05-31 20:18:05,875 : INFO : worker thread finished; awaiting finish of 4 more threads\n",
            "2022-05-31 20:18:05,882 : INFO : worker thread finished; awaiting finish of 3 more threads\n",
            "2022-05-31 20:18:05,888 : INFO : worker thread finished; awaiting finish of 2 more threads\n",
            "2022-05-31 20:18:05,889 : INFO : worker thread finished; awaiting finish of 1 more threads\n",
            "2022-05-31 20:18:05,893 : INFO : worker thread finished; awaiting finish of 0 more threads\n",
            "2022-05-31 20:18:05,894 : INFO : EPOCH - 11 : training on 9227204 raw words (8222435 effective words) took 17.4s, 472643 effective words/s\n",
            "2022-05-31 20:18:06,977 : INFO : EPOCH 12 - PROGRESS: at 5.64% examples, 433209 words/s, in_qsize 15, out_qsize 0\n",
            "2022-05-31 20:18:08,032 : INFO : EPOCH 12 - PROGRESS: at 11.73% examples, 453024 words/s, in_qsize 15, out_qsize 0\n",
            "2022-05-31 20:18:09,130 : INFO : EPOCH 12 - PROGRESS: at 17.57% examples, 447902 words/s, in_qsize 11, out_qsize 6\n",
            "2022-05-31 20:18:10,148 : INFO : EPOCH 12 - PROGRESS: at 23.96% examples, 464348 words/s, in_qsize 15, out_qsize 0\n",
            "2022-05-31 20:18:11,152 : INFO : EPOCH 12 - PROGRESS: at 29.59% examples, 463853 words/s, in_qsize 15, out_qsize 0\n",
            "2022-05-31 20:18:12,171 : INFO : EPOCH 12 - PROGRESS: at 35.54% examples, 467973 words/s, in_qsize 15, out_qsize 0\n",
            "2022-05-31 20:18:13,198 : INFO : EPOCH 12 - PROGRESS: at 41.59% examples, 469316 words/s, in_qsize 15, out_qsize 0\n",
            "2022-05-31 20:18:14,237 : INFO : EPOCH 12 - PROGRESS: at 47.65% examples, 470653 words/s, in_qsize 15, out_qsize 0\n",
            "2022-05-31 20:18:15,267 : INFO : EPOCH 12 - PROGRESS: at 53.81% examples, 473141 words/s, in_qsize 16, out_qsize 0\n",
            "2022-05-31 20:18:16,292 : INFO : EPOCH 12 - PROGRESS: at 59.77% examples, 473649 words/s, in_qsize 15, out_qsize 1\n",
            "2022-05-31 20:18:17,324 : INFO : EPOCH 12 - PROGRESS: at 65.39% examples, 471406 words/s, in_qsize 11, out_qsize 3\n",
            "2022-05-31 20:18:18,367 : INFO : EPOCH 12 - PROGRESS: at 71.45% examples, 471978 words/s, in_qsize 15, out_qsize 0\n",
            "2022-05-31 20:18:19,418 : INFO : EPOCH 12 - PROGRESS: at 77.31% examples, 470825 words/s, in_qsize 13, out_qsize 2\n",
            "2022-05-31 20:18:20,505 : INFO : EPOCH 12 - PROGRESS: at 83.72% examples, 471781 words/s, in_qsize 15, out_qsize 0\n",
            "2022-05-31 20:18:21,531 : INFO : EPOCH 12 - PROGRESS: at 89.34% examples, 470966 words/s, in_qsize 16, out_qsize 4\n",
            "2022-05-31 20:18:22,514 : INFO : EPOCH 12 - PROGRESS: at 95.55% examples, 473130 words/s, in_qsize 15, out_qsize 0\n",
            "2022-05-31 20:18:23,133 : INFO : worker thread finished; awaiting finish of 7 more threads\n",
            "2022-05-31 20:18:23,144 : INFO : worker thread finished; awaiting finish of 6 more threads\n",
            "2022-05-31 20:18:23,149 : INFO : worker thread finished; awaiting finish of 5 more threads\n",
            "2022-05-31 20:18:23,189 : INFO : worker thread finished; awaiting finish of 4 more threads\n",
            "2022-05-31 20:18:23,197 : INFO : worker thread finished; awaiting finish of 3 more threads\n",
            "2022-05-31 20:18:23,199 : INFO : worker thread finished; awaiting finish of 2 more threads\n",
            "2022-05-31 20:18:23,210 : INFO : worker thread finished; awaiting finish of 1 more threads\n",
            "2022-05-31 20:18:23,218 : INFO : worker thread finished; awaiting finish of 0 more threads\n",
            "2022-05-31 20:18:23,219 : INFO : EPOCH - 12 : training on 9227204 raw words (8223269 effective words) took 17.3s, 475027 effective words/s\n",
            "2022-05-31 20:18:24,240 : INFO : EPOCH 13 - PROGRESS: at 5.32% examples, 432888 words/s, in_qsize 16, out_qsize 1\n",
            "2022-05-31 20:18:25,342 : INFO : EPOCH 13 - PROGRESS: at 11.29% examples, 439379 words/s, in_qsize 14, out_qsize 1\n",
            "2022-05-31 20:18:26,381 : INFO : EPOCH 13 - PROGRESS: at 17.46% examples, 455496 words/s, in_qsize 15, out_qsize 0\n",
            "2022-05-31 20:18:27,502 : INFO : EPOCH 13 - PROGRESS: at 23.74% examples, 457679 words/s, in_qsize 14, out_qsize 3\n",
            "2022-05-31 20:18:28,560 : INFO : EPOCH 13 - PROGRESS: at 29.48% examples, 454851 words/s, in_qsize 15, out_qsize 0\n",
            "2022-05-31 20:18:29,606 : INFO : EPOCH 13 - PROGRESS: at 35.75% examples, 461298 words/s, in_qsize 15, out_qsize 0\n",
            "2022-05-31 20:18:30,620 : INFO : EPOCH 13 - PROGRESS: at 41.91% examples, 466635 words/s, in_qsize 15, out_qsize 0\n",
            "2022-05-31 20:18:31,624 : INFO : EPOCH 13 - PROGRESS: at 47.21% examples, 462793 words/s, in_qsize 16, out_qsize 6\n",
            "2022-05-31 20:18:32,633 : INFO : EPOCH 13 - PROGRESS: at 53.48% examples, 468144 words/s, in_qsize 15, out_qsize 0\n",
            "2022-05-31 20:18:33,682 : INFO : EPOCH 13 - PROGRESS: at 59.66% examples, 469728 words/s, in_qsize 15, out_qsize 0\n",
            "2022-05-31 20:18:34,701 : INFO : EPOCH 13 - PROGRESS: at 65.72% examples, 471505 words/s, in_qsize 16, out_qsize 0\n",
            "2022-05-31 20:18:35,702 : INFO : EPOCH 13 - PROGRESS: at 71.67% examples, 472943 words/s, in_qsize 15, out_qsize 1\n",
            "2022-05-31 20:18:36,714 : INFO : EPOCH 13 - PROGRESS: at 77.31% examples, 471771 words/s, in_qsize 16, out_qsize 1\n",
            "2022-05-31 20:18:37,715 : INFO : EPOCH 13 - PROGRESS: at 83.62% examples, 474835 words/s, in_qsize 16, out_qsize 1\n",
            "2022-05-31 20:18:38,739 : INFO : EPOCH 13 - PROGRESS: at 89.67% examples, 475667 words/s, in_qsize 15, out_qsize 0\n",
            "2022-05-31 20:18:39,740 : INFO : EPOCH 13 - PROGRESS: at 95.34% examples, 474847 words/s, in_qsize 15, out_qsize 0\n",
            "2022-05-31 20:18:40,364 : INFO : worker thread finished; awaiting finish of 7 more threads\n",
            "2022-05-31 20:18:40,403 : INFO : worker thread finished; awaiting finish of 6 more threads\n",
            "2022-05-31 20:18:40,406 : INFO : worker thread finished; awaiting finish of 5 more threads\n",
            "2022-05-31 20:18:40,451 : INFO : worker thread finished; awaiting finish of 4 more threads\n",
            "2022-05-31 20:18:40,461 : INFO : worker thread finished; awaiting finish of 3 more threads\n",
            "2022-05-31 20:18:40,471 : INFO : worker thread finished; awaiting finish of 2 more threads\n",
            "2022-05-31 20:18:40,480 : INFO : worker thread finished; awaiting finish of 1 more threads\n",
            "2022-05-31 20:18:40,481 : INFO : worker thread finished; awaiting finish of 0 more threads\n",
            "2022-05-31 20:18:40,487 : INFO : EPOCH - 13 : training on 9227204 raw words (8222836 effective words) took 17.3s, 476537 effective words/s\n",
            "2022-05-31 20:18:41,532 : INFO : EPOCH 14 - PROGRESS: at 5.32% examples, 421627 words/s, in_qsize 14, out_qsize 1\n",
            "2022-05-31 20:18:42,639 : INFO : EPOCH 14 - PROGRESS: at 11.62% examples, 444992 words/s, in_qsize 14, out_qsize 1\n",
            "2022-05-31 20:18:43,670 : INFO : EPOCH 14 - PROGRESS: at 17.57% examples, 454646 words/s, in_qsize 15, out_qsize 0\n",
            "2022-05-31 20:18:44,733 : INFO : EPOCH 14 - PROGRESS: at 23.41% examples, 454191 words/s, in_qsize 14, out_qsize 3\n",
            "2022-05-31 20:18:45,798 : INFO : EPOCH 14 - PROGRESS: at 29.48% examples, 457085 words/s, in_qsize 16, out_qsize 1\n",
            "2022-05-31 20:18:46,804 : INFO : EPOCH 14 - PROGRESS: at 35.00% examples, 456172 words/s, in_qsize 15, out_qsize 0\n",
            "2022-05-31 20:18:47,891 : INFO : EPOCH 14 - PROGRESS: at 41.05% examples, 457915 words/s, in_qsize 16, out_qsize 3\n",
            "2022-05-31 20:18:48,877 : INFO : EPOCH 14 - PROGRESS: at 46.89% examples, 460295 words/s, in_qsize 15, out_qsize 0\n",
            "2022-05-31 20:18:49,885 : INFO : EPOCH 14 - PROGRESS: at 52.73% examples, 462147 words/s, in_qsize 15, out_qsize 0\n",
            "2022-05-31 20:18:50,924 : INFO : EPOCH 14 - PROGRESS: at 58.26% examples, 459677 words/s, in_qsize 14, out_qsize 1\n",
            "2022-05-31 20:18:51,945 : INFO : EPOCH 14 - PROGRESS: at 63.97% examples, 459925 words/s, in_qsize 14, out_qsize 3\n",
            "2022-05-31 20:18:53,028 : INFO : EPOCH 14 - PROGRESS: at 70.05% examples, 460007 words/s, in_qsize 15, out_qsize 0\n",
            "2022-05-31 20:18:54,040 : INFO : EPOCH 14 - PROGRESS: at 75.78% examples, 460474 words/s, in_qsize 15, out_qsize 0\n",
            "2022-05-31 20:18:55,084 : INFO : EPOCH 14 - PROGRESS: at 81.66% examples, 460476 words/s, in_qsize 14, out_qsize 1\n",
            "2022-05-31 20:18:56,121 : INFO : EPOCH 14 - PROGRESS: at 87.62% examples, 461292 words/s, in_qsize 15, out_qsize 0\n",
            "2022-05-31 20:18:57,177 : INFO : EPOCH 14 - PROGRESS: at 93.81% examples, 462486 words/s, in_qsize 14, out_qsize 1\n",
            "2022-05-31 20:18:58,089 : INFO : worker thread finished; awaiting finish of 7 more threads\n",
            "2022-05-31 20:18:58,091 : INFO : worker thread finished; awaiting finish of 6 more threads\n",
            "2022-05-31 20:18:58,099 : INFO : worker thread finished; awaiting finish of 5 more threads\n",
            "2022-05-31 20:18:58,112 : INFO : worker thread finished; awaiting finish of 4 more threads\n",
            "2022-05-31 20:18:58,128 : INFO : worker thread finished; awaiting finish of 3 more threads\n",
            "2022-05-31 20:18:58,131 : INFO : worker thread finished; awaiting finish of 2 more threads\n",
            "2022-05-31 20:18:58,135 : INFO : worker thread finished; awaiting finish of 1 more threads\n",
            "2022-05-31 20:18:58,141 : INFO : worker thread finished; awaiting finish of 0 more threads\n",
            "2022-05-31 20:18:58,143 : INFO : EPOCH - 14 : training on 9227204 raw words (8222628 effective words) took 17.6s, 465999 effective words/s\n",
            "2022-05-31 20:18:59,156 : INFO : EPOCH 15 - PROGRESS: at 4.78% examples, 391299 words/s, in_qsize 14, out_qsize 1\n",
            "2022-05-31 20:19:00,186 : INFO : EPOCH 15 - PROGRESS: at 10.86% examples, 438445 words/s, in_qsize 15, out_qsize 0\n",
            "2022-05-31 20:19:01,222 : INFO : EPOCH 15 - PROGRESS: at 16.27% examples, 435483 words/s, in_qsize 14, out_qsize 1\n",
            "2022-05-31 20:19:02,231 : INFO : EPOCH 15 - PROGRESS: at 21.46% examples, 432575 words/s, in_qsize 14, out_qsize 1\n",
            "2022-05-31 20:19:03,331 : INFO : EPOCH 15 - PROGRESS: at 27.96% examples, 443990 words/s, in_qsize 14, out_qsize 1\n",
            "2022-05-31 20:19:04,351 : INFO : EPOCH 15 - PROGRESS: at 33.59% examples, 445579 words/s, in_qsize 13, out_qsize 2\n",
            "2022-05-31 20:19:05,354 : INFO : EPOCH 15 - PROGRESS: at 39.65% examples, 452810 words/s, in_qsize 12, out_qsize 2\n",
            "2022-05-31 20:19:06,380 : INFO : EPOCH 15 - PROGRESS: at 45.37% examples, 453747 words/s, in_qsize 15, out_qsize 0\n",
            "2022-05-31 20:19:07,385 : INFO : EPOCH 15 - PROGRESS: at 51.21% examples, 456428 words/s, in_qsize 15, out_qsize 0\n",
            "2022-05-31 20:19:08,391 : INFO : EPOCH 15 - PROGRESS: at 57.06% examples, 458609 words/s, in_qsize 15, out_qsize 0\n",
            "2022-05-31 20:19:09,397 : INFO : EPOCH 15 - PROGRESS: at 62.57% examples, 457975 words/s, in_qsize 16, out_qsize 0\n",
            "2022-05-31 20:19:10,412 : INFO : EPOCH 15 - PROGRESS: at 68.75% examples, 461477 words/s, in_qsize 15, out_qsize 0\n",
            "2022-05-31 20:19:11,429 : INFO : EPOCH 15 - PROGRESS: at 74.05% examples, 459422 words/s, in_qsize 16, out_qsize 1\n",
            "2022-05-31 20:19:12,420 : INFO : EPOCH 15 - PROGRESS: at 80.03% examples, 461429 words/s, in_qsize 15, out_qsize 0\n",
            "2022-05-31 20:19:13,431 : INFO : EPOCH 15 - PROGRESS: at 85.56% examples, 460651 words/s, in_qsize 10, out_qsize 5\n",
            "2022-05-31 20:19:14,455 : INFO : EPOCH 15 - PROGRESS: at 91.42% examples, 461201 words/s, in_qsize 15, out_qsize 0\n",
            "2022-05-31 20:19:15,509 : INFO : EPOCH 15 - PROGRESS: at 97.50% examples, 461922 words/s, in_qsize 15, out_qsize 0\n",
            "2022-05-31 20:19:15,744 : INFO : worker thread finished; awaiting finish of 7 more threads\n",
            "2022-05-31 20:19:15,784 : INFO : worker thread finished; awaiting finish of 6 more threads\n",
            "2022-05-31 20:19:15,816 : INFO : worker thread finished; awaiting finish of 5 more threads\n",
            "2022-05-31 20:19:15,819 : INFO : worker thread finished; awaiting finish of 4 more threads\n",
            "2022-05-31 20:19:15,826 : INFO : worker thread finished; awaiting finish of 3 more threads\n",
            "2022-05-31 20:19:15,836 : INFO : worker thread finished; awaiting finish of 2 more threads\n",
            "2022-05-31 20:19:15,838 : INFO : worker thread finished; awaiting finish of 1 more threads\n",
            "2022-05-31 20:19:15,841 : INFO : worker thread finished; awaiting finish of 0 more threads\n",
            "2022-05-31 20:19:15,844 : INFO : EPOCH - 15 : training on 9227204 raw words (8222009 effective words) took 17.7s, 464815 effective words/s\n",
            "2022-05-31 20:19:16,891 : INFO : EPOCH 16 - PROGRESS: at 5.21% examples, 413415 words/s, in_qsize 16, out_qsize 3\n",
            "2022-05-31 20:19:17,945 : INFO : EPOCH 16 - PROGRESS: at 11.30% examples, 443955 words/s, in_qsize 15, out_qsize 0\n",
            "2022-05-31 20:19:18,951 : INFO : EPOCH 16 - PROGRESS: at 16.92% examples, 449070 words/s, in_qsize 16, out_qsize 5\n",
            "2022-05-31 20:19:19,979 : INFO : EPOCH 16 - PROGRESS: at 22.65% examples, 451800 words/s, in_qsize 16, out_qsize 2\n",
            "2022-05-31 20:19:20,982 : INFO : EPOCH 16 - PROGRESS: at 28.61% examples, 458891 words/s, in_qsize 15, out_qsize 0\n",
            "2022-05-31 20:19:22,033 : INFO : EPOCH 16 - PROGRESS: at 34.68% examples, 461588 words/s, in_qsize 15, out_qsize 0\n",
            "2022-05-31 20:19:23,069 : INFO : EPOCH 16 - PROGRESS: at 40.30% examples, 459494 words/s, in_qsize 13, out_qsize 5\n",
            "2022-05-31 20:19:24,084 : INFO : EPOCH 16 - PROGRESS: at 46.35% examples, 463422 words/s, in_qsize 15, out_qsize 0\n",
            "2022-05-31 20:19:25,120 : INFO : EPOCH 16 - PROGRESS: at 52.51% examples, 466454 words/s, in_qsize 15, out_qsize 0\n",
            "2022-05-31 20:19:26,124 : INFO : EPOCH 16 - PROGRESS: at 58.47% examples, 468584 words/s, in_qsize 15, out_qsize 0\n",
            "2022-05-31 20:19:27,163 : INFO : EPOCH 16 - PROGRESS: at 64.08% examples, 466481 words/s, in_qsize 15, out_qsize 0\n",
            "2022-05-31 20:19:28,166 : INFO : EPOCH 16 - PROGRESS: at 70.05% examples, 468286 words/s, in_qsize 15, out_qsize 0\n",
            "2022-05-31 20:19:29,196 : INFO : EPOCH 16 - PROGRESS: at 76.11% examples, 469510 words/s, in_qsize 16, out_qsize 0\n",
            "2022-05-31 20:19:30,218 : INFO : EPOCH 16 - PROGRESS: at 81.45% examples, 466478 words/s, in_qsize 15, out_qsize 0\n",
            "2022-05-31 20:19:31,271 : INFO : EPOCH 16 - PROGRESS: at 87.51% examples, 466970 words/s, in_qsize 16, out_qsize 1\n",
            "2022-05-31 20:19:32,284 : INFO : EPOCH 16 - PROGRESS: at 93.70% examples, 469065 words/s, in_qsize 14, out_qsize 1\n",
            "2022-05-31 20:19:33,241 : INFO : worker thread finished; awaiting finish of 7 more threads\n",
            "2022-05-31 20:19:33,255 : INFO : worker thread finished; awaiting finish of 6 more threads\n",
            "2022-05-31 20:19:33,263 : INFO : worker thread finished; awaiting finish of 5 more threads\n",
            "2022-05-31 20:19:33,276 : INFO : worker thread finished; awaiting finish of 4 more threads\n",
            "2022-05-31 20:19:33,281 : INFO : worker thread finished; awaiting finish of 3 more threads\n",
            "2022-05-31 20:19:33,295 : INFO : EPOCH 16 - PROGRESS: at 99.78% examples, 470533 words/s, in_qsize 2, out_qsize 1\n",
            "2022-05-31 20:19:33,296 : INFO : worker thread finished; awaiting finish of 2 more threads\n",
            "2022-05-31 20:19:33,316 : INFO : worker thread finished; awaiting finish of 1 more threads\n",
            "2022-05-31 20:19:33,321 : INFO : worker thread finished; awaiting finish of 0 more threads\n",
            "2022-05-31 20:19:33,322 : INFO : EPOCH - 16 : training on 9227204 raw words (8222458 effective words) took 17.5s, 470830 effective words/s\n",
            "2022-05-31 20:19:34,438 : INFO : EPOCH 17 - PROGRESS: at 5.54% examples, 411609 words/s, in_qsize 11, out_qsize 5\n",
            "2022-05-31 20:19:35,448 : INFO : EPOCH 17 - PROGRESS: at 11.73% examples, 455159 words/s, in_qsize 15, out_qsize 0\n",
            "2022-05-31 20:19:36,451 : INFO : EPOCH 17 - PROGRESS: at 17.78% examples, 468560 words/s, in_qsize 15, out_qsize 0\n",
            "2022-05-31 20:19:37,484 : INFO : EPOCH 17 - PROGRESS: at 23.41% examples, 463651 words/s, in_qsize 15, out_qsize 0\n",
            "2022-05-31 20:19:38,492 : INFO : EPOCH 17 - PROGRESS: at 29.37% examples, 468009 words/s, in_qsize 15, out_qsize 0\n",
            "2022-05-31 20:19:39,543 : INFO : EPOCH 17 - PROGRESS: at 35.10% examples, 464833 words/s, in_qsize 15, out_qsize 4\n",
            "2022-05-31 20:19:40,612 : INFO : EPOCH 17 - PROGRESS: at 41.16% examples, 465335 words/s, in_qsize 15, out_qsize 3\n",
            "2022-05-31 20:19:41,650 : INFO : EPOCH 17 - PROGRESS: at 47.21% examples, 468429 words/s, in_qsize 15, out_qsize 3\n",
            "2022-05-31 20:19:42,648 : INFO : EPOCH 17 - PROGRESS: at 50.67% examples, 447619 words/s, in_qsize 14, out_qsize 3\n",
            "2022-05-31 20:19:43,785 : INFO : EPOCH 17 - PROGRESS: at 54.14% examples, 426223 words/s, in_qsize 8, out_qsize 7\n",
            "2022-05-31 20:19:44,922 : INFO : EPOCH 17 - PROGRESS: at 57.71% examples, 409826 words/s, in_qsize 15, out_qsize 0\n",
            "2022-05-31 20:19:45,935 : INFO : EPOCH 17 - PROGRESS: at 63.00% examples, 411511 words/s, in_qsize 15, out_qsize 0\n",
            "2022-05-31 20:19:46,967 : INFO : EPOCH 17 - PROGRESS: at 69.18% examples, 417609 words/s, in_qsize 16, out_qsize 0\n",
            "2022-05-31 20:19:47,977 : INFO : EPOCH 17 - PROGRESS: at 75.02% examples, 421656 words/s, in_qsize 15, out_qsize 0\n",
            "2022-05-31 20:19:49,038 : INFO : EPOCH 17 - PROGRESS: at 80.68% examples, 422676 words/s, in_qsize 15, out_qsize 3\n",
            "2022-05-31 20:19:50,068 : INFO : EPOCH 17 - PROGRESS: at 86.96% examples, 427501 words/s, in_qsize 16, out_qsize 0\n",
            "2022-05-31 20:19:51,142 : INFO : EPOCH 17 - PROGRESS: at 93.05% examples, 429711 words/s, in_qsize 16, out_qsize 3\n",
            "2022-05-31 20:19:52,177 : INFO : EPOCH 17 - PROGRESS: at 98.79% examples, 431163 words/s, in_qsize 12, out_qsize 2\n",
            "2022-05-31 20:19:52,188 : INFO : worker thread finished; awaiting finish of 7 more threads\n",
            "2022-05-31 20:19:52,194 : INFO : worker thread finished; awaiting finish of 6 more threads\n",
            "2022-05-31 20:19:52,208 : INFO : worker thread finished; awaiting finish of 5 more threads\n",
            "2022-05-31 20:19:52,227 : INFO : worker thread finished; awaiting finish of 4 more threads\n",
            "2022-05-31 20:19:52,233 : INFO : worker thread finished; awaiting finish of 3 more threads\n",
            "2022-05-31 20:19:52,264 : INFO : worker thread finished; awaiting finish of 2 more threads\n",
            "2022-05-31 20:19:52,274 : INFO : worker thread finished; awaiting finish of 1 more threads\n",
            "2022-05-31 20:19:52,284 : INFO : worker thread finished; awaiting finish of 0 more threads\n",
            "2022-05-31 20:19:52,286 : INFO : EPOCH - 17 : training on 9227204 raw words (8222903 effective words) took 19.0s, 433887 effective words/s\n",
            "2022-05-31 20:19:53,313 : INFO : EPOCH 18 - PROGRESS: at 5.11% examples, 412534 words/s, in_qsize 14, out_qsize 1\n",
            "2022-05-31 20:19:54,341 : INFO : EPOCH 18 - PROGRESS: at 11.29% examples, 453584 words/s, in_qsize 15, out_qsize 0\n",
            "2022-05-31 20:19:55,363 : INFO : EPOCH 18 - PROGRESS: at 16.81% examples, 450533 words/s, in_qsize 14, out_qsize 3\n",
            "2022-05-31 20:19:56,365 : INFO : EPOCH 18 - PROGRESS: at 22.77% examples, 460012 words/s, in_qsize 12, out_qsize 2\n",
            "2022-05-31 20:19:57,378 : INFO : EPOCH 18 - PROGRESS: at 28.29% examples, 457828 words/s, in_qsize 15, out_qsize 0\n",
            "2022-05-31 20:19:58,451 : INFO : EPOCH 18 - PROGRESS: at 34.24% examples, 457611 words/s, in_qsize 15, out_qsize 0\n",
            "2022-05-31 20:19:59,528 : INFO : EPOCH 18 - PROGRESS: at 40.29% examples, 459025 words/s, in_qsize 15, out_qsize 1\n",
            "2022-05-31 20:20:00,539 : INFO : EPOCH 18 - PROGRESS: at 45.92% examples, 458399 words/s, in_qsize 15, out_qsize 0\n",
            "2022-05-31 20:20:01,581 : INFO : EPOCH 18 - PROGRESS: at 51.43% examples, 455900 words/s, in_qsize 12, out_qsize 3\n",
            "2022-05-31 20:20:02,658 : INFO : EPOCH 18 - PROGRESS: at 57.71% examples, 458434 words/s, in_qsize 15, out_qsize 0\n",
            "2022-05-31 20:20:03,666 : INFO : EPOCH 18 - PROGRESS: at 63.65% examples, 460884 words/s, in_qsize 15, out_qsize 0\n",
            "2022-05-31 20:20:04,704 : INFO : EPOCH 18 - PROGRESS: at 69.39% examples, 460389 words/s, in_qsize 15, out_qsize 0\n",
            "2022-05-31 20:20:05,713 : INFO : EPOCH 18 - PROGRESS: at 75.78% examples, 464933 words/s, in_qsize 16, out_qsize 0\n",
            "2022-05-31 20:20:06,716 : INFO : EPOCH 18 - PROGRESS: at 81.45% examples, 464724 words/s, in_qsize 15, out_qsize 0\n",
            "2022-05-31 20:20:07,771 : INFO : EPOCH 18 - PROGRESS: at 87.07% examples, 462949 words/s, in_qsize 13, out_qsize 2\n",
            "2022-05-31 20:20:08,878 : INFO : EPOCH 18 - PROGRESS: at 93.48% examples, 463720 words/s, in_qsize 14, out_qsize 3\n",
            "2022-05-31 20:20:09,761 : INFO : worker thread finished; awaiting finish of 7 more threads\n",
            "2022-05-31 20:20:09,770 : INFO : worker thread finished; awaiting finish of 6 more threads\n",
            "2022-05-31 20:20:09,807 : INFO : worker thread finished; awaiting finish of 5 more threads\n",
            "2022-05-31 20:20:09,841 : INFO : worker thread finished; awaiting finish of 4 more threads\n",
            "2022-05-31 20:20:09,856 : INFO : worker thread finished; awaiting finish of 3 more threads\n",
            "2022-05-31 20:20:09,858 : INFO : worker thread finished; awaiting finish of 2 more threads\n",
            "2022-05-31 20:20:09,869 : INFO : worker thread finished; awaiting finish of 1 more threads\n",
            "2022-05-31 20:20:09,870 : INFO : worker thread finished; awaiting finish of 0 more threads\n",
            "2022-05-31 20:20:09,874 : INFO : EPOCH - 18 : training on 9227204 raw words (8223707 effective words) took 17.6s, 467915 effective words/s\n",
            "2022-05-31 20:20:10,931 : INFO : EPOCH 19 - PROGRESS: at 5.65% examples, 443349 words/s, in_qsize 15, out_qsize 0\n",
            "2022-05-31 20:20:11,962 : INFO : EPOCH 19 - PROGRESS: at 11.29% examples, 446398 words/s, in_qsize 15, out_qsize 4\n",
            "2022-05-31 20:20:13,015 : INFO : EPOCH 19 - PROGRESS: at 17.35% examples, 455576 words/s, in_qsize 10, out_qsize 5\n",
            "2022-05-31 20:20:14,025 : INFO : EPOCH 19 - PROGRESS: at 23.31% examples, 462773 words/s, in_qsize 15, out_qsize 0\n",
            "2022-05-31 20:20:15,113 : INFO : EPOCH 19 - PROGRESS: at 29.48% examples, 463576 words/s, in_qsize 14, out_qsize 1\n",
            "2022-05-31 20:20:16,187 : INFO : EPOCH 19 - PROGRESS: at 35.54% examples, 463710 words/s, in_qsize 15, out_qsize 0\n",
            "2022-05-31 20:20:17,191 : INFO : EPOCH 19 - PROGRESS: at 41.70% examples, 469479 words/s, in_qsize 16, out_qsize 0\n",
            "2022-05-31 20:20:18,206 : INFO : EPOCH 19 - PROGRESS: at 47.32% examples, 467843 words/s, in_qsize 13, out_qsize 2\n",
            "2022-05-31 20:20:19,233 : INFO : EPOCH 19 - PROGRESS: at 53.59% examples, 471752 words/s, in_qsize 15, out_qsize 0\n",
            "2022-05-31 20:20:20,245 : INFO : EPOCH 19 - PROGRESS: at 59.44% examples, 472141 words/s, in_qsize 15, out_qsize 0\n",
            "2022-05-31 20:20:21,278 : INFO : EPOCH 19 - PROGRESS: at 65.61% examples, 473890 words/s, in_qsize 15, out_qsize 0\n",
            "2022-05-31 20:20:22,285 : INFO : EPOCH 19 - PROGRESS: at 71.67% examples, 475631 words/s, in_qsize 15, out_qsize 0\n",
            "2022-05-31 20:20:23,326 : INFO : EPOCH 19 - PROGRESS: at 78.07% examples, 477907 words/s, in_qsize 15, out_qsize 0\n",
            "2022-05-31 20:20:24,354 : INFO : EPOCH 19 - PROGRESS: at 84.05% examples, 477776 words/s, in_qsize 15, out_qsize 0\n",
            "2022-05-31 20:20:25,382 : INFO : EPOCH 19 - PROGRESS: at 89.67% examples, 476351 words/s, in_qsize 16, out_qsize 5\n",
            "2022-05-31 20:20:26,401 : INFO : EPOCH 19 - PROGRESS: at 95.88% examples, 477330 words/s, in_qsize 12, out_qsize 3\n",
            "2022-05-31 20:20:26,924 : INFO : worker thread finished; awaiting finish of 7 more threads\n",
            "2022-05-31 20:20:26,926 : INFO : worker thread finished; awaiting finish of 6 more threads\n",
            "2022-05-31 20:20:26,941 : INFO : worker thread finished; awaiting finish of 5 more threads\n",
            "2022-05-31 20:20:26,944 : INFO : worker thread finished; awaiting finish of 4 more threads\n",
            "2022-05-31 20:20:26,951 : INFO : worker thread finished; awaiting finish of 3 more threads\n",
            "2022-05-31 20:20:26,956 : INFO : worker thread finished; awaiting finish of 2 more threads\n",
            "2022-05-31 20:20:26,963 : INFO : worker thread finished; awaiting finish of 1 more threads\n",
            "2022-05-31 20:20:26,984 : INFO : worker thread finished; awaiting finish of 0 more threads\n",
            "2022-05-31 20:20:26,985 : INFO : EPOCH - 19 : training on 9227204 raw words (8222050 effective words) took 17.1s, 480881 effective words/s\n",
            "2022-05-31 20:20:28,042 : INFO : EPOCH 20 - PROGRESS: at 5.54% examples, 434948 words/s, in_qsize 13, out_qsize 2\n",
            "2022-05-31 20:20:29,049 : INFO : EPOCH 20 - PROGRESS: at 11.73% examples, 469076 words/s, in_qsize 15, out_qsize 0\n",
            "2022-05-31 20:20:30,107 : INFO : EPOCH 20 - PROGRESS: at 17.24% examples, 455450 words/s, in_qsize 15, out_qsize 1\n",
            "2022-05-31 20:20:31,115 : INFO : EPOCH 20 - PROGRESS: at 23.31% examples, 465153 words/s, in_qsize 16, out_qsize 0\n",
            "2022-05-31 20:20:32,176 : INFO : EPOCH 20 - PROGRESS: at 28.94% examples, 459375 words/s, in_qsize 15, out_qsize 0\n",
            "2022-05-31 20:20:33,188 : INFO : EPOCH 20 - PROGRESS: at 34.89% examples, 463379 words/s, in_qsize 15, out_qsize 0\n",
            "2022-05-31 20:20:34,225 : INFO : EPOCH 20 - PROGRESS: at 40.83% examples, 464702 words/s, in_qsize 14, out_qsize 1\n",
            "2022-05-31 20:20:35,227 : INFO : EPOCH 20 - PROGRESS: at 46.67% examples, 466574 words/s, in_qsize 15, out_qsize 1\n",
            "2022-05-31 20:20:36,243 : INFO : EPOCH 20 - PROGRESS: at 52.40% examples, 466372 words/s, in_qsize 13, out_qsize 2\n",
            "2022-05-31 20:20:37,273 : INFO : EPOCH 20 - PROGRESS: at 58.36% examples, 467371 words/s, in_qsize 14, out_qsize 1\n",
            "2022-05-31 20:20:38,285 : INFO : EPOCH 20 - PROGRESS: at 64.40% examples, 469638 words/s, in_qsize 15, out_qsize 0\n",
            "2022-05-31 20:20:39,432 : INFO : EPOCH 20 - PROGRESS: at 70.37% examples, 465694 words/s, in_qsize 16, out_qsize 7\n",
            "2022-05-31 20:20:40,523 : INFO : EPOCH 20 - PROGRESS: at 76.99% examples, 468278 words/s, in_qsize 16, out_qsize 0\n",
            "2022-05-31 20:20:41,543 : INFO : EPOCH 20 - PROGRESS: at 82.74% examples, 467925 words/s, in_qsize 16, out_qsize 1\n",
            "2022-05-31 20:20:42,576 : INFO : EPOCH 20 - PROGRESS: at 88.80% examples, 468919 words/s, in_qsize 15, out_qsize 0\n",
            "2022-05-31 20:20:43,586 : INFO : EPOCH 20 - PROGRESS: at 94.79% examples, 469863 words/s, in_qsize 14, out_qsize 1\n",
            "2022-05-31 20:20:44,374 : INFO : worker thread finished; awaiting finish of 7 more threads\n",
            "2022-05-31 20:20:44,381 : INFO : worker thread finished; awaiting finish of 6 more threads\n",
            "2022-05-31 20:20:44,386 : INFO : worker thread finished; awaiting finish of 5 more threads\n",
            "2022-05-31 20:20:44,389 : INFO : worker thread finished; awaiting finish of 4 more threads\n",
            "2022-05-31 20:20:44,391 : INFO : worker thread finished; awaiting finish of 3 more threads\n",
            "2022-05-31 20:20:44,401 : INFO : worker thread finished; awaiting finish of 2 more threads\n",
            "2022-05-31 20:20:44,422 : INFO : worker thread finished; awaiting finish of 1 more threads\n",
            "2022-05-31 20:20:44,444 : INFO : worker thread finished; awaiting finish of 0 more threads\n",
            "2022-05-31 20:20:44,446 : INFO : EPOCH - 20 : training on 9227204 raw words (8222948 effective words) took 17.4s, 471285 effective words/s\n",
            "2022-05-31 20:20:45,459 : INFO : EPOCH 21 - PROGRESS: at 5.54% examples, 452604 words/s, in_qsize 14, out_qsize 0\n",
            "2022-05-31 20:20:46,490 : INFO : EPOCH 21 - PROGRESS: at 11.40% examples, 459822 words/s, in_qsize 16, out_qsize 0\n",
            "2022-05-31 20:20:47,507 : INFO : EPOCH 21 - PROGRESS: at 17.13% examples, 461076 words/s, in_qsize 15, out_qsize 0\n",
            "2022-05-31 20:20:48,514 : INFO : EPOCH 21 - PROGRESS: at 23.20% examples, 469743 words/s, in_qsize 15, out_qsize 0\n",
            "2022-05-31 20:20:49,537 : INFO : EPOCH 21 - PROGRESS: at 29.26% examples, 473381 words/s, in_qsize 16, out_qsize 0\n",
            "2022-05-31 20:20:50,559 : INFO : EPOCH 21 - PROGRESS: at 35.10% examples, 472873 words/s, in_qsize 16, out_qsize 0\n",
            "2022-05-31 20:20:51,572 : INFO : EPOCH 21 - PROGRESS: at 41.05% examples, 474375 words/s, in_qsize 15, out_qsize 0\n",
            "2022-05-31 20:20:52,579 : INFO : EPOCH 21 - PROGRESS: at 46.89% examples, 474766 words/s, in_qsize 15, out_qsize 2\n",
            "2022-05-31 20:20:53,605 : INFO : EPOCH 21 - PROGRESS: at 52.95% examples, 476091 words/s, in_qsize 15, out_qsize 1\n",
            "2022-05-31 20:20:54,675 : INFO : EPOCH 21 - PROGRESS: at 59.12% examples, 476847 words/s, in_qsize 15, out_qsize 2\n",
            "2022-05-31 20:20:55,681 : INFO : EPOCH 21 - PROGRESS: at 65.72% examples, 481654 words/s, in_qsize 15, out_qsize 0\n",
            "2022-05-31 20:20:56,682 : INFO : EPOCH 21 - PROGRESS: at 71.24% examples, 479415 words/s, in_qsize 12, out_qsize 2\n",
            "2022-05-31 20:20:57,698 : INFO : EPOCH 21 - PROGRESS: at 77.20% examples, 479593 words/s, in_qsize 15, out_qsize 0\n",
            "2022-05-31 20:20:58,749 : INFO : EPOCH 21 - PROGRESS: at 83.62% examples, 481096 words/s, in_qsize 16, out_qsize 0\n",
            "2022-05-31 20:20:59,783 : INFO : EPOCH 21 - PROGRESS: at 89.56% examples, 480603 words/s, in_qsize 15, out_qsize 0\n",
            "2022-05-31 20:21:00,787 : INFO : EPOCH 21 - PROGRESS: at 95.12% examples, 478837 words/s, in_qsize 9, out_qsize 6\n",
            "2022-05-31 20:21:01,455 : INFO : worker thread finished; awaiting finish of 7 more threads\n",
            "2022-05-31 20:21:01,461 : INFO : worker thread finished; awaiting finish of 6 more threads\n",
            "2022-05-31 20:21:01,470 : INFO : worker thread finished; awaiting finish of 5 more threads\n",
            "2022-05-31 20:21:01,474 : INFO : worker thread finished; awaiting finish of 4 more threads\n",
            "2022-05-31 20:21:01,476 : INFO : worker thread finished; awaiting finish of 3 more threads\n",
            "2022-05-31 20:21:01,484 : INFO : worker thread finished; awaiting finish of 2 more threads\n",
            "2022-05-31 20:21:01,491 : INFO : worker thread finished; awaiting finish of 1 more threads\n",
            "2022-05-31 20:21:01,516 : INFO : worker thread finished; awaiting finish of 0 more threads\n",
            "2022-05-31 20:21:01,517 : INFO : EPOCH - 21 : training on 9227204 raw words (8221877 effective words) took 17.1s, 481909 effective words/s\n",
            "2022-05-31 20:21:02,555 : INFO : EPOCH 22 - PROGRESS: at 5.21% examples, 416846 words/s, in_qsize 15, out_qsize 0\n",
            "2022-05-31 20:21:03,594 : INFO : EPOCH 22 - PROGRESS: at 10.97% examples, 436030 words/s, in_qsize 15, out_qsize 1\n",
            "2022-05-31 20:21:04,613 : INFO : EPOCH 22 - PROGRESS: at 16.70% examples, 446376 words/s, in_qsize 15, out_qsize 3\n",
            "2022-05-31 20:21:05,628 : INFO : EPOCH 22 - PROGRESS: at 22.87% examples, 458801 words/s, in_qsize 14, out_qsize 1\n",
            "2022-05-31 20:21:06,641 : INFO : EPOCH 22 - PROGRESS: at 28.72% examples, 461987 words/s, in_qsize 15, out_qsize 0\n",
            "2022-05-31 20:21:07,661 : INFO : EPOCH 22 - PROGRESS: at 34.78% examples, 466504 words/s, in_qsize 14, out_qsize 1\n",
            "2022-05-31 20:21:08,690 : INFO : EPOCH 22 - PROGRESS: at 40.83% examples, 469076 words/s, in_qsize 15, out_qsize 0\n",
            "2022-05-31 20:21:09,727 : INFO : EPOCH 22 - PROGRESS: at 46.78% examples, 469536 words/s, in_qsize 16, out_qsize 1\n",
            "2022-05-31 20:21:10,733 : INFO : EPOCH 22 - PROGRESS: at 53.05% examples, 474378 words/s, in_qsize 15, out_qsize 1\n",
            "2022-05-31 20:21:11,743 : INFO : EPOCH 22 - PROGRESS: at 58.90% examples, 474603 words/s, in_qsize 15, out_qsize 0\n",
            "2022-05-31 20:21:12,749 : INFO : EPOCH 22 - PROGRESS: at 64.73% examples, 474902 words/s, in_qsize 15, out_qsize 1\n",
            "2022-05-31 20:21:13,777 : INFO : EPOCH 22 - PROGRESS: at 71.02% examples, 477253 words/s, in_qsize 16, out_qsize 0\n",
            "2022-05-31 20:21:14,790 : INFO : EPOCH 22 - PROGRESS: at 76.33% examples, 473690 words/s, in_qsize 16, out_qsize 2\n",
            "2022-05-31 20:21:15,822 : INFO : EPOCH 22 - PROGRESS: at 82.21% examples, 473126 words/s, in_qsize 15, out_qsize 0\n",
            "2022-05-31 20:21:16,826 : INFO : EPOCH 22 - PROGRESS: at 88.59% examples, 476449 words/s, in_qsize 15, out_qsize 0\n",
            "2022-05-31 20:21:17,838 : INFO : EPOCH 22 - PROGRESS: at 94.47% examples, 476349 words/s, in_qsize 15, out_qsize 0\n",
            "2022-05-31 20:21:18,671 : INFO : worker thread finished; awaiting finish of 7 more threads\n",
            "2022-05-31 20:21:18,678 : INFO : worker thread finished; awaiting finish of 6 more threads\n",
            "2022-05-31 20:21:18,680 : INFO : worker thread finished; awaiting finish of 5 more threads\n",
            "2022-05-31 20:21:18,685 : INFO : worker thread finished; awaiting finish of 4 more threads\n",
            "2022-05-31 20:21:18,688 : INFO : worker thread finished; awaiting finish of 3 more threads\n",
            "2022-05-31 20:21:18,697 : INFO : worker thread finished; awaiting finish of 2 more threads\n",
            "2022-05-31 20:21:18,699 : INFO : worker thread finished; awaiting finish of 1 more threads\n",
            "2022-05-31 20:21:18,700 : INFO : worker thread finished; awaiting finish of 0 more threads\n",
            "2022-05-31 20:21:18,701 : INFO : EPOCH - 22 : training on 9227204 raw words (8223474 effective words) took 17.2s, 478910 effective words/s\n",
            "2022-05-31 20:21:19,752 : INFO : EPOCH 23 - PROGRESS: at 5.54% examples, 442016 words/s, in_qsize 15, out_qsize 0\n",
            "2022-05-31 20:21:20,804 : INFO : EPOCH 23 - PROGRESS: at 11.51% examples, 454172 words/s, in_qsize 16, out_qsize 1\n",
            "2022-05-31 20:21:21,870 : INFO : EPOCH 23 - PROGRESS: at 18.00% examples, 470114 words/s, in_qsize 15, out_qsize 0\n",
            "2022-05-31 20:21:22,967 : INFO : EPOCH 23 - PROGRESS: at 24.18% examples, 468399 words/s, in_qsize 16, out_qsize 0\n",
            "2022-05-31 20:21:23,996 : INFO : EPOCH 23 - PROGRESS: at 30.46% examples, 474981 words/s, in_qsize 15, out_qsize 0\n",
            "2022-05-31 20:21:25,027 : INFO : EPOCH 23 - PROGRESS: at 36.08% examples, 470763 words/s, in_qsize 14, out_qsize 2\n",
            "2022-05-31 20:21:26,072 : INFO : EPOCH 23 - PROGRESS: at 42.35% examples, 474104 words/s, in_qsize 13, out_qsize 6\n",
            "2022-05-31 20:21:27,103 : INFO : EPOCH 23 - PROGRESS: at 48.73% examples, 478573 words/s, in_qsize 15, out_qsize 0\n",
            "2022-05-31 20:21:28,112 : INFO : EPOCH 23 - PROGRESS: at 54.67% examples, 479373 words/s, in_qsize 15, out_qsize 0\n",
            "2022-05-31 20:21:29,138 : INFO : EPOCH 23 - PROGRESS: at 60.96% examples, 481751 words/s, in_qsize 15, out_qsize 0\n",
            "2022-05-31 20:21:30,174 : INFO : EPOCH 23 - PROGRESS: at 66.36% examples, 477061 words/s, in_qsize 16, out_qsize 2\n",
            "2022-05-31 20:21:31,214 : INFO : EPOCH 23 - PROGRESS: at 72.64% examples, 478679 words/s, in_qsize 14, out_qsize 1\n",
            "2022-05-31 20:21:32,246 : INFO : EPOCH 23 - PROGRESS: at 78.95% examples, 480352 words/s, in_qsize 16, out_qsize 1\n",
            "2022-05-31 20:21:33,312 : INFO : EPOCH 23 - PROGRESS: at 85.23% examples, 480678 words/s, in_qsize 15, out_qsize 1\n",
            "2022-05-31 20:21:34,377 : INFO : EPOCH 23 - PROGRESS: at 90.98% examples, 478096 words/s, in_qsize 15, out_qsize 0\n",
            "2022-05-31 20:21:35,412 : INFO : EPOCH 23 - PROGRESS: at 96.64% examples, 476186 words/s, in_qsize 15, out_qsize 5\n",
            "2022-05-31 20:21:35,797 : INFO : worker thread finished; awaiting finish of 7 more threads\n",
            "2022-05-31 20:21:35,807 : INFO : worker thread finished; awaiting finish of 6 more threads\n",
            "2022-05-31 20:21:35,815 : INFO : worker thread finished; awaiting finish of 5 more threads\n",
            "2022-05-31 20:21:35,818 : INFO : worker thread finished; awaiting finish of 4 more threads\n",
            "2022-05-31 20:21:35,832 : INFO : worker thread finished; awaiting finish of 3 more threads\n",
            "2022-05-31 20:21:35,833 : INFO : worker thread finished; awaiting finish of 2 more threads\n",
            "2022-05-31 20:21:35,838 : INFO : worker thread finished; awaiting finish of 1 more threads\n",
            "2022-05-31 20:21:35,845 : INFO : worker thread finished; awaiting finish of 0 more threads\n",
            "2022-05-31 20:21:35,847 : INFO : EPOCH - 23 : training on 9227204 raw words (8224065 effective words) took 17.1s, 480280 effective words/s\n",
            "2022-05-31 20:21:36,878 : INFO : EPOCH 24 - PROGRESS: at 5.21% examples, 421809 words/s, in_qsize 15, out_qsize 0\n",
            "2022-05-31 20:21:37,934 : INFO : EPOCH 24 - PROGRESS: at 11.19% examples, 443511 words/s, in_qsize 16, out_qsize 1\n",
            "2022-05-31 20:21:38,945 : INFO : EPOCH 24 - PROGRESS: at 17.35% examples, 462592 words/s, in_qsize 16, out_qsize 1\n",
            "2022-05-31 20:21:39,949 : INFO : EPOCH 24 - PROGRESS: at 22.87% examples, 460214 words/s, in_qsize 13, out_qsize 2\n",
            "2022-05-31 20:21:40,964 : INFO : EPOCH 24 - PROGRESS: at 28.83% examples, 464676 words/s, in_qsize 15, out_qsize 0\n",
            "2022-05-31 20:21:41,976 : INFO : EPOCH 24 - PROGRESS: at 34.78% examples, 467884 words/s, in_qsize 15, out_qsize 0\n",
            "2022-05-31 20:21:42,992 : INFO : EPOCH 24 - PROGRESS: at 40.62% examples, 468675 words/s, in_qsize 15, out_qsize 0\n",
            "2022-05-31 20:21:44,006 : INFO : EPOCH 24 - PROGRESS: at 46.78% examples, 472623 words/s, in_qsize 14, out_qsize 1\n",
            "2022-05-31 20:21:45,009 : INFO : EPOCH 24 - PROGRESS: at 52.51% examples, 472482 words/s, in_qsize 15, out_qsize 0\n",
            "2022-05-31 20:21:46,086 : INFO : EPOCH 24 - PROGRESS: at 58.69% examples, 472389 words/s, in_qsize 15, out_qsize 0\n",
            "2022-05-31 20:21:47,120 : INFO : EPOCH 24 - PROGRESS: at 64.62% examples, 472538 words/s, in_qsize 14, out_qsize 1\n",
            "2022-05-31 20:21:48,130 : INFO : EPOCH 24 - PROGRESS: at 70.80% examples, 474997 words/s, in_qsize 12, out_qsize 3\n",
            "2022-05-31 20:21:49,142 : INFO : EPOCH 24 - PROGRESS: at 76.98% examples, 477016 words/s, in_qsize 15, out_qsize 1\n",
            "2022-05-31 20:21:50,170 : INFO : EPOCH 24 - PROGRESS: at 82.74% examples, 475759 words/s, in_qsize 16, out_qsize 0\n",
            "2022-05-31 20:21:51,201 : INFO : EPOCH 24 - PROGRESS: at 88.91% examples, 476867 words/s, in_qsize 15, out_qsize 0\n",
            "2022-05-31 20:21:52,205 : INFO : EPOCH 24 - PROGRESS: at 95.01% examples, 478031 words/s, in_qsize 16, out_qsize 0\n",
            "2022-05-31 20:21:52,911 : INFO : worker thread finished; awaiting finish of 7 more threads\n",
            "2022-05-31 20:21:52,980 : INFO : worker thread finished; awaiting finish of 6 more threads\n",
            "2022-05-31 20:21:52,982 : INFO : worker thread finished; awaiting finish of 5 more threads\n",
            "2022-05-31 20:21:52,998 : INFO : worker thread finished; awaiting finish of 4 more threads\n",
            "2022-05-31 20:21:53,005 : INFO : worker thread finished; awaiting finish of 3 more threads\n",
            "2022-05-31 20:21:53,007 : INFO : worker thread finished; awaiting finish of 2 more threads\n",
            "2022-05-31 20:21:53,008 : INFO : worker thread finished; awaiting finish of 1 more threads\n",
            "2022-05-31 20:21:53,017 : INFO : worker thread finished; awaiting finish of 0 more threads\n",
            "2022-05-31 20:21:53,020 : INFO : EPOCH - 24 : training on 9227204 raw words (8222316 effective words) took 17.2s, 479294 effective words/s\n",
            "2022-05-31 20:21:54,070 : INFO : EPOCH 25 - PROGRESS: at 5.32% examples, 419790 words/s, in_qsize 11, out_qsize 6\n",
            "2022-05-31 20:21:55,075 : INFO : EPOCH 25 - PROGRESS: at 11.40% examples, 457793 words/s, in_qsize 15, out_qsize 0\n",
            "2022-05-31 20:21:56,086 : INFO : EPOCH 25 - PROGRESS: at 17.13% examples, 460649 words/s, in_qsize 16, out_qsize 0\n",
            "2022-05-31 20:21:57,087 : INFO : EPOCH 25 - PROGRESS: at 22.87% examples, 463472 words/s, in_qsize 13, out_qsize 2\n",
            "2022-05-31 20:21:58,144 : INFO : EPOCH 25 - PROGRESS: at 29.26% examples, 470449 words/s, in_qsize 15, out_qsize 0\n",
            "2022-05-31 20:21:59,193 : INFO : EPOCH 25 - PROGRESS: at 34.57% examples, 461178 words/s, in_qsize 14, out_qsize 1\n",
            "2022-05-31 20:22:00,211 : INFO : EPOCH 25 - PROGRESS: at 40.40% examples, 462787 words/s, in_qsize 14, out_qsize 1\n",
            "2022-05-31 20:22:01,227 : INFO : EPOCH 25 - PROGRESS: at 46.35% examples, 465174 words/s, in_qsize 16, out_qsize 0\n",
            "2022-05-31 20:22:02,258 : INFO : EPOCH 25 - PROGRESS: at 52.40% examples, 467304 words/s, in_qsize 16, out_qsize 0\n",
            "2022-05-31 20:22:03,258 : INFO : EPOCH 25 - PROGRESS: at 58.58% examples, 471232 words/s, in_qsize 16, out_qsize 0\n",
            "2022-05-31 20:22:04,278 : INFO : EPOCH 25 - PROGRESS: at 64.08% examples, 468865 words/s, in_qsize 15, out_qsize 0\n",
            "2022-05-31 20:22:05,282 : INFO : EPOCH 25 - PROGRESS: at 69.83% examples, 469003 words/s, in_qsize 16, out_qsize 0\n",
            "2022-05-31 20:22:06,295 : INFO : EPOCH 25 - PROGRESS: at 75.67% examples, 469408 words/s, in_qsize 12, out_qsize 3\n",
            "2022-05-31 20:22:07,316 : INFO : EPOCH 25 - PROGRESS: at 81.23% examples, 467677 words/s, in_qsize 16, out_qsize 0\n",
            "2022-05-31 20:22:08,317 : INFO : EPOCH 25 - PROGRESS: at 86.96% examples, 467922 words/s, in_qsize 15, out_qsize 0\n",
            "2022-05-31 20:22:09,343 : INFO : EPOCH 25 - PROGRESS: at 92.72% examples, 467416 words/s, in_qsize 15, out_qsize 0\n",
            "2022-05-31 20:22:10,360 : INFO : EPOCH 25 - PROGRESS: at 98.79% examples, 468789 words/s, in_qsize 12, out_qsize 0\n",
            "2022-05-31 20:22:10,451 : INFO : worker thread finished; awaiting finish of 7 more threads\n",
            "2022-05-31 20:22:10,453 : INFO : worker thread finished; awaiting finish of 6 more threads\n",
            "2022-05-31 20:22:10,491 : INFO : worker thread finished; awaiting finish of 5 more threads\n",
            "2022-05-31 20:22:10,498 : INFO : worker thread finished; awaiting finish of 4 more threads\n",
            "2022-05-31 20:22:10,500 : INFO : worker thread finished; awaiting finish of 3 more threads\n",
            "2022-05-31 20:22:10,517 : INFO : worker thread finished; awaiting finish of 2 more threads\n",
            "2022-05-31 20:22:10,520 : INFO : worker thread finished; awaiting finish of 1 more threads\n",
            "2022-05-31 20:22:10,525 : INFO : worker thread finished; awaiting finish of 0 more threads\n",
            "2022-05-31 20:22:10,526 : INFO : EPOCH - 25 : training on 9227204 raw words (8222509 effective words) took 17.5s, 469984 effective words/s\n",
            "2022-05-31 20:22:11,583 : INFO : EPOCH 26 - PROGRESS: at 5.21% examples, 409335 words/s, in_qsize 15, out_qsize 0\n",
            "2022-05-31 20:22:12,611 : INFO : EPOCH 26 - PROGRESS: at 11.29% examples, 447068 words/s, in_qsize 15, out_qsize 0\n",
            "2022-05-31 20:22:13,613 : INFO : EPOCH 26 - PROGRESS: at 17.35% examples, 463548 words/s, in_qsize 13, out_qsize 1\n",
            "2022-05-31 20:22:14,619 : INFO : EPOCH 26 - PROGRESS: at 23.09% examples, 464940 words/s, in_qsize 15, out_qsize 0\n",
            "2022-05-31 20:22:15,672 : INFO : EPOCH 26 - PROGRESS: at 29.48% examples, 472021 words/s, in_qsize 15, out_qsize 0\n",
            "2022-05-31 20:22:16,789 : INFO : EPOCH 26 - PROGRESS: at 35.54% examples, 467495 words/s, in_qsize 15, out_qsize 0\n",
            "2022-05-31 20:22:17,839 : INFO : EPOCH 26 - PROGRESS: at 41.70% examples, 469751 words/s, in_qsize 15, out_qsize 0\n",
            "2022-05-31 20:22:18,869 : INFO : EPOCH 26 - PROGRESS: at 47.65% examples, 471524 words/s, in_qsize 15, out_qsize 1\n",
            "2022-05-31 20:22:19,858 : INFO : EPOCH 26 - PROGRESS: at 53.48% examples, 472229 words/s, in_qsize 16, out_qsize 2\n",
            "2022-05-31 20:22:20,865 : INFO : EPOCH 26 - PROGRESS: at 59.55% examples, 474502 words/s, in_qsize 15, out_qsize 1\n",
            "2022-05-31 20:22:21,873 : INFO : EPOCH 26 - PROGRESS: at 65.06% examples, 472381 words/s, in_qsize 15, out_qsize 0\n",
            "2022-05-31 20:22:22,881 : INFO : EPOCH 26 - PROGRESS: at 71.35% examples, 475634 words/s, in_qsize 15, out_qsize 0\n",
            "2022-05-31 20:22:23,908 : INFO : EPOCH 26 - PROGRESS: at 77.20% examples, 475051 words/s, in_qsize 15, out_qsize 0\n",
            "2022-05-31 20:22:24,974 : INFO : EPOCH 26 - PROGRESS: at 83.40% examples, 475153 words/s, in_qsize 15, out_qsize 0\n",
            "2022-05-31 20:22:25,980 : INFO : EPOCH 26 - PROGRESS: at 89.67% examples, 477649 words/s, in_qsize 16, out_qsize 0\n",
            "2022-05-31 20:22:27,009 : INFO : EPOCH 26 - PROGRESS: at 95.34% examples, 475922 words/s, in_qsize 15, out_qsize 0\n",
            "2022-05-31 20:22:27,642 : INFO : worker thread finished; awaiting finish of 7 more threads\n",
            "2022-05-31 20:22:27,682 : INFO : worker thread finished; awaiting finish of 6 more threads\n",
            "2022-05-31 20:22:27,690 : INFO : worker thread finished; awaiting finish of 5 more threads\n",
            "2022-05-31 20:22:27,716 : INFO : worker thread finished; awaiting finish of 4 more threads\n",
            "2022-05-31 20:22:27,726 : INFO : worker thread finished; awaiting finish of 3 more threads\n",
            "2022-05-31 20:22:27,727 : INFO : worker thread finished; awaiting finish of 2 more threads\n",
            "2022-05-31 20:22:27,731 : INFO : worker thread finished; awaiting finish of 1 more threads\n",
            "2022-05-31 20:22:27,737 : INFO : worker thread finished; awaiting finish of 0 more threads\n",
            "2022-05-31 20:22:27,740 : INFO : EPOCH - 26 : training on 9227204 raw words (8222625 effective words) took 17.2s, 478047 effective words/s\n",
            "2022-05-31 20:22:28,767 : INFO : EPOCH 27 - PROGRESS: at 5.54% examples, 447155 words/s, in_qsize 15, out_qsize 0\n",
            "2022-05-31 20:22:29,804 : INFO : EPOCH 27 - PROGRESS: at 11.30% examples, 451386 words/s, in_qsize 15, out_qsize 0\n",
            "2022-05-31 20:22:30,821 : INFO : EPOCH 27 - PROGRESS: at 17.35% examples, 464525 words/s, in_qsize 15, out_qsize 1\n",
            "2022-05-31 20:22:31,902 : INFO : EPOCH 27 - PROGRESS: at 23.52% examples, 465695 words/s, in_qsize 14, out_qsize 1\n",
            "2022-05-31 20:22:32,910 : INFO : EPOCH 27 - PROGRESS: at 29.59% examples, 471436 words/s, in_qsize 16, out_qsize 1\n",
            "2022-05-31 20:22:33,960 : INFO : EPOCH 27 - PROGRESS: at 35.75% examples, 473488 words/s, in_qsize 16, out_qsize 0\n",
            "2022-05-31 20:22:34,972 : INFO : EPOCH 27 - PROGRESS: at 42.02% examples, 478671 words/s, in_qsize 15, out_qsize 0\n",
            "2022-05-31 20:22:35,981 : INFO : EPOCH 27 - PROGRESS: at 48.08% examples, 480640 words/s, in_qsize 14, out_qsize 0\n",
            "2022-05-31 20:22:36,987 : INFO : EPOCH 27 - PROGRESS: at 53.59% examples, 477466 words/s, in_qsize 14, out_qsize 1\n",
            "2022-05-31 20:22:37,997 : INFO : EPOCH 27 - PROGRESS: at 59.34% examples, 476544 words/s, in_qsize 15, out_qsize 0\n",
            "2022-05-31 20:22:39,080 : INFO : EPOCH 27 - PROGRESS: at 65.50% examples, 475780 words/s, in_qsize 15, out_qsize 0\n",
            "2022-05-31 20:22:40,163 : INFO : EPOCH 27 - PROGRESS: at 71.56% examples, 474417 words/s, in_qsize 15, out_qsize 0\n",
            "2022-05-31 20:22:41,232 : INFO : EPOCH 27 - PROGRESS: at 77.85% examples, 475088 words/s, in_qsize 15, out_qsize 0\n",
            "2022-05-31 20:22:42,234 : INFO : EPOCH 27 - PROGRESS: at 83.40% examples, 473607 words/s, in_qsize 11, out_qsize 4\n",
            "2022-05-31 20:22:43,245 : INFO : EPOCH 27 - PROGRESS: at 89.56% examples, 475467 words/s, in_qsize 15, out_qsize 0\n",
            "2022-05-31 20:22:44,264 : INFO : EPOCH 27 - PROGRESS: at 95.77% examples, 476825 words/s, in_qsize 16, out_qsize 0\n",
            "2022-05-31 20:22:44,868 : INFO : worker thread finished; awaiting finish of 7 more threads\n",
            "2022-05-31 20:22:44,888 : INFO : worker thread finished; awaiting finish of 6 more threads\n",
            "2022-05-31 20:22:44,927 : INFO : worker thread finished; awaiting finish of 5 more threads\n",
            "2022-05-31 20:22:44,936 : INFO : worker thread finished; awaiting finish of 4 more threads\n",
            "2022-05-31 20:22:44,951 : INFO : worker thread finished; awaiting finish of 3 more threads\n",
            "2022-05-31 20:22:44,961 : INFO : worker thread finished; awaiting finish of 2 more threads\n",
            "2022-05-31 20:22:44,964 : INFO : worker thread finished; awaiting finish of 1 more threads\n",
            "2022-05-31 20:22:44,965 : INFO : worker thread finished; awaiting finish of 0 more threads\n",
            "2022-05-31 20:22:44,966 : INFO : EPOCH - 27 : training on 9227204 raw words (8221796 effective words) took 17.2s, 477616 effective words/s\n",
            "2022-05-31 20:22:45,991 : INFO : EPOCH 28 - PROGRESS: at 5.32% examples, 432764 words/s, in_qsize 15, out_qsize 0\n",
            "2022-05-31 20:22:47,007 : INFO : EPOCH 28 - PROGRESS: at 11.62% examples, 470967 words/s, in_qsize 15, out_qsize 0\n",
            "2022-05-31 20:22:48,046 : INFO : EPOCH 28 - PROGRESS: at 17.35% examples, 465114 words/s, in_qsize 15, out_qsize 0\n",
            "2022-05-31 20:22:49,058 : INFO : EPOCH 28 - PROGRESS: at 23.20% examples, 467809 words/s, in_qsize 15, out_qsize 0\n",
            "2022-05-31 20:22:50,126 : INFO : EPOCH 28 - PROGRESS: at 29.48% examples, 471167 words/s, in_qsize 15, out_qsize 0\n",
            "2022-05-31 20:22:51,174 : INFO : EPOCH 28 - PROGRESS: at 35.65% examples, 473365 words/s, in_qsize 15, out_qsize 1\n",
            "2022-05-31 20:22:52,185 : INFO : EPOCH 28 - PROGRESS: at 41.16% examples, 470051 words/s, in_qsize 15, out_qsize 1\n",
            "2022-05-31 20:22:53,185 : INFO : EPOCH 28 - PROGRESS: at 46.89% examples, 470337 words/s, in_qsize 15, out_qsize 1\n",
            "2022-05-31 20:22:54,213 : INFO : EPOCH 28 - PROGRESS: at 52.95% examples, 472049 words/s, in_qsize 15, out_qsize 0\n",
            "2022-05-31 20:22:55,219 : INFO : EPOCH 28 - PROGRESS: at 59.01% examples, 474399 words/s, in_qsize 15, out_qsize 0\n",
            "2022-05-31 20:22:56,253 : INFO : EPOCH 28 - PROGRESS: at 64.73% examples, 472737 words/s, in_qsize 15, out_qsize 3\n",
            "2022-05-31 20:22:57,254 : INFO : EPOCH 28 - PROGRESS: at 71.02% examples, 476268 words/s, in_qsize 15, out_qsize 0\n",
            "2022-05-31 20:22:58,294 : INFO : EPOCH 28 - PROGRESS: at 76.87% examples, 475196 words/s, in_qsize 16, out_qsize 3\n",
            "2022-05-31 20:22:59,307 : INFO : EPOCH 28 - PROGRESS: at 83.07% examples, 477029 words/s, in_qsize 13, out_qsize 2\n",
            "2022-05-31 20:23:00,312 : INFO : EPOCH 28 - PROGRESS: at 88.80% examples, 476551 words/s, in_qsize 13, out_qsize 2\n",
            "2022-05-31 20:23:01,335 : INFO : EPOCH 28 - PROGRESS: at 94.69% examples, 476110 words/s, in_qsize 15, out_qsize 0\n",
            "2022-05-31 20:23:02,116 : INFO : worker thread finished; awaiting finish of 7 more threads\n",
            "2022-05-31 20:23:02,125 : INFO : worker thread finished; awaiting finish of 6 more threads\n",
            "2022-05-31 20:23:02,126 : INFO : worker thread finished; awaiting finish of 5 more threads\n",
            "2022-05-31 20:23:02,134 : INFO : worker thread finished; awaiting finish of 4 more threads\n",
            "2022-05-31 20:23:02,146 : INFO : worker thread finished; awaiting finish of 3 more threads\n",
            "2022-05-31 20:23:02,169 : INFO : worker thread finished; awaiting finish of 2 more threads\n",
            "2022-05-31 20:23:02,171 : INFO : worker thread finished; awaiting finish of 1 more threads\n",
            "2022-05-31 20:23:02,177 : INFO : worker thread finished; awaiting finish of 0 more threads\n",
            "2022-05-31 20:23:02,179 : INFO : EPOCH - 28 : training on 9227204 raw words (8223126 effective words) took 17.2s, 478171 effective words/s\n",
            "2022-05-31 20:23:03,202 : INFO : EPOCH 29 - PROGRESS: at 5.22% examples, 423887 words/s, in_qsize 15, out_qsize 3\n",
            "2022-05-31 20:23:04,277 : INFO : EPOCH 29 - PROGRESS: at 11.51% examples, 453306 words/s, in_qsize 15, out_qsize 1\n",
            "2022-05-31 20:23:05,282 : INFO : EPOCH 29 - PROGRESS: at 17.35% examples, 461294 words/s, in_qsize 15, out_qsize 2\n",
            "2022-05-31 20:23:06,302 : INFO : EPOCH 29 - PROGRESS: at 23.41% examples, 468202 words/s, in_qsize 10, out_qsize 5\n",
            "2022-05-31 20:23:07,310 : INFO : EPOCH 29 - PROGRESS: at 29.80% examples, 478727 words/s, in_qsize 16, out_qsize 0\n",
            "2022-05-31 20:23:08,354 : INFO : EPOCH 29 - PROGRESS: at 35.54% examples, 474238 words/s, in_qsize 16, out_qsize 0\n",
            "2022-05-31 20:23:09,442 : INFO : EPOCH 29 - PROGRESS: at 41.81% examples, 474304 words/s, in_qsize 16, out_qsize 0\n",
            "2022-05-31 20:23:10,462 : INFO : EPOCH 29 - PROGRESS: at 47.75% examples, 475027 words/s, in_qsize 16, out_qsize 1\n",
            "2022-05-31 20:23:11,482 : INFO : EPOCH 29 - PROGRESS: at 53.70% examples, 475659 words/s, in_qsize 15, out_qsize 0\n",
            "2022-05-31 20:23:12,501 : INFO : EPOCH 29 - PROGRESS: at 59.77% examples, 477040 words/s, in_qsize 15, out_qsize 1\n",
            "2022-05-31 20:23:13,509 : INFO : EPOCH 29 - PROGRESS: at 66.15% examples, 481028 words/s, in_qsize 16, out_qsize 0\n",
            "2022-05-31 20:23:14,521 : INFO : EPOCH 29 - PROGRESS: at 72.21% examples, 482019 words/s, in_qsize 16, out_qsize 0\n",
            "2022-05-31 20:23:15,543 : INFO : EPOCH 29 - PROGRESS: at 77.96% examples, 480470 words/s, in_qsize 15, out_qsize 0\n",
            "2022-05-31 20:23:16,561 : INFO : EPOCH 29 - PROGRESS: at 84.15% examples, 481744 words/s, in_qsize 15, out_qsize 1\n",
            "2022-05-31 20:23:17,577 : INFO : EPOCH 29 - PROGRESS: at 90.10% examples, 481776 words/s, in_qsize 15, out_qsize 0\n",
            "2022-05-31 20:23:18,601 : INFO : EPOCH 29 - PROGRESS: at 96.21% examples, 482083 words/s, in_qsize 16, out_qsize 0\n",
            "2022-05-31 20:23:19,095 : INFO : worker thread finished; awaiting finish of 7 more threads\n",
            "2022-05-31 20:23:19,101 : INFO : worker thread finished; awaiting finish of 6 more threads\n",
            "2022-05-31 20:23:19,111 : INFO : worker thread finished; awaiting finish of 5 more threads\n",
            "2022-05-31 20:23:19,141 : INFO : worker thread finished; awaiting finish of 4 more threads\n",
            "2022-05-31 20:23:19,159 : INFO : worker thread finished; awaiting finish of 3 more threads\n",
            "2022-05-31 20:23:19,175 : INFO : worker thread finished; awaiting finish of 2 more threads\n",
            "2022-05-31 20:23:19,178 : INFO : worker thread finished; awaiting finish of 1 more threads\n",
            "2022-05-31 20:23:19,188 : INFO : worker thread finished; awaiting finish of 0 more threads\n",
            "2022-05-31 20:23:19,189 : INFO : EPOCH - 29 : training on 9227204 raw words (8222530 effective words) took 17.0s, 483808 effective words/s\n",
            "2022-05-31 20:23:20,256 : INFO : EPOCH 30 - PROGRESS: at 5.54% examples, 431235 words/s, in_qsize 16, out_qsize 2\n",
            "2022-05-31 20:23:21,322 : INFO : EPOCH 30 - PROGRESS: at 11.73% examples, 454183 words/s, in_qsize 14, out_qsize 1\n",
            "2022-05-31 20:23:22,351 : INFO : EPOCH 30 - PROGRESS: at 18.11% examples, 472376 words/s, in_qsize 16, out_qsize 0\n",
            "2022-05-31 20:23:23,355 : INFO : EPOCH 30 - PROGRESS: at 23.96% examples, 474043 words/s, in_qsize 14, out_qsize 1\n",
            "2022-05-31 20:23:24,395 : INFO : EPOCH 30 - PROGRESS: at 30.02% examples, 475173 words/s, in_qsize 14, out_qsize 1\n",
            "2022-05-31 20:23:25,448 : INFO : EPOCH 30 - PROGRESS: at 35.97% examples, 473503 words/s, in_qsize 15, out_qsize 1\n",
            "2022-05-31 20:23:26,453 : INFO : EPOCH 30 - PROGRESS: at 42.02% examples, 476655 words/s, in_qsize 15, out_qsize 0\n",
            "2022-05-31 20:23:27,456 : INFO : EPOCH 30 - PROGRESS: at 47.97% examples, 478059 words/s, in_qsize 14, out_qsize 2\n",
            "2022-05-31 20:23:28,502 : INFO : EPOCH 30 - PROGRESS: at 54.25% examples, 479921 words/s, in_qsize 15, out_qsize 0\n",
            "2022-05-31 20:23:29,555 : INFO : EPOCH 30 - PROGRESS: at 60.30% examples, 479294 words/s, in_qsize 14, out_qsize 1\n",
            "2022-05-31 20:23:30,556 : INFO : EPOCH 30 - PROGRESS: at 65.93% examples, 477826 words/s, in_qsize 15, out_qsize 0\n",
            "2022-05-31 20:23:31,641 : INFO : EPOCH 30 - PROGRESS: at 72.21% examples, 477704 words/s, in_qsize 16, out_qsize 0\n",
            "2022-05-31 20:23:32,719 : INFO : EPOCH 30 - PROGRESS: at 78.62% examples, 478445 words/s, in_qsize 15, out_qsize 0\n",
            "2022-05-31 20:23:33,726 : INFO : EPOCH 30 - PROGRESS: at 84.70% examples, 479631 words/s, in_qsize 16, out_qsize 1\n",
            "2022-05-31 20:23:34,734 : INFO : EPOCH 30 - PROGRESS: at 90.65% examples, 480007 words/s, in_qsize 16, out_qsize 1\n",
            "2022-05-31 20:23:35,736 : INFO : EPOCH 30 - PROGRESS: at 96.85% examples, 481625 words/s, in_qsize 15, out_qsize 0\n",
            "2022-05-31 20:23:36,149 : INFO : worker thread finished; awaiting finish of 7 more threads\n",
            "2022-05-31 20:23:36,153 : INFO : worker thread finished; awaiting finish of 6 more threads\n",
            "2022-05-31 20:23:36,168 : INFO : worker thread finished; awaiting finish of 5 more threads\n",
            "2022-05-31 20:23:36,182 : INFO : worker thread finished; awaiting finish of 4 more threads\n",
            "2022-05-31 20:23:36,186 : INFO : worker thread finished; awaiting finish of 3 more threads\n",
            "2022-05-31 20:23:36,192 : INFO : worker thread finished; awaiting finish of 2 more threads\n",
            "2022-05-31 20:23:36,201 : INFO : worker thread finished; awaiting finish of 1 more threads\n",
            "2022-05-31 20:23:36,213 : INFO : worker thread finished; awaiting finish of 0 more threads\n",
            "2022-05-31 20:23:36,215 : INFO : EPOCH - 30 : training on 9227204 raw words (8222282 effective words) took 17.0s, 483324 effective words/s\n",
            "2022-05-31 20:23:37,242 : INFO : EPOCH 31 - PROGRESS: at 5.54% examples, 447298 words/s, in_qsize 15, out_qsize 0\n",
            "2022-05-31 20:23:38,249 : INFO : EPOCH 31 - PROGRESS: at 11.62% examples, 471432 words/s, in_qsize 14, out_qsize 1\n",
            "2022-05-31 20:23:39,267 : INFO : EPOCH 31 - PROGRESS: at 17.46% examples, 471679 words/s, in_qsize 15, out_qsize 0\n",
            "2022-05-31 20:23:40,267 : INFO : EPOCH 31 - PROGRESS: at 22.98% examples, 467431 words/s, in_qsize 15, out_qsize 0\n",
            "2022-05-31 20:23:41,289 : INFO : EPOCH 31 - PROGRESS: at 28.83% examples, 468074 words/s, in_qsize 15, out_qsize 2\n",
            "2022-05-31 20:23:42,297 : INFO : EPOCH 31 - PROGRESS: at 34.46% examples, 466644 words/s, in_qsize 15, out_qsize 0\n",
            "2022-05-31 20:23:43,367 : INFO : EPOCH 31 - PROGRESS: at 40.51% examples, 466630 words/s, in_qsize 15, out_qsize 0\n",
            "2022-05-31 20:23:44,390 : INFO : EPOCH 31 - PROGRESS: at 46.57% examples, 469218 words/s, in_qsize 15, out_qsize 0\n",
            "2022-05-31 20:23:45,441 : INFO : EPOCH 31 - PROGRESS: at 52.29% examples, 467017 words/s, in_qsize 15, out_qsize 0\n",
            "2022-05-31 20:23:46,460 : INFO : EPOCH 31 - PROGRESS: at 58.58% examples, 471029 words/s, in_qsize 15, out_qsize 0\n",
            "2022-05-31 20:23:47,470 : INFO : EPOCH 31 - PROGRESS: at 63.97% examples, 468310 words/s, in_qsize 15, out_qsize 0\n",
            "2022-05-31 20:23:48,478 : INFO : EPOCH 31 - PROGRESS: at 70.05% examples, 470488 words/s, in_qsize 15, out_qsize 0\n",
            "2022-05-31 20:23:49,488 : INFO : EPOCH 31 - PROGRESS: at 76.22% examples, 472918 words/s, in_qsize 15, out_qsize 0\n",
            "2022-05-31 20:23:50,489 : INFO : EPOCH 31 - PROGRESS: at 81.67% examples, 470950 words/s, in_qsize 14, out_qsize 1\n",
            "2022-05-31 20:23:51,495 : INFO : EPOCH 31 - PROGRESS: at 87.62% examples, 472019 words/s, in_qsize 15, out_qsize 0\n",
            "2022-05-31 20:23:52,528 : INFO : EPOCH 31 - PROGRESS: at 93.59% examples, 472150 words/s, in_qsize 15, out_qsize 0\n",
            "2022-05-31 20:23:53,458 : INFO : worker thread finished; awaiting finish of 7 more threads\n",
            "2022-05-31 20:23:53,501 : INFO : worker thread finished; awaiting finish of 6 more threads\n",
            "2022-05-31 20:23:53,550 : INFO : EPOCH 31 - PROGRESS: at 99.45% examples, 472111 words/s, in_qsize 5, out_qsize 0\n",
            "2022-05-31 20:23:53,553 : INFO : worker thread finished; awaiting finish of 5 more threads\n",
            "2022-05-31 20:23:53,554 : INFO : worker thread finished; awaiting finish of 4 more threads\n",
            "2022-05-31 20:23:53,575 : INFO : worker thread finished; awaiting finish of 3 more threads\n",
            "2022-05-31 20:23:53,578 : INFO : worker thread finished; awaiting finish of 2 more threads\n",
            "2022-05-31 20:23:53,582 : INFO : worker thread finished; awaiting finish of 1 more threads\n",
            "2022-05-31 20:23:53,587 : INFO : worker thread finished; awaiting finish of 0 more threads\n",
            "2022-05-31 20:23:53,590 : INFO : EPOCH - 31 : training on 9227204 raw words (8222784 effective words) took 17.4s, 473591 effective words/s\n",
            "2022-05-31 20:23:54,613 : INFO : EPOCH 32 - PROGRESS: at 5.21% examples, 422782 words/s, in_qsize 16, out_qsize 1\n",
            "2022-05-31 20:23:55,617 : INFO : EPOCH 32 - PROGRESS: at 11.29% examples, 460006 words/s, in_qsize 13, out_qsize 2\n",
            "2022-05-31 20:23:56,697 : INFO : EPOCH 32 - PROGRESS: at 17.03% examples, 451936 words/s, in_qsize 15, out_qsize 0\n",
            "2022-05-31 20:23:57,698 : INFO : EPOCH 32 - PROGRESS: at 22.76% examples, 456808 words/s, in_qsize 15, out_qsize 0\n",
            "2022-05-31 20:23:58,740 : INFO : EPOCH 32 - PROGRESS: at 27.64% examples, 443722 words/s, in_qsize 15, out_qsize 0\n",
            "2022-05-31 20:23:59,770 : INFO : EPOCH 32 - PROGRESS: at 32.73% examples, 436266 words/s, in_qsize 13, out_qsize 2\n",
            "2022-05-31 20:24:00,812 : INFO : EPOCH 32 - PROGRESS: at 38.25% examples, 436180 words/s, in_qsize 14, out_qsize 1\n",
            "2022-05-31 20:24:01,890 : INFO : EPOCH 32 - PROGRESS: at 43.54% examples, 432105 words/s, in_qsize 16, out_qsize 2\n",
            "2022-05-31 20:24:02,958 : INFO : EPOCH 32 - PROGRESS: at 49.27% examples, 433235 words/s, in_qsize 15, out_qsize 0\n",
            "2022-05-31 20:24:03,967 : INFO : EPOCH 32 - PROGRESS: at 54.99% examples, 436647 words/s, in_qsize 15, out_qsize 0\n",
            "2022-05-31 20:24:05,000 : INFO : EPOCH 32 - PROGRESS: at 60.30% examples, 435392 words/s, in_qsize 15, out_qsize 0\n",
            "2022-05-31 20:24:06,006 : INFO : EPOCH 32 - PROGRESS: at 65.83% examples, 436684 words/s, in_qsize 14, out_qsize 1\n",
            "2022-05-31 20:24:07,037 : INFO : EPOCH 32 - PROGRESS: at 70.58% examples, 432350 words/s, in_qsize 13, out_qsize 2\n",
            "2022-05-31 20:24:08,042 : INFO : EPOCH 32 - PROGRESS: at 76.33% examples, 434920 words/s, in_qsize 15, out_qsize 0\n",
            "2022-05-31 20:24:09,044 : INFO : EPOCH 32 - PROGRESS: at 81.01% examples, 431532 words/s, in_qsize 15, out_qsize 3\n",
            "2022-05-31 20:24:10,089 : INFO : EPOCH 32 - PROGRESS: at 86.31% examples, 430635 words/s, in_qsize 15, out_qsize 0\n",
            "2022-05-31 20:24:11,174 : INFO : EPOCH 32 - PROGRESS: at 92.18% examples, 431424 words/s, in_qsize 15, out_qsize 0\n",
            "2022-05-31 20:24:12,179 : INFO : EPOCH 32 - PROGRESS: at 98.36% examples, 435413 words/s, in_qsize 15, out_qsize 0\n",
            "2022-05-31 20:24:12,341 : INFO : worker thread finished; awaiting finish of 7 more threads\n",
            "2022-05-31 20:24:12,361 : INFO : worker thread finished; awaiting finish of 6 more threads\n",
            "2022-05-31 20:24:12,378 : INFO : worker thread finished; awaiting finish of 5 more threads\n",
            "2022-05-31 20:24:12,431 : INFO : worker thread finished; awaiting finish of 4 more threads\n",
            "2022-05-31 20:24:12,439 : INFO : worker thread finished; awaiting finish of 3 more threads\n",
            "2022-05-31 20:24:12,446 : INFO : worker thread finished; awaiting finish of 2 more threads\n",
            "2022-05-31 20:24:12,448 : INFO : worker thread finished; awaiting finish of 1 more threads\n",
            "2022-05-31 20:24:12,453 : INFO : worker thread finished; awaiting finish of 0 more threads\n",
            "2022-05-31 20:24:12,455 : INFO : EPOCH - 32 : training on 9227204 raw words (8222559 effective words) took 18.9s, 436178 effective words/s\n",
            "2022-05-31 20:24:12,457 : INFO : training on a 295270528 raw words (263127446 effective words) took 557.9s, 471656 effective words/s\n"
          ]
        },
        {
          "output_type": "stream",
          "name": "stdout",
          "text": [
            "CPU times: user 17min 52s, sys: 4.66 s, total: 17min 56s\n",
            "Wall time: 9min 17s\n"
          ]
        },
        {
          "output_type": "execute_result",
          "data": {
            "text/plain": [
              "(263127446, 295270528)"
            ]
          },
          "metadata": {},
          "execution_count": 21
        }
      ]
    },
    {
      "cell_type": "code",
      "source": [
        "w2v_model.wv.most_similar(\"love\") "
      ],
      "metadata": {
        "colab": {
          "base_uri": "https://localhost:8080/"
        },
        "id": "qhsKCmca_nup",
        "outputId": "eb9fd04f-c81e-493e-8e0f-92ec2efb390b"
      },
      "execution_count": null,
      "outputs": [
        {
          "output_type": "stream",
          "name": "stderr",
          "text": [
            "2022-05-31 20:24:12,467 : INFO : precomputing L2-norms of word weight vectors\n"
          ]
        },
        {
          "output_type": "execute_result",
          "data": {
            "text/plain": [
              "[('luv', 0.5774913430213928),\n",
              " ('loves', 0.5643624067306519),\n",
              " ('loved', 0.5533154010772705),\n",
              " ('amazing', 0.5105637907981873),\n",
              " ('adore', 0.5092902183532715),\n",
              " ('looove', 0.4994542598724365),\n",
              " ('loveee', 0.4701387882232666),\n",
              " ('awesome', 0.4594952464103699),\n",
              " ('lovee', 0.4508727490901947),\n",
              " ('miss', 0.43488073348999023)]"
            ]
          },
          "metadata": {},
          "execution_count": 22
        }
      ]
    },
    {
      "cell_type": "code",
      "source": [
        "%%time\n",
        "tokenizer = Tokenizer()\n",
        "tokenizer.fit_on_texts(df_train.text)\n",
        "\n",
        "vocab_size = len(tokenizer.word_index) + 1\n",
        "print(\"Total words\", vocab_size)"
      ],
      "metadata": {
        "colab": {
          "base_uri": "https://localhost:8080/"
        },
        "id": "eO_UhFRaB9XB",
        "outputId": "f068a64f-c55e-4c95-b116-484d636b0d16"
      },
      "execution_count": null,
      "outputs": [
        {
          "output_type": "stream",
          "name": "stdout",
          "text": [
            "Total words 290419\n",
            "CPU times: user 17.2 s, sys: 194 ms, total: 17.4 s\n",
            "Wall time: 17.4 s\n"
          ]
        }
      ]
    },
    {
      "cell_type": "code",
      "source": [
        "%%time\n",
        "x_train = pad_sequences(tokenizer.texts_to_sequences(df_train.text),\n",
        "                        maxlen=SEQUENCE_LENGTH)\n",
        "\n",
        "x_test = pad_sequences(tokenizer.texts_to_sequences(df_test.text),\n",
        "                       maxlen=SEQUENCE_LENGTH)"
      ],
      "metadata": {
        "colab": {
          "base_uri": "https://localhost:8080/"
        },
        "id": "nA8J5EvxCRVA",
        "outputId": "0ffe1221-2636-41a1-a294-74545a415a61"
      },
      "execution_count": null,
      "outputs": [
        {
          "output_type": "stream",
          "name": "stdout",
          "text": [
            "CPU times: user 20.7 s, sys: 510 ms, total: 21.2 s\n",
            "Wall time: 21.2 s\n"
          ]
        }
      ]
    },
    {
      "cell_type": "code",
      "source": [
        "labels = df_train.target.unique().tolist()\n",
        "labels.append(NEUTRAL)\n",
        "labels"
      ],
      "metadata": {
        "colab": {
          "base_uri": "https://localhost:8080/"
        },
        "id": "P_VkK6MQDQf4",
        "outputId": "07771187-a707-4cfb-ecb2-c95274d2ffa9"
      },
      "execution_count": null,
      "outputs": [
        {
          "output_type": "execute_result",
          "data": {
            "text/plain": [
              "['POSITIVE', 'NEGATIVE', 'NEUTRAL']"
            ]
          },
          "metadata": {},
          "execution_count": 25
        }
      ]
    },
    {
      "cell_type": "code",
      "source": [
        "encoder = LabelEncoder()\n",
        "encoder.fit(df_train.target.tolist())\n",
        "\n",
        "y_train = encoder.transform(df_train.target.tolist())\n",
        "y_test = encoder.transform(df_test.target.tolist())\n",
        "\n",
        "y_train = y_train.reshape(-1,1)\n",
        "y_test = y_test.reshape(-1,1)\n",
        "\n",
        "print(\"y_train: \",y_train.shape)\n",
        "print(\"y_test: \",y_test.shape)"
      ],
      "metadata": {
        "id": "aLelIbY4FxEw",
        "colab": {
          "base_uri": "https://localhost:8080/"
        },
        "outputId": "bb5439a0-3384-4e46-f43a-6882fd81e9a3"
      },
      "execution_count": null,
      "outputs": [
        {
          "output_type": "stream",
          "name": "stdout",
          "text": [
            "y_train:  (1280000, 1)\n",
            "y_test:  (320000, 1)\n"
          ]
        }
      ]
    },
    {
      "cell_type": "code",
      "source": [
        "embedding_matrix = np.zeros((vocab_size, W2V_SIZE))\n",
        "for word, i in tokenizer.word_index.items():\n",
        "  if word in w2v_model.wv:\n",
        "    embedding_matrix[i] = w2v_model.wv[word]\n",
        "\n",
        "print(embedding_matrix.shape)"
      ],
      "metadata": {
        "colab": {
          "base_uri": "https://localhost:8080/"
        },
        "id": "O9m_1xNnzYka",
        "outputId": "f2177c1f-3e46-4efd-d23a-6dd846e758e3"
      },
      "execution_count": null,
      "outputs": [
        {
          "output_type": "stream",
          "name": "stdout",
          "text": [
            "(290419, 300)\n"
          ]
        }
      ]
    },
    {
      "cell_type": "code",
      "source": [
        "embedding_layer = Embedding(vocab_size,\n",
        "                            W2V_SIZE,\n",
        "                            weights=[embedding_matrix],\n",
        "                            input_length=SEQUENCE_LENGTH,\n",
        "                            trainable=False)"
      ],
      "metadata": {
        "id": "d0EzDaTdzfYP"
      },
      "execution_count": null,
      "outputs": []
    },
    {
      "cell_type": "code",
      "source": [
        "model = Sequential()\n",
        "model.add(embedding_layer)\n",
        "model.add(Dropout(0.5))\n",
        "model.add(LSTM(100, dropout=0.2, recurrent_dropout=0.2))\n",
        "model.add(Dense(1, activation='sigmoid'))\n",
        "\n",
        "model.summary()"
      ],
      "metadata": {
        "colab": {
          "base_uri": "https://localhost:8080/"
        },
        "id": "9a4eC5tbzkAH",
        "outputId": "7cf78647-4c5e-4571-c80c-ac70c934bc48"
      },
      "execution_count": null,
      "outputs": [
        {
          "output_type": "stream",
          "name": "stdout",
          "text": [
            "WARNING:tensorflow:Layer lstm will not use cuDNN kernels since it doesn't meet the criteria. It will use a generic GPU kernel as fallback when running on GPU.\n"
          ]
        },
        {
          "output_type": "stream",
          "name": "stderr",
          "text": [
            "2022-05-31 20:28:59,023 : WARNING : Layer lstm will not use cuDNN kernels since it doesn't meet the criteria. It will use a generic GPU kernel as fallback when running on GPU.\n"
          ]
        },
        {
          "output_type": "stream",
          "name": "stdout",
          "text": [
            "Model: \"sequential\"\n",
            "_________________________________________________________________\n",
            " Layer (type)                Output Shape              Param #   \n",
            "=================================================================\n",
            " embedding (Embedding)       (None, 300, 300)          87125700  \n",
            "                                                                 \n",
            " dropout (Dropout)           (None, 300, 300)          0         \n",
            "                                                                 \n",
            " lstm (LSTM)                 (None, 100)               160400    \n",
            "                                                                 \n",
            " dense (Dense)               (None, 1)                 101       \n",
            "                                                                 \n",
            "=================================================================\n",
            "Total params: 87,286,201\n",
            "Trainable params: 160,501\n",
            "Non-trainable params: 87,125,700\n",
            "_________________________________________________________________\n"
          ]
        }
      ]
    },
    {
      "cell_type": "code",
      "source": [
        "model.compile(loss='binary_crossentropy',\n",
        "              optimizer=\"adam\",\n",
        "              metrics=['accuracy'])"
      ],
      "metadata": {
        "id": "yGXabRFGzpX4"
      },
      "execution_count": null,
      "outputs": []
    },
    {
      "cell_type": "code",
      "source": [
        "callbacks = [ReduceLROnPlateau(monitor='val_loss', patience=5, cooldown=0),\n",
        "             EarlyStopping(monitor='val_acc', min_delta=1e-4, patience=5)]"
      ],
      "metadata": {
        "id": "93uz7tYZzyw_"
      },
      "execution_count": null,
      "outputs": []
    },
    {
      "cell_type": "code",
      "source": [
        "%%time\n",
        "history = model.fit(x_train, y_train,\n",
        "                    batch_size=BATCH_SIZE,\n",
        "                    epochs=EPOCHS,\n",
        "                    validation_split=0.1,\n",
        "                    verbose=1,\n",
        "                    callbacks=callbacks)"
      ],
      "metadata": {
        "colab": {
          "base_uri": "https://localhost:8080/"
        },
        "id": "T-_m3JTVz4M_",
        "outputId": "8e79b0cd-47ef-4422-effa-8c2153c9afec"
      },
      "execution_count": null,
      "outputs": [
        {
          "metadata": {
            "tags": null
          },
          "name": "stdout",
          "output_type": "stream",
          "text": [
            "Epoch 1/8\n",
            "1125/1125 [==============================] - ETA: 0s - loss: 0.5045 - accuracy: 0.7502WARNING:tensorflow:Early stopping conditioned on metric `val_acc` which is not available. Available metrics are: loss,accuracy,val_loss,val_accuracy,lr\n"
          ]
        },
        {
          "metadata": {
            "tags": null
          },
          "name": "stderr",
          "output_type": "stream",
          "text": [
            "2022-05-31 20:40:20,268 : WARNING : Early stopping conditioned on metric `val_acc` which is not available. Available metrics are: loss,accuracy,val_loss,val_accuracy,lr\n"
          ]
        },
        {
          "metadata": {
            "tags": null
          },
          "name": "stdout",
          "output_type": "stream",
          "text": [
            "1125/1125 [==============================] - 609s 537ms/step - loss: 0.5045 - accuracy: 0.7502 - val_loss: 0.4683 - val_accuracy: 0.7781 - lr: 0.0010\n",
            "Epoch 2/8\n",
            "1125/1125 [==============================] - ETA: 0s - loss: 0.4790 - accuracy: 0.7673WARNING:tensorflow:Early stopping conditioned on metric `val_acc` which is not available. Available metrics are: loss,accuracy,val_loss,val_accuracy,lr\n"
          ]
        },
        {
          "metadata": {
            "tags": null
          },
          "name": "stderr",
          "output_type": "stream",
          "text": [
            "2022-05-31 20:50:24,516 : WARNING : Early stopping conditioned on metric `val_acc` which is not available. Available metrics are: loss,accuracy,val_loss,val_accuracy,lr\n"
          ]
        },
        {
          "output_type": "stream",
          "name": "stdout",
          "text": [
            "1125/1125 [==============================] - 604s 537ms/step - loss: 0.4790 - accuracy: 0.7673 - val_loss: 0.4594 - val_accuracy: 0.7832 - lr: 0.0010\n",
            "Epoch 3/8\n",
            "1125/1125 [==============================] - ETA: 0s - loss: 0.4713 - accuracy: 0.7723WARNING:tensorflow:Early stopping conditioned on metric `val_acc` which is not available. Available metrics are: loss,accuracy,val_loss,val_accuracy,lr\n"
          ]
        },
        {
          "output_type": "stream",
          "name": "stderr",
          "text": [
            "2022-05-31 21:00:24,071 : WARNING : Early stopping conditioned on metric `val_acc` which is not available. Available metrics are: loss,accuracy,val_loss,val_accuracy,lr\n"
          ]
        },
        {
          "output_type": "stream",
          "name": "stdout",
          "text": [
            "\b\b\b\b\b\b\b\b\b\b\b\b\b\b\b\b\b\b\b\b\b\b\b\b\b\b\b\b\b\b\b\b\b\b\b\b\b\b\b\b\b\b\b\b\b\b\b\b\b\b\b\b\b\b\b\b\b\b\b\b\b\b\b\b\b\b\b\b\b\b\b\b\b\b\b\b\b\b\b\b\b\b\b\b\b\b\r1125/1125 [==============================] - 600s 533ms/step - loss: 0.4713 - accuracy: 0.7723 - val_loss: 0.4535 - val_accuracy: 0.7860 - lr: 0.0010\n",
            "Epoch 4/8\n",
            "1125/1125 [==============================] - ETA: 0s - loss: 0.4678 - accuracy: 0.7745WARNING:tensorflow:Early stopping conditioned on metric `val_acc` which is not available. Available metrics are: loss,accuracy,val_loss,val_accuracy,lr\n"
          ]
        },
        {
          "output_type": "stream",
          "name": "stderr",
          "text": [
            "2022-05-31 21:10:17,782 : WARNING : Early stopping conditioned on metric `val_acc` which is not available. Available metrics are: loss,accuracy,val_loss,val_accuracy,lr\n"
          ]
        },
        {
          "output_type": "stream",
          "name": "stdout",
          "text": [
            "\b\b\b\b\b\b\b\b\b\b\b\b\b\b\b\b\b\b\b\b\b\b\b\b\b\b\b\b\b\b\b\b\b\b\b\b\b\b\b\b\b\b\b\b\b\b\b\b\b\b\b\b\b\b\b\b\b\b\b\b\b\b\b\b\b\b\b\b\b\b\b\b\b\b\b\b\b\b\b\b\b\b\b\b\b\b\r1125/1125 [==============================] - 594s 528ms/step - loss: 0.4678 - accuracy: 0.7745 - val_loss: 0.4509 - val_accuracy: 0.7875 - lr: 0.0010\n",
            "Epoch 5/8\n",
            "1125/1125 [==============================] - ETA: 0s - loss: 0.4653 - accuracy: 0.7763WARNING:tensorflow:Early stopping conditioned on metric `val_acc` which is not available. Available metrics are: loss,accuracy,val_loss,val_accuracy,lr\n"
          ]
        },
        {
          "output_type": "stream",
          "name": "stderr",
          "text": [
            "2022-05-31 21:20:05,261 : WARNING : Early stopping conditioned on metric `val_acc` which is not available. Available metrics are: loss,accuracy,val_loss,val_accuracy,lr\n"
          ]
        },
        {
          "output_type": "stream",
          "name": "stdout",
          "text": [
            "\b\b\b\b\b\b\b\b\b\b\b\b\b\b\b\b\b\b\b\b\b\b\b\b\b\b\b\b\b\b\b\b\b\b\b\b\b\b\b\b\b\b\b\b\b\b\b\b\b\b\b\b\b\b\b\b\b\b\b\b\b\b\b\b\b\b\b\b\b\b\b\b\b\b\b\b\b\b\b\b\b\b\b\b\b\b\r1125/1125 [==============================] - 587s 522ms/step - loss: 0.4653 - accuracy: 0.7763 - val_loss: 0.4490 - val_accuracy: 0.7884 - lr: 0.0010\n",
            "Epoch 6/8\n",
            "1125/1125 [==============================] - ETA: 0s - loss: 0.4638 - accuracy: 0.7771WARNING:tensorflow:Early stopping conditioned on metric `val_acc` which is not available. Available metrics are: loss,accuracy,val_loss,val_accuracy,lr\n"
          ]
        },
        {
          "output_type": "stream",
          "name": "stderr",
          "text": [
            "2022-05-31 21:29:45,983 : WARNING : Early stopping conditioned on metric `val_acc` which is not available. Available metrics are: loss,accuracy,val_loss,val_accuracy,lr\n"
          ]
        },
        {
          "output_type": "stream",
          "name": "stdout",
          "text": [
            "\b\b\b\b\b\b\b\b\b\b\b\b\b\b\b\b\b\b\b\b\b\b\b\b\b\b\b\b\b\b\b\b\b\b\b\b\b\b\b\b\b\b\b\b\b\b\b\b\b\b\b\b\b\b\b\b\b\b\b\b\b\b\b\b\b\b\b\b\b\b\b\b\b\b\b\b\b\b\b\b\b\b\b\b\b\b\r1125/1125 [==============================] - 581s 516ms/step - loss: 0.4638 - accuracy: 0.7771 - val_loss: 0.4490 - val_accuracy: 0.7895 - lr: 0.0010\n",
            "Epoch 7/8\n",
            "1125/1125 [==============================] - ETA: 0s - loss: 0.4623 - accuracy: 0.7779WARNING:tensorflow:Early stopping conditioned on metric `val_acc` which is not available. Available metrics are: loss,accuracy,val_loss,val_accuracy,lr\n"
          ]
        },
        {
          "output_type": "stream",
          "name": "stderr",
          "text": [
            "2022-05-31 21:39:21,900 : WARNING : Early stopping conditioned on metric `val_acc` which is not available. Available metrics are: loss,accuracy,val_loss,val_accuracy,lr\n"
          ]
        },
        {
          "output_type": "stream",
          "name": "stdout",
          "text": [
            "\b\b\b\b\b\b\b\b\b\b\b\b\b\b\b\b\b\b\b\b\b\b\b\b\b\b\b\b\b\b\b\b\b\b\b\b\b\b\b\b\b\b\b\b\b\b\b\b\b\b\b\b\b\b\b\b\b\b\b\b\b\b\b\b\b\b\b\b\b\b\b\b\b\b\b\b\b\b\b\b\b\b\b\b\b\b\r1125/1125 [==============================] - 576s 512ms/step - loss: 0.4623 - accuracy: 0.7779 - val_loss: 0.4474 - val_accuracy: 0.7900 - lr: 0.0010\n",
            "Epoch 8/8\n",
            "1125/1125 [==============================] - ETA: 0s - loss: 0.4616 - accuracy: 0.7783WARNING:tensorflow:Early stopping conditioned on metric `val_acc` which is not available. Available metrics are: loss,accuracy,val_loss,val_accuracy,lr\n"
          ]
        },
        {
          "output_type": "stream",
          "name": "stderr",
          "text": [
            "2022-05-31 21:48:53,777 : WARNING : Early stopping conditioned on metric `val_acc` which is not available. Available metrics are: loss,accuracy,val_loss,val_accuracy,lr\n"
          ]
        },
        {
          "output_type": "stream",
          "name": "stdout",
          "text": [
            "\b\b\b\b\b\b\b\b\b\b\b\b\b\b\b\b\b\b\b\b\b\b\b\b\b\b\b\b\b\b\b\b\b\b\b\b\b\b\b\b\b\b\b\b\b\b\b\b\b\b\b\b\b\b\b\b\b\b\b\b\b\b\b\b\b\b\b\b\b\b\b\b\b\b\b\b\b\b\b\b\b\b\b\b\b\b\r1125/1125 [==============================] - 572s 508ms/step - loss: 0.4616 - accuracy: 0.7783 - val_loss: 0.4486 - val_accuracy: 0.7906 - lr: 0.0010\n",
            "CPU times: user 1h 35min 26s, sys: 5min 43s, total: 1h 41min 10s\n",
            "Wall time: 1h 19min 25s\n"
          ]
        }
      ]
    },
    {
      "cell_type": "code",
      "source": [
        "%%time\n",
        "score = model.evaluate(x_test, y_test, batch_size=BATCH_SIZE)\n",
        "\n",
        "print(\"ACCURACY:\",score[1])\n",
        "print(\"LOSS:\",score[0])"
      ],
      "metadata": {
        "colab": {
          "base_uri": "https://localhost:8080/"
        },
        "id": "YbEsvFsNz73v",
        "outputId": "8facb00b-ef28-464c-a525-8f000057ad1b"
      },
      "execution_count": null,
      "outputs": [
        {
          "output_type": "stream",
          "name": "stdout",
          "text": [
            "313/313 [==============================] - 36s 114ms/step - loss: 0.4467 - accuracy: 0.7913\n",
            "ACCURACY: 0.7913437485694885\n",
            "LOSS: 0.4466738700866699\n",
            "CPU times: user 30.9 s, sys: 1.58 s, total: 32.5 s\n",
            "Wall time: 41.6 s\n"
          ]
        }
      ]
    },
    {
      "cell_type": "code",
      "source": [
        "accuracy = history.history['accuracy']\n",
        "val_acc = history.history['val_accuracy']\n",
        "loss = history.history['loss']\n",
        "val_loss = history.history['val_loss']\n",
        " \n",
        "epochs = range(len(accuracy))\n",
        " \n",
        "plt.plot(epochs, accuracy, 'b', label='Training acc')\n",
        "plt.plot(epochs, val_acc, 'r', label='Validation acc')\n",
        "plt.title('Training and validation accuracy')\n",
        "plt.legend()\n",
        " \n",
        "plt.figure()\n",
        " \n",
        "plt.plot(epochs, loss, 'b', label='Training loss')\n",
        "plt.plot(epochs, val_loss, 'r', label='Validation loss')\n",
        "plt.title('Training and validation loss')\n",
        "plt.legend()\n",
        " \n",
        "plt.show()"
      ],
      "metadata": {
        "colab": {
          "base_uri": "https://localhost:8080/",
          "height": 545
        },
        "id": "f6VHDic1GhoK",
        "outputId": "6a72f081-a307-4825-a0f6-18fc5f1fba3e"
      },
      "execution_count": null,
      "outputs": [
        {
          "output_type": "display_data",
          "data": {
            "text/plain": [
              "<Figure size 432x288 with 1 Axes>"
            ],
            "image/png": "[encoded data removed]"
          },
          "metadata": {
            "needs_background": "light"
          }
        },
        {
          "output_type": "display_data",
          "data": {
            "text/plain": [
              "<Figure size 432x288 with 1 Axes>"
            ],
            "image/png": "[encoded data removed]"
          },
          "metadata": {
            "needs_background": "light"
          }
        }
      ]
    },
    {
      "cell_type": "code",
      "source": [
        "def decode_sentiment(score, include_neutral=True):\n",
        "    if include_neutral:        \n",
        "        label = NEUTRAL\n",
        "        if score <= SENTIMENT_THRESHOLDS[0]:\n",
        "            label = NEGATIVE\n",
        "        elif score >= SENTIMENT_THRESHOLDS[1]:\n",
        "            label = POSITIVE\n",
        "\n",
        "        return label\n",
        "    else:\n",
        "        return NEGATIVE if score < 0.5 else POSITIVE"
      ],
      "metadata": {
        "id": "cg1emqozG_MQ"
      },
      "execution_count": null,
      "outputs": []
    },
    {
      "cell_type": "code",
      "source": [
        "def predict(text, include_neutral=True):\n",
        "    start_at = time.time()\n",
        "    \n",
        "    x_test = pad_sequences(tokenizer.texts_to_sequences([text]),\n",
        "                           maxlen=SEQUENCE_LENGTH)\n",
        "    \n",
        "    score = model.predict([x_test])[0]\n",
        "    \n",
        "    label = decode_sentiment(score, include_neutral=include_neutral)\n",
        "\n",
        "    return {\"label\": label, \n",
        "            \"score\": float(score),\n",
        "            \"elapsed_time\": time.time() - start_at}"
      ],
      "metadata": {
        "id": "9A910rkWHIqJ"
      },
      "execution_count": null,
      "outputs": []
    },
    {
      "cell_type": "code",
      "source": [
        "predict(\"I love the music\")"
      ],
      "metadata": {
        "colab": {
          "base_uri": "https://localhost:8080/"
        },
        "id": "h7EO1BT8HMPJ",
        "outputId": "2704b6d4-7e01-41a7-f31c-bcfa15f3d0a9"
      },
      "execution_count": null,
      "outputs": [
        {
          "output_type": "execute_result",
          "data": {
            "text/plain": [
              "{'elapsed_time': 0.4475138187408447,\n",
              " 'label': 'POSITIVE',\n",
              " 'score': 0.9813350439071655}"
            ]
          },
          "metadata": {},
          "execution_count": 37
        }
      ]
    },
    {
      "cell_type": "code",
      "source": [
        "predict(\"that's a good product\")"
      ],
      "metadata": {
        "colab": {
          "base_uri": "https://localhost:8080/"
        },
        "id": "LFAqclYvHQeZ",
        "outputId": "6f7770c4-81e6-4fa2-cfdc-bd31de2d2698"
      },
      "execution_count": null,
      "outputs": [
        {
          "output_type": "execute_result",
          "data": {
            "text/plain": [
              "{'elapsed_time': 0.18321800231933594,\n",
              " 'label': 'POSITIVE',\n",
              " 'score': 0.9309460520744324}"
            ]
          },
          "metadata": {},
          "execution_count": 39
        }
      ]
    },
    {
      "cell_type": "code",
      "source": [
        "predict(\"fuck you\")"
      ],
      "metadata": {
        "colab": {
          "base_uri": "https://localhost:8080/"
        },
        "id": "aixbE0-kHbRg",
        "outputId": "fe097d9d-2fb4-4fe0-8e71-cd40ec5274d8"
      },
      "execution_count": null,
      "outputs": [
        {
          "output_type": "execute_result",
          "data": {
            "text/plain": [
              "{'elapsed_time': 0.19585275650024414,\n",
              " 'label': 'NEGATIVE',\n",
              " 'score': 0.19543880224227905}"
            ]
          },
          "metadata": {},
          "execution_count": 41
        }
      ]
    },
    {
      "cell_type": "code",
      "source": [
        "%%time\n",
        "y_pred_1d = []\n",
        "y_test_1d = list(df_test.target)\n",
        "scores = model.predict(x_test, verbose=1, batch_size=8000)\n",
        "y_pred_1d = [decode_sentiment(score, include_neutral=False) for score in scores]"
      ],
      "metadata": {
        "colab": {
          "base_uri": "https://localhost:8080/"
        },
        "id": "DK2tRyRmHpYo",
        "outputId": "3abee7b4-d948-4ee5-8a92-c43da4df88fa"
      },
      "execution_count": null,
      "outputs": [
        {
          "output_type": "stream",
          "name": "stdout",
          "text": [
            "40/40 [==============================] - 22s 544ms/step\n",
            "CPU times: user 13.8 s, sys: 8.45 s, total: 22.3 s\n",
            "Wall time: 22.6 s\n"
          ]
        }
      ]
    },
    {
      "cell_type": "code",
      "source": [
        "def plot_confusion_matrix(cm, \n",
        "                          classes,\n",
        "                          title='Confusion matrix',\n",
        "                          cmap=plt.cm.Blues):\n",
        "\n",
        "    cm = cm.astype('float') / cm.sum(axis=1)[:, np.newaxis]\n",
        "\n",
        "    plt.imshow(cm, interpolation='nearest', cmap=cmap)\n",
        "    plt.title(title, fontsize=30)\n",
        "    plt.colorbar()\n",
        "    tick_marks = np.arange(len(classes))\n",
        "    plt.xticks(tick_marks, classes, rotation=90, fontsize=22)\n",
        "    plt.yticks(tick_marks, classes, fontsize=22)\n",
        "\n",
        "    fmt = '.2f'\n",
        "    thresh = cm.max() / 2.\n",
        "    for i, j in itertools.product(range(cm.shape[0]), range(cm.shape[1])):\n",
        "        plt.text(j, i, format(cm[i, j], fmt),\n",
        "                 horizontalalignment=\"center\",\n",
        "                 color=\"white\" if cm[i, j] > thresh else \"black\")\n",
        "\n",
        "    plt.ylabel('True label', fontsize=25)\n",
        "    plt.xlabel('Predicted label', fontsize=25)"
      ],
      "metadata": {
        "id": "LD1wlTSkHxgY"
      },
      "execution_count": null,
      "outputs": []
    },
    {
      "cell_type": "code",
      "source": [
        "%%time\n",
        "\n",
        "cnf_matrix = confusion_matrix(y_test_1d, y_pred_1d)\n",
        "plt.figure(figsize=(12,12))\n",
        "plot_confusion_matrix(cnf_matrix,\n",
        "                      classes=df_train.target.unique(),\n",
        "                      title=\"Confusion matrix\")\n",
        "\n",
        "plt.show()"
      ],
      "metadata": {
        "colab": {
          "base_uri": "https://localhost:8080/",
          "height": 805
        },
        "id": "iI5GcKORH57g",
        "outputId": "820c4a3b-6fa0-4983-ca96-cc36dcf528c9"
      },
      "execution_count": null,
      "outputs": [
        {
          "output_type": "display_data",
          "data": {
            "text/plain": [
              "<Figure size 864x864 with 2 Axes>"
            ],
            "image/png": "[encoded data removed]"
          },
          "metadata": {
            "needs_background": "light"
          }
        },
        {
          "output_type": "stream",
          "name": "stdout",
          "text": [
            "CPU times: user 1.82 s, sys: 32.1 ms, total: 1.85 s\n",
            "Wall time: 1.98 s\n"
          ]
        }
      ]
    },
    {
      "cell_type": "code",
      "source": [
        "print(classification_report(y_test_1d, y_pred_1d))"
      ],
      "metadata": {
        "colab": {
          "base_uri": "https://localhost:8080/"
        },
        "id": "oMKAIQV8IJro",
        "outputId": "486ca157-787f-4e2d-a676-b5c29eff0ec8"
      },
      "execution_count": null,
      "outputs": [
        {
          "output_type": "stream",
          "name": "stdout",
          "text": [
            "              precision    recall  f1-score   support\n",
            "\n",
            "    NEGATIVE       0.80      0.78      0.79    159494\n",
            "    POSITIVE       0.79      0.80      0.79    160506\n",
            "\n",
            "    accuracy                           0.79    320000\n",
            "   macro avg       0.79      0.79      0.79    320000\n",
            "weighted avg       0.79      0.79      0.79    320000\n",
            "\n"
          ]
        }
      ]
    },
    {
      "cell_type": "code",
      "source": [
        "accuracy_score(y_test_1d, y_pred_1d)"
      ],
      "metadata": {
        "colab": {
          "base_uri": "https://localhost:8080/"
        },
        "id": "JRtJJi7nIT3I",
        "outputId": "c245138d-1309-475f-bf7b-b3c691fcdca7"
      },
      "execution_count": null,
      "outputs": [
        {
          "output_type": "execute_result",
          "data": {
            "text/plain": [
              "0.79134375"
            ]
          },
          "metadata": {},
          "execution_count": 47
        }
      ]
    },
    {
      "cell_type": "code",
      "source": [
        "model.save(KERAS_MODEL)\n",
        "pickle.dump(tokenizer, open(TOKENIZER_MODEL, \"wb\"), protocol=0)\n",
        "pickle.dump(encoder, open(ENCODER_MODEL, \"wb\"), protocol=0)"
      ],
      "metadata": {
        "id": "_fFzSbxcIaTn"
      },
      "execution_count": null,
      "outputs": []
    },
    {
      "cell_type": "code",
      "source": [
        "w2v_model.save(WORD2VEC_MODEL)"
      ],
      "metadata": {
        "colab": {
          "base_uri": "https://localhost:8080/"
        },
        "id": "VDk3-B3DIgFv",
        "outputId": "bc0bc937-887b-493a-972c-883ef7632d53"
      },
      "execution_count": null,
      "outputs": [
        {
          "output_type": "stream",
          "name": "stderr",
          "text": [
            "2022-05-31 22:00:21,206 : INFO : saving Word2Vec object under model.w2v, separately None\n",
            "2022-05-31 22:00:21,213 : INFO : not storing attribute vectors_norm\n",
            "2022-05-31 22:00:21,214 : INFO : not storing attribute cum_table\n",
            "2022-05-31 22:00:22,165 : INFO : saved model.w2v\n"
          ]
        }
      ]
    },
    {
      "cell_type": "code",
      "source": [],
      "metadata": {
        "id": "gH9TneiZIk9n"
      },
      "execution_count": null,
      "outputs": []
    }
  ]
}